{
 "cells": [
  {
   "cell_type": "code",
   "execution_count": 7,
   "metadata": {},
   "outputs": [],
   "source": [
    "import torch\n",
    "import numpy as np\n",
    "import pandas as pd\n",
    "\n",
    "import matplotlib.pyplot as plt\n",
    "\n",
    "from Model.model import VAE \n",
    "from utils.trainer import VAETrainer\n",
    "from utils.losses import vae_loss\n",
    "from utils.data import SignalData"
   ]
  },
  {
   "cell_type": "code",
   "execution_count": 8,
   "metadata": {},
   "outputs": [],
   "source": [
    "device = \"cuda\" if torch.cuda.is_available() else \"cpu\"\n",
    "signal_data = SignalData(csv_file=\"Data/TASK-ML-INTERN.csv\", device = device)\n",
    "signal_data.split_data()\n",
    "trainloader, valloader, testloader = signal_data.create_dataloader(batch_size=16)"
   ]
  },
  {
   "cell_type": "code",
   "execution_count": 9,
   "metadata": {},
   "outputs": [],
   "source": [
    "model = VAE(input_dim=448, hidden_dim=128, latent_dim=8)\n",
    "model = model.to(device)\n",
    "optimizer = torch.optim.Adam(model.parameters(), lr=0.00001)\n",
    "epochs = 500"
   ]
  },
  {
   "cell_type": "code",
   "execution_count": 10,
   "metadata": {},
   "outputs": [],
   "source": [
    "trainer = VAETrainer(model = model, loss_fn=vae_loss, optimizer=optimizer, model_name=\"best_VAE_8d.pt\", epochs = epochs, device = device)"
   ]
  },
  {
   "cell_type": "code",
   "execution_count": 11,
   "metadata": {},
   "outputs": [
    {
     "name": "stderr",
     "output_type": "stream",
     "text": [
      "  0%|          | 2/500 [00:00<00:44, 11.12it/s]"
     ]
    },
    {
     "name": "stdout",
     "output_type": "stream",
     "text": [
      "Epoch 0/500 : trainloss = 3.7549226760864256 valloss = 2.22820932418108\n",
      "Epoch 1/500 : trainloss = 2.0463402605056764 valloss = 1.1907069087028503\n",
      "Epoch 2/500 : trainloss = 1.0952039408683776 valloss = 0.6518363207578659\n"
     ]
    },
    {
     "name": "stderr",
     "output_type": "stream",
     "text": [
      "  1%|          | 6/500 [00:00<00:39, 12.56it/s]"
     ]
    },
    {
     "name": "stdout",
     "output_type": "stream",
     "text": [
      "Epoch 3/500 : trainloss = 0.6073440289497376 valloss = 0.37874822318553925\n",
      "Epoch 4/500 : trainloss = 0.3534196138381958 valloss = 0.23187698051333427\n",
      "Epoch 5/500 : trainloss = 0.2154311555624008 valloss = 0.15256280079483986\n"
     ]
    },
    {
     "name": "stderr",
     "output_type": "stream",
     "text": [
      "  2%|▏         | 8/500 [00:00<00:39, 12.56it/s]"
     ]
    },
    {
     "name": "stdout",
     "output_type": "stream",
     "text": [
      "Epoch 6/500 : trainloss = 0.1405076053738594 valloss = 0.10968423634767532\n",
      "Epoch 7/500 : trainloss = 0.10054071366786957 valloss = 0.0887380875647068\n",
      "Epoch 8/500 : trainloss = 0.0799354687333107 valloss = 0.0765293538570404\n"
     ]
    },
    {
     "name": "stderr",
     "output_type": "stream",
     "text": [
      "  2%|▏         | 12/500 [00:00<00:38, 12.82it/s]"
     ]
    },
    {
     "name": "stdout",
     "output_type": "stream",
     "text": [
      "Epoch 9/500 : trainloss = 0.06960787385702133 valloss = 0.07114583067595959\n",
      "Epoch 10/500 : trainloss = 0.06424955800175666 valloss = 0.06739523261785507\n",
      "Epoch 11/500 : trainloss = 0.06115523412823677 valloss = 0.06599561776965857\n"
     ]
    },
    {
     "name": "stderr",
     "output_type": "stream",
     "text": [
      "  3%|▎         | 14/500 [00:01<00:38, 12.76it/s]"
     ]
    },
    {
     "name": "stdout",
     "output_type": "stream",
     "text": [
      "Epoch 12/500 : trainloss = 0.059029344916343686 valloss = 0.0643772715702653\n",
      "Epoch 13/500 : trainloss = 0.05762450873851776 valloss = 0.06323353946208954\n",
      "Epoch 14/500 : trainloss = 0.05652776822447777 valloss = 0.06199913006275892\n"
     ]
    },
    {
     "name": "stderr",
     "output_type": "stream",
     "text": [
      "  4%|▎         | 18/500 [00:01<00:36, 13.25it/s]"
     ]
    },
    {
     "name": "stdout",
     "output_type": "stream",
     "text": [
      "Epoch 15/500 : trainloss = 0.05565460443496704 valloss = 0.06109699513763189\n",
      "Epoch 16/500 : trainloss = 0.0548469865322113 valloss = 0.06052014231681824\n",
      "Epoch 17/500 : trainloss = 0.053979690819978714 valloss = 0.059844400733709335\n"
     ]
    },
    {
     "name": "stderr",
     "output_type": "stream",
     "text": [
      "  4%|▍         | 20/500 [00:01<00:36, 13.32it/s]"
     ]
    },
    {
     "name": "stdout",
     "output_type": "stream",
     "text": [
      "Epoch 18/500 : trainloss = 0.05334008663892746 valloss = 0.05820897687226534\n",
      "Epoch 19/500 : trainloss = 0.052614320814609525 valloss = 0.05811173841357231\n",
      "Epoch 20/500 : trainloss = 0.0523030760884285 valloss = 0.058098253794014454\n"
     ]
    },
    {
     "name": "stderr",
     "output_type": "stream",
     "text": [
      "  5%|▍         | 24/500 [00:01<00:36, 13.02it/s]"
     ]
    },
    {
     "name": "stdout",
     "output_type": "stream",
     "text": [
      "Epoch 21/500 : trainloss = 0.05143597051501274 valloss = 0.056471001356840134\n",
      "Epoch 22/500 : trainloss = 0.0508336777985096 valloss = 0.05679597798734903\n",
      "Epoch 23/500 : trainloss = 0.04997564941644669 valloss = 0.05651779659092426\n"
     ]
    },
    {
     "name": "stderr",
     "output_type": "stream",
     "text": [
      "  5%|▌         | 26/500 [00:02<00:36, 12.93it/s]"
     ]
    },
    {
     "name": "stdout",
     "output_type": "stream",
     "text": [
      "Epoch 24/500 : trainloss = 0.049530883133411405 valloss = 0.05489187501370907\n",
      "Epoch 25/500 : trainloss = 0.04860332027077675 valloss = 0.05401688441634178\n",
      "Epoch 26/500 : trainloss = 0.048251563012599946 valloss = 0.05370356887578964\n"
     ]
    },
    {
     "name": "stderr",
     "output_type": "stream",
     "text": [
      "  6%|▌         | 30/500 [00:02<00:34, 13.67it/s]"
     ]
    },
    {
     "name": "stdout",
     "output_type": "stream",
     "text": [
      "Epoch 27/500 : trainloss = 0.04765686064958572 valloss = 0.053505404852330685\n",
      "Epoch 28/500 : trainloss = 0.04683938577771187 valloss = 0.052520643919706345\n",
      "Epoch 29/500 : trainloss = 0.0461014249920845 valloss = 0.05284137185662985\n"
     ]
    },
    {
     "name": "stderr",
     "output_type": "stream",
     "text": [
      "  6%|▋         | 32/500 [00:02<00:37, 12.49it/s]"
     ]
    },
    {
     "name": "stdout",
     "output_type": "stream",
     "text": [
      "Epoch 30/500 : trainloss = 0.04554293811321258 valloss = 0.05058199819177389\n",
      "Epoch 31/500 : trainloss = 0.045311137437820434 valloss = 0.04960836935788393\n",
      "Epoch 32/500 : trainloss = 0.04469935029745102 valloss = 0.04875437915325165\n"
     ]
    },
    {
     "name": "stderr",
     "output_type": "stream",
     "text": [
      "  7%|▋         | 36/500 [00:02<00:36, 12.87it/s]"
     ]
    },
    {
     "name": "stdout",
     "output_type": "stream",
     "text": [
      "Epoch 33/500 : trainloss = 0.04376532211899757 valloss = 0.049063073471188545\n",
      "Epoch 34/500 : trainloss = 0.04338969111442566 valloss = 0.048670943826436996\n",
      "Epoch 35/500 : trainloss = 0.04273950383067131 valloss = 0.04823206830769777\n"
     ]
    },
    {
     "name": "stderr",
     "output_type": "stream",
     "text": [
      "  8%|▊         | 38/500 [00:02<00:35, 13.03it/s]"
     ]
    },
    {
     "name": "stdout",
     "output_type": "stream",
     "text": [
      "Epoch 36/500 : trainloss = 0.04218217581510544 valloss = 0.04661152884364128\n",
      "Epoch 37/500 : trainloss = 0.0415235310792923 valloss = 0.04709249548614025\n",
      "Epoch 38/500 : trainloss = 0.041037774309515954 valloss = 0.04705685097724199\n"
     ]
    },
    {
     "name": "stderr",
     "output_type": "stream",
     "text": [
      "  8%|▊         | 42/500 [00:03<00:34, 13.21it/s]"
     ]
    },
    {
     "name": "stdout",
     "output_type": "stream",
     "text": [
      "Epoch 39/500 : trainloss = 0.040401976853609085 valloss = 0.045079088769853115\n",
      "Epoch 40/500 : trainloss = 0.039747686684131624 valloss = 0.043709829449653625\n",
      "Epoch 41/500 : trainloss = 0.0393692297488451 valloss = 0.04417894687503576\n"
     ]
    },
    {
     "name": "stderr",
     "output_type": "stream",
     "text": [
      "  9%|▉         | 44/500 [00:03<00:36, 12.62it/s]"
     ]
    },
    {
     "name": "stdout",
     "output_type": "stream",
     "text": [
      "Epoch 42/500 : trainloss = 0.038628559336066244 valloss = 0.04237991292029619\n",
      "Epoch 43/500 : trainloss = 0.038393318131566045 valloss = 0.04244159907102585\n",
      "Epoch 44/500 : trainloss = 0.037954476475715634 valloss = 0.043488988652825356\n"
     ]
    },
    {
     "name": "stderr",
     "output_type": "stream",
     "text": [
      " 10%|▉         | 48/500 [00:03<00:36, 12.24it/s]"
     ]
    },
    {
     "name": "stdout",
     "output_type": "stream",
     "text": [
      "Epoch 45/500 : trainloss = 0.03730789564549923 valloss = 0.042410608381032944\n",
      "Epoch 46/500 : trainloss = 0.03679475001990795 valloss = 0.04203218687325716\n",
      "Epoch 47/500 : trainloss = 0.03623263046145439 valloss = 0.04057404771447182\n"
     ]
    },
    {
     "name": "stderr",
     "output_type": "stream",
     "text": [
      " 10%|█         | 50/500 [00:03<00:37, 12.08it/s]"
     ]
    },
    {
     "name": "stdout",
     "output_type": "stream",
     "text": [
      "Epoch 48/500 : trainloss = 0.03562955968081951 valloss = 0.0406130887567997\n",
      "Epoch 49/500 : trainloss = 0.034992295429110525 valloss = 0.03972778934985399\n",
      "Epoch 50/500 : trainloss = 0.034838366135954854 valloss = 0.03996682073920965\n"
     ]
    },
    {
     "name": "stderr",
     "output_type": "stream",
     "text": [
      " 11%|█         | 54/500 [00:04<00:36, 12.37it/s]"
     ]
    },
    {
     "name": "stdout",
     "output_type": "stream",
     "text": [
      "Epoch 51/500 : trainloss = 0.03452840477228165 valloss = 0.03951255325227976\n",
      "Epoch 52/500 : trainloss = 0.033909565657377246 valloss = 0.03975467197597027\n",
      "Epoch 53/500 : trainloss = 0.03346951842308044 valloss = 0.0373197216540575\n"
     ]
    },
    {
     "name": "stderr",
     "output_type": "stream",
     "text": [
      " 11%|█         | 56/500 [00:04<00:35, 12.47it/s]"
     ]
    },
    {
     "name": "stdout",
     "output_type": "stream",
     "text": [
      "Epoch 54/500 : trainloss = 0.03300523892045021 valloss = 0.03627390135079622\n",
      "Epoch 55/500 : trainloss = 0.03244885362684727 valloss = 0.03513069357722998\n",
      "Epoch 56/500 : trainloss = 0.03205857768654823 valloss = 0.037287128157913685\n"
     ]
    },
    {
     "name": "stderr",
     "output_type": "stream",
     "text": [
      " 12%|█▏        | 60/500 [00:04<00:36, 11.97it/s]"
     ]
    },
    {
     "name": "stdout",
     "output_type": "stream",
     "text": [
      "Epoch 57/500 : trainloss = 0.03156057350337505 valloss = 0.03501974046230316\n",
      "Epoch 58/500 : trainloss = 0.031037010699510575 valloss = 0.035590194165706635\n",
      "Epoch 59/500 : trainloss = 0.03101984679698944 valloss = 0.03418904449790716\n"
     ]
    },
    {
     "name": "stderr",
     "output_type": "stream",
     "text": [
      " 12%|█▏        | 62/500 [00:04<00:36, 12.14it/s]"
     ]
    },
    {
     "name": "stdout",
     "output_type": "stream",
     "text": [
      "Epoch 60/500 : trainloss = 0.03072561003267765 valloss = 0.037604790180921555\n",
      "Epoch 61/500 : trainloss = 0.03034475140273571 valloss = 0.03445948846638203\n",
      "Epoch 62/500 : trainloss = 0.029739736318588256 valloss = 0.03241403354331851\n"
     ]
    },
    {
     "name": "stderr",
     "output_type": "stream",
     "text": [
      " 13%|█▎        | 66/500 [00:05<00:36, 11.90it/s]"
     ]
    },
    {
     "name": "stdout",
     "output_type": "stream",
     "text": [
      "Epoch 63/500 : trainloss = 0.029524268954992293 valloss = 0.0334396380931139\n",
      "Epoch 64/500 : trainloss = 0.028858656734228133 valloss = 0.031501623801887035\n",
      "Epoch 65/500 : trainloss = 0.028620325103402136 valloss = 0.033749678172171116\n"
     ]
    },
    {
     "name": "stderr",
     "output_type": "stream",
     "text": [
      " 14%|█▎        | 68/500 [00:05<00:35, 12.23it/s]"
     ]
    },
    {
     "name": "stdout",
     "output_type": "stream",
     "text": [
      "Epoch 66/500 : trainloss = 0.027911475747823714 valloss = 0.03237082343548536\n",
      "Epoch 67/500 : trainloss = 0.027948093116283417 valloss = 0.032264469657093287\n",
      "Epoch 68/500 : trainloss = 0.02724767379462719 valloss = 0.03107432322576642\n"
     ]
    },
    {
     "name": "stderr",
     "output_type": "stream",
     "text": [
      " 14%|█▍        | 72/500 [00:05<00:35, 12.06it/s]"
     ]
    },
    {
     "name": "stdout",
     "output_type": "stream",
     "text": [
      "Epoch 69/500 : trainloss = 0.02690544828772545 valloss = 0.030968512874096632\n",
      "Epoch 70/500 : trainloss = 0.02678799696266651 valloss = 0.030583654064685106\n",
      "Epoch 71/500 : trainloss = 0.026511393040418624 valloss = 0.031227800529450178\n"
     ]
    },
    {
     "name": "stderr",
     "output_type": "stream",
     "text": [
      " 15%|█▍        | 74/500 [00:05<00:35, 12.01it/s]"
     ]
    },
    {
     "name": "stdout",
     "output_type": "stream",
     "text": [
      "Epoch 72/500 : trainloss = 0.026052517145872117 valloss = 0.028853735886514187\n",
      "Epoch 73/500 : trainloss = 0.025653770491480828 valloss = 0.027678234037011862\n",
      "Epoch 74/500 : trainloss = 0.025890168622136115 valloss = 0.0288577601313591\n"
     ]
    },
    {
     "name": "stderr",
     "output_type": "stream",
     "text": [
      " 16%|█▌        | 78/500 [00:06<00:33, 12.60it/s]"
     ]
    },
    {
     "name": "stdout",
     "output_type": "stream",
     "text": [
      "Epoch 75/500 : trainloss = 0.025242640525102614 valloss = 0.03164854133501649\n",
      "Epoch 76/500 : trainloss = 0.024508400857448577 valloss = 0.027324834372848272\n",
      "Epoch 77/500 : trainloss = 0.02475629523396492 valloss = 0.027778773568570614\n"
     ]
    },
    {
     "name": "stderr",
     "output_type": "stream",
     "text": [
      " 16%|█▌        | 80/500 [00:06<00:31, 13.18it/s]"
     ]
    },
    {
     "name": "stdout",
     "output_type": "stream",
     "text": [
      "Epoch 78/500 : trainloss = 0.024365296438336372 valloss = 0.027173874899744987\n",
      "Epoch 79/500 : trainloss = 0.02339782141149044 valloss = 0.0272523146122694\n",
      "Epoch 80/500 : trainloss = 0.023975478559732435 valloss = 0.027615618892014027\n"
     ]
    },
    {
     "name": "stderr",
     "output_type": "stream",
     "text": [
      " 17%|█▋        | 84/500 [00:06<00:33, 12.43it/s]"
     ]
    },
    {
     "name": "stdout",
     "output_type": "stream",
     "text": [
      "Epoch 81/500 : trainloss = 0.02276712894439697 valloss = 0.02487556589767337\n",
      "Epoch 82/500 : trainloss = 0.023164516538381575 valloss = 0.0257446370087564\n",
      "Epoch 83/500 : trainloss = 0.02309994250535965 valloss = 0.02391059696674347\n"
     ]
    },
    {
     "name": "stderr",
     "output_type": "stream",
     "text": [
      " 17%|█▋        | 86/500 [00:06<00:32, 12.73it/s]"
     ]
    },
    {
     "name": "stdout",
     "output_type": "stream",
     "text": [
      "Epoch 84/500 : trainloss = 0.022492545545101165 valloss = 0.02439426491037011\n",
      "Epoch 85/500 : trainloss = 0.021750509440898895 valloss = 0.025817411486059427\n",
      "Epoch 86/500 : trainloss = 0.021890490055084227 valloss = 0.024929694831371307\n"
     ]
    },
    {
     "name": "stderr",
     "output_type": "stream",
     "text": [
      " 18%|█▊        | 90/500 [00:07<00:34, 11.99it/s]"
     ]
    },
    {
     "name": "stdout",
     "output_type": "stream",
     "text": [
      "Epoch 87/500 : trainloss = 0.021702560186386107 valloss = 0.027201938908547163\n",
      "Epoch 88/500 : trainloss = 0.02145980790257454 valloss = 0.0230951476842165\n",
      "Epoch 89/500 : trainloss = 0.020930405408143997 valloss = 0.022403469309210777\n"
     ]
    },
    {
     "name": "stderr",
     "output_type": "stream",
     "text": [
      " 18%|█▊        | 92/500 [00:07<00:35, 11.65it/s]"
     ]
    },
    {
     "name": "stdout",
     "output_type": "stream",
     "text": [
      "Epoch 90/500 : trainloss = 0.02079620271921158 valloss = 0.02531390357762575\n",
      "Epoch 91/500 : trainloss = 0.020589791908860205 valloss = 0.022799883503466845\n"
     ]
    },
    {
     "name": "stderr",
     "output_type": "stream",
     "text": [
      " 19%|█▉        | 94/500 [00:07<00:36, 11.01it/s]"
     ]
    },
    {
     "name": "stdout",
     "output_type": "stream",
     "text": [
      "Epoch 92/500 : trainloss = 0.020847530402243138 valloss = 0.024946545716375113\n",
      "Epoch 93/500 : trainloss = 0.019999224357306958 valloss = 0.021576146129518747\n",
      "Epoch 94/500 : trainloss = 0.019642477184534074 valloss = 0.023352228105068207\n"
     ]
    },
    {
     "name": "stderr",
     "output_type": "stream",
     "text": [
      " 20%|█▉        | 98/500 [00:07<00:35, 11.32it/s]"
     ]
    },
    {
     "name": "stdout",
     "output_type": "stream",
     "text": [
      "Epoch 95/500 : trainloss = 0.019185766018927096 valloss = 0.02171949762851\n",
      "Epoch 96/500 : trainloss = 0.018998487144708632 valloss = 0.021187392063438892\n",
      "Epoch 97/500 : trainloss = 0.01848734952509403 valloss = 0.02031762944534421\n"
     ]
    },
    {
     "name": "stderr",
     "output_type": "stream",
     "text": [
      " 20%|██        | 100/500 [00:08<00:34, 11.74it/s]"
     ]
    },
    {
     "name": "stdout",
     "output_type": "stream",
     "text": [
      "Epoch 98/500 : trainloss = 0.018446906469762325 valloss = 0.0229579946026206\n",
      "Epoch 99/500 : trainloss = 0.01824255730956793 valloss = 0.021868059877306223\n",
      "Epoch 100/500 : trainloss = 0.018332624435424806 valloss = 0.022159442771226168\n"
     ]
    },
    {
     "name": "stderr",
     "output_type": "stream",
     "text": [
      " 21%|██        | 104/500 [00:08<00:33, 11.80it/s]"
     ]
    },
    {
     "name": "stdout",
     "output_type": "stream",
     "text": [
      "Epoch 101/500 : trainloss = 0.01823958821594715 valloss = 0.02156605524942279\n",
      "Epoch 102/500 : trainloss = 0.018090808391571046 valloss = 0.02121627703309059\n",
      "Epoch 103/500 : trainloss = 0.017859281711280345 valloss = 0.020250296220183372\n"
     ]
    },
    {
     "name": "stderr",
     "output_type": "stream",
     "text": [
      " 21%|██        | 106/500 [00:08<00:31, 12.34it/s]"
     ]
    },
    {
     "name": "stdout",
     "output_type": "stream",
     "text": [
      "Epoch 104/500 : trainloss = 0.01758131705224514 valloss = 0.018349385354667902\n",
      "Epoch 105/500 : trainloss = 0.016938765309751035 valloss = 0.019786757649853826\n",
      "Epoch 106/500 : trainloss = 0.017095986008644103 valloss = 0.019452939042821527\n"
     ]
    },
    {
     "name": "stderr",
     "output_type": "stream",
     "text": [
      " 22%|██▏       | 110/500 [00:08<00:33, 11.75it/s]"
     ]
    },
    {
     "name": "stdout",
     "output_type": "stream",
     "text": [
      "Epoch 107/500 : trainloss = 0.017079633325338364 valloss = 0.019691401161253452\n",
      "Epoch 108/500 : trainloss = 0.01641769114881754 valloss = 0.01775900088250637\n",
      "Epoch 109/500 : trainloss = 0.01640698317438364 valloss = 0.02044197591021657\n"
     ]
    },
    {
     "name": "stderr",
     "output_type": "stream",
     "text": [
      " 22%|██▏       | 112/500 [00:09<00:32, 12.00it/s]"
     ]
    },
    {
     "name": "stdout",
     "output_type": "stream",
     "text": [
      "Epoch 110/500 : trainloss = 0.016451059617102148 valloss = 0.018719013780355453\n",
      "Epoch 111/500 : trainloss = 0.016180590614676475 valloss = 0.01716902293264866\n",
      "Epoch 112/500 : trainloss = 0.015671215914189816 valloss = 0.018291502259671688\n"
     ]
    },
    {
     "name": "stderr",
     "output_type": "stream",
     "text": [
      " 23%|██▎       | 116/500 [00:09<00:30, 12.43it/s]"
     ]
    },
    {
     "name": "stdout",
     "output_type": "stream",
     "text": [
      "Epoch 113/500 : trainloss = 0.015652207620441914 valloss = 0.01731829484924674\n",
      "Epoch 114/500 : trainloss = 0.014979966655373574 valloss = 0.017973488196730614\n",
      "Epoch 115/500 : trainloss = 0.015345873050391675 valloss = 0.019423488527536392\n"
     ]
    },
    {
     "name": "stderr",
     "output_type": "stream",
     "text": [
      " 24%|██▎       | 118/500 [00:09<00:31, 12.06it/s]"
     ]
    },
    {
     "name": "stdout",
     "output_type": "stream",
     "text": [
      "Epoch 116/500 : trainloss = 0.015229495465755463 valloss = 0.017959384713321924\n",
      "Epoch 117/500 : trainloss = 0.014639283642172813 valloss = 0.017560293897986412\n",
      "Epoch 118/500 : trainloss = 0.014697030372917651 valloss = 0.016104465816169977\n"
     ]
    },
    {
     "name": "stderr",
     "output_type": "stream",
     "text": [
      " 24%|██▍       | 122/500 [00:09<00:30, 12.24it/s]"
     ]
    },
    {
     "name": "stdout",
     "output_type": "stream",
     "text": [
      "Epoch 119/500 : trainloss = 0.014927856735885143 valloss = 0.015670909779146314\n",
      "Epoch 120/500 : trainloss = 0.014869899600744247 valloss = 0.014822802972048521\n",
      "Epoch 121/500 : trainloss = 0.014431845881044864 valloss = 0.015805186703801155\n",
      "Epoch 122/500 : trainloss = 0.014055648855865 valloss = 0.014969451818615198\n"
     ]
    },
    {
     "name": "stderr",
     "output_type": "stream",
     "text": [
      " 25%|██▌       | 126/500 [00:10<00:30, 12.31it/s]"
     ]
    },
    {
     "name": "stdout",
     "output_type": "stream",
     "text": [
      "Epoch 123/500 : trainloss = 0.01421262763440609 valloss = 0.016873654909431934\n",
      "Epoch 124/500 : trainloss = 0.013850192613899708 valloss = 0.017992727691307664\n",
      "Epoch 125/500 : trainloss = 0.013910566866397857 valloss = 0.015442832373082638\n"
     ]
    },
    {
     "name": "stderr",
     "output_type": "stream",
     "text": [
      " 26%|██▌       | 128/500 [00:10<00:31, 11.84it/s]"
     ]
    },
    {
     "name": "stdout",
     "output_type": "stream",
     "text": [
      "Epoch 126/500 : trainloss = 0.014075594283640384 valloss = 0.0159392561763525\n",
      "Epoch 127/500 : trainloss = 0.013597368448972701 valloss = 0.018582802964374423\n",
      "Epoch 128/500 : trainloss = 0.013381131552159786 valloss = 0.014719442930072546\n"
     ]
    },
    {
     "name": "stderr",
     "output_type": "stream",
     "text": [
      " 26%|██▋       | 132/500 [00:10<00:30, 11.98it/s]"
     ]
    },
    {
     "name": "stdout",
     "output_type": "stream",
     "text": [
      "Epoch 129/500 : trainloss = 0.013701120913028718 valloss = 0.01671449327841401\n",
      "Epoch 130/500 : trainloss = 0.01316236037760973 valloss = 0.014037474058568478\n",
      "Epoch 131/500 : trainloss = 0.012953455299139023 valloss = 0.01536937733180821\n"
     ]
    },
    {
     "name": "stderr",
     "output_type": "stream",
     "text": [
      " 27%|██▋       | 134/500 [00:10<00:31, 11.64it/s]"
     ]
    },
    {
     "name": "stdout",
     "output_type": "stream",
     "text": [
      "Epoch 132/500 : trainloss = 0.013156834989786148 valloss = 0.013919879565946758\n",
      "Epoch 133/500 : trainloss = 0.013064045310020447 valloss = 0.013639399316161871\n",
      "Epoch 134/500 : trainloss = 0.013137120716273785 valloss = 0.017234856262803078\n"
     ]
    },
    {
     "name": "stderr",
     "output_type": "stream",
     "text": [
      " 28%|██▊       | 138/500 [00:11<00:30, 11.83it/s]"
     ]
    },
    {
     "name": "stdout",
     "output_type": "stream",
     "text": [
      "Epoch 135/500 : trainloss = 0.012613260746002197 valloss = 0.01437606941908598\n",
      "Epoch 136/500 : trainloss = 0.012804811038076878 valloss = 0.015462770592421293\n",
      "Epoch 137/500 : trainloss = 0.012297822441905738 valloss = 0.013941925019025803\n"
     ]
    },
    {
     "name": "stderr",
     "output_type": "stream",
     "text": [
      " 28%|██▊       | 140/500 [00:11<00:30, 11.72it/s]"
     ]
    },
    {
     "name": "stdout",
     "output_type": "stream",
     "text": [
      "Epoch 138/500 : trainloss = 0.012768916226923466 valloss = 0.014787972904741764\n",
      "Epoch 139/500 : trainloss = 0.012831637412309646 valloss = 0.013251141179352999\n",
      "Epoch 140/500 : trainloss = 0.011881969533860684 valloss = 0.014274607179686427\n"
     ]
    },
    {
     "name": "stderr",
     "output_type": "stream",
     "text": [
      " 29%|██▉       | 144/500 [00:11<00:29, 12.02it/s]"
     ]
    },
    {
     "name": "stdout",
     "output_type": "stream",
     "text": [
      "Epoch 141/500 : trainloss = 0.011829814538359643 valloss = 0.011647004866972566\n",
      "Epoch 142/500 : trainloss = 0.011922812424600124 valloss = 0.01245457655750215\n",
      "Epoch 143/500 : trainloss = 0.011847470998764037 valloss = 0.012460024328902364\n"
     ]
    },
    {
     "name": "stderr",
     "output_type": "stream",
     "text": [
      " 29%|██▉       | 146/500 [00:11<00:29, 12.15it/s]"
     ]
    },
    {
     "name": "stdout",
     "output_type": "stream",
     "text": [
      "Epoch 144/500 : trainloss = 0.01182897860184312 valloss = 0.014589130645617843\n",
      "Epoch 145/500 : trainloss = 0.011686386987566948 valloss = 0.012527509359642863\n",
      "Epoch 146/500 : trainloss = 0.011529791802167892 valloss = 0.013149047270417213\n"
     ]
    },
    {
     "name": "stderr",
     "output_type": "stream",
     "text": [
      " 30%|███       | 150/500 [00:12<00:27, 12.87it/s]"
     ]
    },
    {
     "name": "stdout",
     "output_type": "stream",
     "text": [
      "Epoch 147/500 : trainloss = 0.011255502328276634 valloss = 0.01267397846095264\n",
      "Epoch 148/500 : trainloss = 0.01152104053646326 valloss = 0.012386465910822153\n",
      "Epoch 149/500 : trainloss = 0.011509944684803486 valloss = 0.012593412771821022\n"
     ]
    },
    {
     "name": "stderr",
     "output_type": "stream",
     "text": [
      " 30%|███       | 152/500 [00:12<00:26, 12.96it/s]"
     ]
    },
    {
     "name": "stdout",
     "output_type": "stream",
     "text": [
      "Epoch 150/500 : trainloss = 0.011049802284687757 valloss = 0.012764914776198566\n",
      "Epoch 151/500 : trainloss = 0.011174318604171276 valloss = 0.01204795518424362\n",
      "Epoch 152/500 : trainloss = 0.010702397599816322 valloss = 0.010623905924148858\n"
     ]
    },
    {
     "name": "stderr",
     "output_type": "stream",
     "text": [
      " 31%|███       | 156/500 [00:12<00:27, 12.35it/s]"
     ]
    },
    {
     "name": "stdout",
     "output_type": "stream",
     "text": [
      "Epoch 153/500 : trainloss = 0.011028643921017647 valloss = 0.011919352924451232\n",
      "Epoch 154/500 : trainloss = 0.010801851525902748 valloss = 0.012152452720329165\n",
      "Epoch 155/500 : trainloss = 0.010319805853068829 valloss = 0.011594864539802074\n"
     ]
    },
    {
     "name": "stderr",
     "output_type": "stream",
     "text": [
      " 32%|███▏      | 158/500 [00:12<00:27, 12.51it/s]"
     ]
    },
    {
     "name": "stdout",
     "output_type": "stream",
     "text": [
      "Epoch 156/500 : trainloss = 0.0107001025788486 valloss = 0.013607252854853868\n",
      "Epoch 157/500 : trainloss = 0.010467594712972641 valloss = 0.010259189177304506\n",
      "Epoch 158/500 : trainloss = 0.010595132410526276 valloss = 0.010590245947241783\n"
     ]
    },
    {
     "name": "stderr",
     "output_type": "stream",
     "text": [
      " 32%|███▏      | 162/500 [00:13<00:24, 13.56it/s]"
     ]
    },
    {
     "name": "stdout",
     "output_type": "stream",
     "text": [
      "Epoch 159/500 : trainloss = 0.010427835397422314 valloss = 0.010291406535543501\n",
      "Epoch 160/500 : trainloss = 0.010196422804147004 valloss = 0.012433819007128477\n",
      "Epoch 161/500 : trainloss = 0.01056515058502555 valloss = 0.01117146317847073\n",
      "Epoch 162/500 : trainloss = 0.010754908118396998 valloss = 0.011580912163481116\n"
     ]
    },
    {
     "name": "stderr",
     "output_type": "stream",
     "text": [
      " 33%|███▎      | 166/500 [00:13<00:24, 13.82it/s]"
     ]
    },
    {
     "name": "stdout",
     "output_type": "stream",
     "text": [
      "Epoch 163/500 : trainloss = 0.009925280902534724 valloss = 0.011486235773190856\n",
      "Epoch 164/500 : trainloss = 0.010122178960591555 valloss = 0.010956819402053952\n",
      "Epoch 165/500 : trainloss = 0.010064893402159214 valloss = 0.0121295265853405\n"
     ]
    },
    {
     "name": "stderr",
     "output_type": "stream",
     "text": [
      " 34%|███▎      | 168/500 [00:13<00:24, 13.50it/s]"
     ]
    },
    {
     "name": "stdout",
     "output_type": "stream",
     "text": [
      "Epoch 166/500 : trainloss = 0.00975109888240695 valloss = 0.011419840855523944\n",
      "Epoch 167/500 : trainloss = 0.009769720789045096 valloss = 0.010298170964233577\n",
      "Epoch 168/500 : trainloss = 0.01015920978039503 valloss = 0.011491727782413363\n"
     ]
    },
    {
     "name": "stderr",
     "output_type": "stream",
     "text": [
      " 34%|███▍      | 172/500 [00:13<00:27, 11.83it/s]"
     ]
    },
    {
     "name": "stdout",
     "output_type": "stream",
     "text": [
      "Epoch 169/500 : trainloss = 0.00977111268788576 valloss = 0.013047906570136547\n",
      "Epoch 170/500 : trainloss = 0.009695038869976998 valloss = 0.009628818486817181\n",
      "Epoch 171/500 : trainloss = 0.009653782080858946 valloss = 0.011755884625017643\n"
     ]
    },
    {
     "name": "stderr",
     "output_type": "stream",
     "text": [
      " 35%|███▌      | 176/500 [00:14<00:24, 13.16it/s]"
     ]
    },
    {
     "name": "stdout",
     "output_type": "stream",
     "text": [
      "Epoch 172/500 : trainloss = 0.009478180725127459 valloss = 0.010738863493315876\n",
      "Epoch 173/500 : trainloss = 0.009584830887615681 valloss = 0.010936339269392192\n",
      "Epoch 174/500 : trainloss = 0.009462678078562022 valloss = 0.010121169150806963\n",
      "Epoch 175/500 : trainloss = 0.009428714625537396 valloss = 0.011139733018353581\n"
     ]
    },
    {
     "name": "stderr",
     "output_type": "stream",
     "text": [
      " 36%|███▌      | 178/500 [00:14<00:25, 12.69it/s]"
     ]
    },
    {
     "name": "stdout",
     "output_type": "stream",
     "text": [
      "Epoch 176/500 : trainloss = 0.009040991254150867 valloss = 0.011002682149410248\n",
      "Epoch 177/500 : trainloss = 0.009277464002370834 valloss = 0.012280387687496841\n",
      "Epoch 178/500 : trainloss = 0.009154036697000266 valloss = 0.010254412773065269\n"
     ]
    },
    {
     "name": "stderr",
     "output_type": "stream",
     "text": [
      " 36%|███▋      | 182/500 [00:14<00:26, 12.04it/s]"
     ]
    },
    {
     "name": "stdout",
     "output_type": "stream",
     "text": [
      "Epoch 179/500 : trainloss = 0.009062927663326264 valloss = 0.010747435153461993\n",
      "Epoch 180/500 : trainloss = 0.0087662791647017 valloss = 0.009238570230081677\n",
      "Epoch 181/500 : trainloss = 0.009276941064745187 valloss = 0.008896004175767303\n"
     ]
    },
    {
     "name": "stderr",
     "output_type": "stream",
     "text": [
      " 37%|███▋      | 184/500 [00:14<00:25, 12.21it/s]"
     ]
    },
    {
     "name": "stdout",
     "output_type": "stream",
     "text": [
      "Epoch 182/500 : trainloss = 0.00900203311815858 valloss = 0.008872296661138535\n",
      "Epoch 183/500 : trainloss = 0.009089476335793734 valloss = 0.0095718716038391\n",
      "Epoch 184/500 : trainloss = 0.008965796399861574 valloss = 0.011464414303191006\n"
     ]
    },
    {
     "name": "stderr",
     "output_type": "stream",
     "text": [
      " 38%|███▊      | 188/500 [00:15<00:24, 12.96it/s]"
     ]
    },
    {
     "name": "stdout",
     "output_type": "stream",
     "text": [
      "Epoch 185/500 : trainloss = 0.008916940186172723 valloss = 0.010524182696826756\n",
      "Epoch 186/500 : trainloss = 0.008819833155721426 valloss = 0.009211971424520016\n",
      "Epoch 187/500 : trainloss = 0.008614334389567374 valloss = 0.009371393942274153\n",
      "Epoch 188/500 : trainloss = 0.008803540579974652 valloss = 0.00887475733179599\n"
     ]
    },
    {
     "name": "stderr",
     "output_type": "stream",
     "text": [
      " 38%|███▊      | 192/500 [00:15<00:21, 14.49it/s]"
     ]
    },
    {
     "name": "stdout",
     "output_type": "stream",
     "text": [
      "Epoch 189/500 : trainloss = 0.008953822199255229 valloss = 0.008938066195696592\n",
      "Epoch 190/500 : trainloss = 0.008770063482224942 valloss = 0.009262207546271384\n",
      "Epoch 191/500 : trainloss = 0.008480566143989563 valloss = 0.00946015608496964\n",
      "Epoch 192/500 : trainloss = 0.008550530020147561 valloss = 0.009215163299813867\n"
     ]
    },
    {
     "name": "stderr",
     "output_type": "stream",
     "text": [
      " 39%|███▉      | 196/500 [00:15<00:20, 15.01it/s]"
     ]
    },
    {
     "name": "stdout",
     "output_type": "stream",
     "text": [
      "Epoch 193/500 : trainloss = 0.008777522705495358 valloss = 0.00883354910183698\n",
      "Epoch 194/500 : trainloss = 0.008535150345414877 valloss = 0.009034480026457459\n",
      "Epoch 195/500 : trainloss = 0.008980583976954221 valloss = 0.008655762125272304\n"
     ]
    },
    {
     "name": "stderr",
     "output_type": "stream",
     "text": [
      " 40%|███▉      | 198/500 [00:15<00:21, 14.10it/s]"
     ]
    },
    {
     "name": "stdout",
     "output_type": "stream",
     "text": [
      "Epoch 196/500 : trainloss = 0.008385961782187224 valloss = 0.008080816827714443\n",
      "Epoch 197/500 : trainloss = 0.00868964534252882 valloss = 0.009868089808151126\n",
      "Epoch 198/500 : trainloss = 0.008560716826468705 valloss = 0.00933485315181315\n"
     ]
    },
    {
     "name": "stderr",
     "output_type": "stream",
     "text": [
      " 40%|████      | 202/500 [00:16<00:22, 13.34it/s]"
     ]
    },
    {
     "name": "stdout",
     "output_type": "stream",
     "text": [
      "Epoch 199/500 : trainloss = 0.008415223918855191 valloss = 0.008949568727985024\n",
      "Epoch 200/500 : trainloss = 0.008236316163092852 valloss = 0.008212892455048859\n",
      "Epoch 201/500 : trainloss = 0.008321490045636893 valloss = 0.008840460854116827\n"
     ]
    },
    {
     "name": "stderr",
     "output_type": "stream",
     "text": [
      " 41%|████      | 204/500 [00:16<00:21, 13.56it/s]"
     ]
    },
    {
     "name": "stdout",
     "output_type": "stream",
     "text": [
      "Epoch 202/500 : trainloss = 0.008498947769403457 valloss = 0.00783753301948309\n",
      "Epoch 203/500 : trainloss = 0.008249458111822604 valloss = 0.0094659662572667\n",
      "Epoch 204/500 : trainloss = 0.00811406947672367 valloss = 0.0071949250414036214\n"
     ]
    },
    {
     "name": "stderr",
     "output_type": "stream",
     "text": [
      " 42%|████▏     | 208/500 [00:16<00:21, 13.28it/s]"
     ]
    },
    {
     "name": "stdout",
     "output_type": "stream",
     "text": [
      "Epoch 205/500 : trainloss = 0.008379160817712545 valloss = 0.007419479312375188\n",
      "Epoch 206/500 : trainloss = 0.00826693007722497 valloss = 0.008498253882862628\n",
      "Epoch 207/500 : trainloss = 0.008084536828100682 valloss = 0.009182157344184816\n"
     ]
    },
    {
     "name": "stderr",
     "output_type": "stream",
     "text": [
      " 42%|████▏     | 210/500 [00:16<00:21, 13.33it/s]"
     ]
    },
    {
     "name": "stdout",
     "output_type": "stream",
     "text": [
      "Epoch 208/500 : trainloss = 0.008312670588493347 valloss = 0.009927604347467422\n",
      "Epoch 209/500 : trainloss = 0.007805469818413258 valloss = 0.008026812341995537\n",
      "Epoch 210/500 : trainloss = 0.008180035576224327 valloss = 0.008394888194743544\n"
     ]
    },
    {
     "name": "stderr",
     "output_type": "stream",
     "text": [
      " 43%|████▎     | 214/500 [00:17<00:21, 13.16it/s]"
     ]
    },
    {
     "name": "stdout",
     "output_type": "stream",
     "text": [
      "Epoch 211/500 : trainloss = 0.007798257991671562 valloss = 0.008435720577836037\n",
      "Epoch 212/500 : trainloss = 0.00803172305226326 valloss = 0.008204038080293685\n",
      "Epoch 213/500 : trainloss = 0.007799037024378777 valloss = 0.0077910729451105\n"
     ]
    },
    {
     "name": "stderr",
     "output_type": "stream",
     "text": [
      " 43%|████▎     | 216/500 [00:17<00:21, 13.18it/s]"
     ]
    },
    {
     "name": "stdout",
     "output_type": "stream",
     "text": [
      "Epoch 214/500 : trainloss = 0.007994440142065287 valloss = 0.009004701860249043\n",
      "Epoch 215/500 : trainloss = 0.007811861876398325 valloss = 0.009409488295204937\n",
      "Epoch 216/500 : trainloss = 0.007936547510325909 valloss = 0.008690151502378285\n"
     ]
    },
    {
     "name": "stderr",
     "output_type": "stream",
     "text": [
      " 44%|████▍     | 220/500 [00:17<00:23, 11.75it/s]"
     ]
    },
    {
     "name": "stdout",
     "output_type": "stream",
     "text": [
      "Epoch 217/500 : trainloss = 0.007738311160355806 valloss = 0.009225808433257043\n",
      "Epoch 218/500 : trainloss = 0.007753254491835833 valloss = 0.00803516583982855\n",
      "Epoch 219/500 : trainloss = 0.007499458529055119 valloss = 0.0069869463914074\n"
     ]
    },
    {
     "name": "stderr",
     "output_type": "stream",
     "text": [
      " 44%|████▍     | 222/500 [00:17<00:23, 11.80it/s]"
     ]
    },
    {
     "name": "stdout",
     "output_type": "stream",
     "text": [
      "Epoch 220/500 : trainloss = 0.007545615043491125 valloss = 0.006889393902383745\n",
      "Epoch 221/500 : trainloss = 0.007337565496563911 valloss = 0.007265397463925183\n",
      "Epoch 222/500 : trainloss = 0.007752567455172539 valloss = 0.008311226847581565\n"
     ]
    },
    {
     "name": "stderr",
     "output_type": "stream",
     "text": [
      " 45%|████▌     | 226/500 [00:18<00:22, 12.03it/s]"
     ]
    },
    {
     "name": "stdout",
     "output_type": "stream",
     "text": [
      "Epoch 223/500 : trainloss = 0.007526951339095831 valloss = 0.008693991112522781\n",
      "Epoch 224/500 : trainloss = 0.007560441922396422 valloss = 0.007333529531024396\n",
      "Epoch 225/500 : trainloss = 0.007677807919681073 valloss = 0.00867365370504558\n"
     ]
    },
    {
     "name": "stderr",
     "output_type": "stream",
     "text": [
      " 46%|████▌     | 228/500 [00:18<00:22, 11.91it/s]"
     ]
    },
    {
     "name": "stdout",
     "output_type": "stream",
     "text": [
      "Epoch 226/500 : trainloss = 0.007591859977692366 valloss = 0.006660850893240422\n",
      "Epoch 227/500 : trainloss = 0.007643477115780115 valloss = 0.00786391063593328\n",
      "Epoch 228/500 : trainloss = 0.007413144242018461 valloss = 0.008132873335853219\n"
     ]
    },
    {
     "name": "stderr",
     "output_type": "stream",
     "text": [
      " 46%|████▋     | 232/500 [00:18<00:21, 12.22it/s]"
     ]
    },
    {
     "name": "stdout",
     "output_type": "stream",
     "text": [
      "Epoch 229/500 : trainloss = 0.0072184627130627635 valloss = 0.006911794422194362\n",
      "Epoch 230/500 : trainloss = 0.007624885272234678 valloss = 0.00691160059068352\n",
      "Epoch 231/500 : trainloss = 0.0075323633663356305 valloss = 0.007718477223534137\n"
     ]
    },
    {
     "name": "stderr",
     "output_type": "stream",
     "text": [
      " 47%|████▋     | 234/500 [00:18<00:20, 12.82it/s]"
     ]
    },
    {
     "name": "stdout",
     "output_type": "stream",
     "text": [
      "Epoch 232/500 : trainloss = 0.007314692903310061 valloss = 0.009291890310123563\n",
      "Epoch 233/500 : trainloss = 0.007331045866012573 valloss = 0.007643517339602113\n",
      "Epoch 234/500 : trainloss = 0.0071261032484471794 valloss = 0.007059117895551026\n"
     ]
    },
    {
     "name": "stderr",
     "output_type": "stream",
     "text": [
      " 48%|████▊     | 238/500 [00:19<00:20, 12.82it/s]"
     ]
    },
    {
     "name": "stdout",
     "output_type": "stream",
     "text": [
      "Epoch 235/500 : trainloss = 0.00743283262476325 valloss = 0.008168013184331357\n",
      "Epoch 236/500 : trainloss = 0.007542375512421131 valloss = 0.007215680554509163\n",
      "Epoch 237/500 : trainloss = 0.0074035548791289325 valloss = 0.006832170591223985\n"
     ]
    },
    {
     "name": "stderr",
     "output_type": "stream",
     "text": [
      " 48%|████▊     | 240/500 [00:19<00:20, 12.60it/s]"
     ]
    },
    {
     "name": "stdout",
     "output_type": "stream",
     "text": [
      "Epoch 238/500 : trainloss = 0.007706826664507389 valloss = 0.007465312723070383\n",
      "Epoch 239/500 : trainloss = 0.007664396092295646 valloss = 0.007243476924486458\n",
      "Epoch 240/500 : trainloss = 0.007546809259802103 valloss = 0.007029212836641818\n"
     ]
    },
    {
     "name": "stderr",
     "output_type": "stream",
     "text": [
      " 49%|████▉     | 244/500 [00:19<00:20, 12.63it/s]"
     ]
    },
    {
     "name": "stdout",
     "output_type": "stream",
     "text": [
      "Epoch 241/500 : trainloss = 0.007452909331768751 valloss = 0.006034420279320329\n",
      "Epoch 242/500 : trainloss = 0.007005803715437651 valloss = 0.008029463584534824\n",
      "Epoch 243/500 : trainloss = 0.007692305203527212 valloss = 0.007711342885158956\n"
     ]
    },
    {
     "name": "stderr",
     "output_type": "stream",
     "text": [
      " 49%|████▉     | 246/500 [00:19<00:20, 12.37it/s]"
     ]
    },
    {
     "name": "stdout",
     "output_type": "stream",
     "text": [
      "Epoch 244/500 : trainloss = 0.007288377499207854 valloss = 0.007170366181526333\n",
      "Epoch 245/500 : trainloss = 0.0070945039205253125 valloss = 0.007705789874307811\n",
      "Epoch 246/500 : trainloss = 0.0073998476378619674 valloss = 0.008015018654987216\n"
     ]
    },
    {
     "name": "stderr",
     "output_type": "stream",
     "text": [
      " 50%|█████     | 250/500 [00:20<00:20, 11.96it/s]"
     ]
    },
    {
     "name": "stdout",
     "output_type": "stream",
     "text": [
      "Epoch 247/500 : trainloss = 0.006946801375597715 valloss = 0.00963749538641423\n",
      "Epoch 248/500 : trainloss = 0.007032390870153904 valloss = 0.0075882363598793745\n",
      "Epoch 249/500 : trainloss = 0.007511141840368509 valloss = 0.00897414330393076\n"
     ]
    },
    {
     "name": "stderr",
     "output_type": "stream",
     "text": [
      " 50%|█████     | 252/500 [00:20<00:20, 12.23it/s]"
     ]
    },
    {
     "name": "stdout",
     "output_type": "stream",
     "text": [
      "Epoch 250/500 : trainloss = 0.007191933654248714 valloss = 0.006459092139266431\n",
      "Epoch 251/500 : trainloss = 0.007403057776391506 valloss = 0.007118764508049935\n",
      "Epoch 252/500 : trainloss = 0.007311929948627949 valloss = 0.006764499645214528\n"
     ]
    },
    {
     "name": "stderr",
     "output_type": "stream",
     "text": [
      " 51%|█████     | 256/500 [00:20<00:20, 12.20it/s]"
     ]
    },
    {
     "name": "stdout",
     "output_type": "stream",
     "text": [
      "Epoch 253/500 : trainloss = 0.007212710427120328 valloss = 0.006753753288649023\n",
      "Epoch 254/500 : trainloss = 0.006844293717294931 valloss = 0.006162214674986899\n",
      "Epoch 255/500 : trainloss = 0.007282783761620521 valloss = 0.007930406485684216\n"
     ]
    },
    {
     "name": "stderr",
     "output_type": "stream",
     "text": [
      " 52%|█████▏    | 258/500 [00:20<00:20, 11.70it/s]"
     ]
    },
    {
     "name": "stdout",
     "output_type": "stream",
     "text": [
      "Epoch 256/500 : trainloss = 0.006932184956967831 valloss = 0.009233320713974535\n",
      "Epoch 257/500 : trainloss = 0.006818427219986916 valloss = 0.00858518690802157\n",
      "Epoch 258/500 : trainloss = 0.006899928934872151 valloss = 0.0076393308117985725\n"
     ]
    },
    {
     "name": "stderr",
     "output_type": "stream",
     "text": [
      " 52%|█████▏    | 262/500 [00:21<00:20, 11.35it/s]"
     ]
    },
    {
     "name": "stdout",
     "output_type": "stream",
     "text": [
      "Epoch 259/500 : trainloss = 0.007111800704151392 valloss = 0.007009704364463687\n",
      "Epoch 260/500 : trainloss = 0.007117145992815495 valloss = 0.007488429662771523\n",
      "Epoch 261/500 : trainloss = 0.00697714057751 valloss = 0.006468391889939085\n"
     ]
    },
    {
     "name": "stderr",
     "output_type": "stream",
     "text": [
      " 53%|█████▎    | 264/500 [00:21<00:20, 11.32it/s]"
     ]
    },
    {
     "name": "stdout",
     "output_type": "stream",
     "text": [
      "Epoch 262/500 : trainloss = 0.006523518618196249 valloss = 0.00667367794085294\n",
      "Epoch 263/500 : trainloss = 0.007073090802878141 valloss = 0.006868000142276287\n",
      "Epoch 264/500 : trainloss = 0.007165559828281403 valloss = 0.006848333985544741\n"
     ]
    },
    {
     "name": "stderr",
     "output_type": "stream",
     "text": [
      " 54%|█████▎    | 268/500 [00:21<00:18, 12.33it/s]"
     ]
    },
    {
     "name": "stdout",
     "output_type": "stream",
     "text": [
      "Epoch 265/500 : trainloss = 0.006841410864144564 valloss = 0.006546555086970329\n",
      "Epoch 266/500 : trainloss = 0.007103499602526426 valloss = 0.007150946941692382\n",
      "Epoch 267/500 : trainloss = 0.0067281296104192735 valloss = 0.007694819127209485\n"
     ]
    },
    {
     "name": "stderr",
     "output_type": "stream",
     "text": [
      " 54%|█████▍    | 270/500 [00:21<00:19, 11.68it/s]"
     ]
    },
    {
     "name": "stdout",
     "output_type": "stream",
     "text": [
      "Epoch 268/500 : trainloss = 0.007294364962726832 valloss = 0.007379234710242599\n",
      "Epoch 269/500 : trainloss = 0.006727706855162979 valloss = 0.007499351166188717\n",
      "Epoch 270/500 : trainloss = 0.006921048797667026 valloss = 0.006332422257401049\n"
     ]
    },
    {
     "name": "stderr",
     "output_type": "stream",
     "text": [
      " 55%|█████▍    | 274/500 [00:22<00:17, 12.93it/s]"
     ]
    },
    {
     "name": "stdout",
     "output_type": "stream",
     "text": [
      "Epoch 271/500 : trainloss = 0.007127164658159018 valloss = 0.00660981924738735\n",
      "Epoch 272/500 : trainloss = 0.006926500974223018 valloss = 0.006812054372858256\n",
      "Epoch 273/500 : trainloss = 0.007029725350439549 valloss = 0.0074599264189600945\n"
     ]
    },
    {
     "name": "stderr",
     "output_type": "stream",
     "text": [
      " 55%|█████▌    | 276/500 [00:22<00:17, 12.92it/s]"
     ]
    },
    {
     "name": "stdout",
     "output_type": "stream",
     "text": [
      "Epoch 274/500 : trainloss = 0.006874463725835085 valloss = 0.008671976276673377\n",
      "Epoch 275/500 : trainloss = 0.00685445737093687 valloss = 0.00730712478980422\n",
      "Epoch 276/500 : trainloss = 0.007215405059978366 valloss = 0.007387536927126348\n"
     ]
    },
    {
     "name": "stderr",
     "output_type": "stream",
     "text": [
      " 56%|█████▌    | 280/500 [00:22<00:18, 11.92it/s]"
     ]
    },
    {
     "name": "stdout",
     "output_type": "stream",
     "text": [
      "Epoch 277/500 : trainloss = 0.006489455625414848 valloss = 0.007077229558490217\n",
      "Epoch 278/500 : trainloss = 0.007137684337794781 valloss = 0.007882771431468427\n",
      "Epoch 279/500 : trainloss = 0.007186492122709751 valloss = 0.0076311794109642506\n"
     ]
    },
    {
     "name": "stderr",
     "output_type": "stream",
     "text": [
      " 57%|█████▋    | 284/500 [00:22<00:16, 13.36it/s]"
     ]
    },
    {
     "name": "stdout",
     "output_type": "stream",
     "text": [
      "Epoch 280/500 : trainloss = 0.006712771579623222 valloss = 0.006889073934871703\n",
      "Epoch 281/500 : trainloss = 0.00676893163472414 valloss = 0.007041456236038357\n",
      "Epoch 282/500 : trainloss = 0.00686482997611165 valloss = 0.00574938568752259\n",
      "Epoch 283/500 : trainloss = 0.006733167991042137 valloss = 0.006714375340379775\n"
     ]
    },
    {
     "name": "stderr",
     "output_type": "stream",
     "text": [
      " 57%|█████▋    | 286/500 [00:22<00:15, 13.73it/s]"
     ]
    },
    {
     "name": "stdout",
     "output_type": "stream",
     "text": [
      "Epoch 284/500 : trainloss = 0.006811371799558401 valloss = 0.005918996495893225\n",
      "Epoch 285/500 : trainloss = 0.006624540193006396 valloss = 0.005418508633738384\n",
      "Epoch 286/500 : trainloss = 0.006639782357960939 valloss = 0.006443362566642463\n"
     ]
    },
    {
     "name": "stderr",
     "output_type": "stream",
     "text": [
      " 58%|█████▊    | 290/500 [00:23<00:15, 13.61it/s]"
     ]
    },
    {
     "name": "stdout",
     "output_type": "stream",
     "text": [
      "Epoch 287/500 : trainloss = 0.006755685675889253 valloss = 0.005983983282931149\n",
      "Epoch 288/500 : trainloss = 0.006664668098092079 valloss = 0.006938723905477673\n",
      "Epoch 289/500 : trainloss = 0.00670122548006475 valloss = 0.005945382930804044\n"
     ]
    },
    {
     "name": "stderr",
     "output_type": "stream",
     "text": [
      " 59%|█████▉    | 294/500 [00:23<00:13, 14.73it/s]"
     ]
    },
    {
     "name": "stdout",
     "output_type": "stream",
     "text": [
      "Epoch 290/500 : trainloss = 0.006836640760302544 valloss = 0.0055413956579286605\n",
      "Epoch 291/500 : trainloss = 0.006469331737607717 valloss = 0.006161273282486945\n",
      "Epoch 292/500 : trainloss = 0.0066248136013746265 valloss = 0.007340180221945047\n",
      "Epoch 293/500 : trainloss = 0.006515844473615289 valloss = 0.008052215562202036\n"
     ]
    },
    {
     "name": "stderr",
     "output_type": "stream",
     "text": [
      " 59%|█████▉    | 296/500 [00:23<00:14, 14.53it/s]"
     ]
    },
    {
     "name": "stdout",
     "output_type": "stream",
     "text": [
      "Epoch 294/500 : trainloss = 0.006840168992057443 valloss = 0.006397473742254078\n",
      "Epoch 295/500 : trainloss = 0.006957974191755057 valloss = 0.005563300917856395\n",
      "Epoch 296/500 : trainloss = 0.00652383646927774 valloss = 0.006873985636048019\n"
     ]
    },
    {
     "name": "stderr",
     "output_type": "stream",
     "text": [
      " 60%|██████    | 300/500 [00:23<00:14, 13.54it/s]"
     ]
    },
    {
     "name": "stdout",
     "output_type": "stream",
     "text": [
      "Epoch 297/500 : trainloss = 0.00651102963835001 valloss = 0.0077476551523432136\n",
      "Epoch 298/500 : trainloss = 0.006381329130381346 valloss = 0.006191373278852552\n",
      "Epoch 299/500 : trainloss = 0.006518895095214247 valloss = 0.006523528718389571\n"
     ]
    },
    {
     "name": "stderr",
     "output_type": "stream",
     "text": [
      " 60%|██████    | 302/500 [00:24<00:15, 13.01it/s]"
     ]
    },
    {
     "name": "stdout",
     "output_type": "stream",
     "text": [
      "Epoch 300/500 : trainloss = 0.006644903989508748 valloss = 0.0060045968275517225\n",
      "Epoch 301/500 : trainloss = 0.0065423758700489994 valloss = 0.006538985122460872\n",
      "Epoch 302/500 : trainloss = 0.006750340554863215 valloss = 0.007254625670611858\n"
     ]
    },
    {
     "name": "stderr",
     "output_type": "stream",
     "text": [
      " 61%|██████    | 306/500 [00:24<00:15, 12.65it/s]"
     ]
    },
    {
     "name": "stdout",
     "output_type": "stream",
     "text": [
      "Epoch 303/500 : trainloss = 0.006669279625639319 valloss = 0.007745797629468143\n",
      "Epoch 304/500 : trainloss = 0.00642500389367342 valloss = 0.005992951861117035\n",
      "Epoch 305/500 : trainloss = 0.006358383316546678 valloss = 0.007106286007910967\n"
     ]
    },
    {
     "name": "stderr",
     "output_type": "stream",
     "text": [
      " 62%|██████▏   | 308/500 [00:24<00:15, 12.71it/s]"
     ]
    },
    {
     "name": "stdout",
     "output_type": "stream",
     "text": [
      "Epoch 306/500 : trainloss = 0.006722219958901405 valloss = 0.006931818439625204\n",
      "Epoch 307/500 : trainloss = 0.0065098512079566715 valloss = 0.006414000294171274\n",
      "Epoch 308/500 : trainloss = 0.006754109617322684 valloss = 0.005685413314495236\n"
     ]
    },
    {
     "name": "stderr",
     "output_type": "stream",
     "text": [
      " 62%|██████▏   | 312/500 [00:24<00:15, 12.51it/s]"
     ]
    },
    {
     "name": "stdout",
     "output_type": "stream",
     "text": [
      "Epoch 309/500 : trainloss = 0.006583491303026676 valloss = 0.006367450812831521\n",
      "Epoch 310/500 : trainloss = 0.006481025852262973 valloss = 0.008618184365332127\n",
      "Epoch 311/500 : trainloss = 0.006436170414090157 valloss = 0.0071496868040412664\n"
     ]
    },
    {
     "name": "stderr",
     "output_type": "stream",
     "text": [
      " 63%|██████▎   | 314/500 [00:25<00:14, 12.51it/s]"
     ]
    },
    {
     "name": "stdout",
     "output_type": "stream",
     "text": [
      "Epoch 312/500 : trainloss = 0.006363907037302852 valloss = 0.007020102930255234\n",
      "Epoch 313/500 : trainloss = 0.00628821169026196 valloss = 0.006616339669562876\n",
      "Epoch 314/500 : trainloss = 0.006324301045387983 valloss = 0.0056550814770162106\n"
     ]
    },
    {
     "name": "stderr",
     "output_type": "stream",
     "text": [
      " 64%|██████▎   | 318/500 [00:25<00:14, 12.86it/s]"
     ]
    },
    {
     "name": "stdout",
     "output_type": "stream",
     "text": [
      "Epoch 315/500 : trainloss = 0.006529821902513504 valloss = 0.0055170801060739905\n",
      "Epoch 316/500 : trainloss = 0.006516767572611571 valloss = 0.006967425579205155\n",
      "Epoch 317/500 : trainloss = 0.006483576027676463 valloss = 0.005440516659291461\n"
     ]
    },
    {
     "name": "stderr",
     "output_type": "stream",
     "text": [
      " 64%|██████▍   | 320/500 [00:25<00:13, 13.22it/s]"
     ]
    },
    {
     "name": "stdout",
     "output_type": "stream",
     "text": [
      "Epoch 318/500 : trainloss = 0.0063753055222332475 valloss = 0.006667824694886804\n",
      "Epoch 319/500 : trainloss = 0.006453383807092905 valloss = 0.006153959751827642\n",
      "Epoch 320/500 : trainloss = 0.006393427075818181 valloss = 0.005601797107374296\n"
     ]
    },
    {
     "name": "stderr",
     "output_type": "stream",
     "text": [
      " 65%|██████▍   | 324/500 [00:25<00:14, 12.25it/s]"
     ]
    },
    {
     "name": "stdout",
     "output_type": "stream",
     "text": [
      "Epoch 321/500 : trainloss = 0.006764189554378391 valloss = 0.006865663803182542\n",
      "Epoch 322/500 : trainloss = 0.006319904234260321 valloss = 0.006659990060143173\n",
      "Epoch 323/500 : trainloss = 0.006099905166774988 valloss = 0.006054291385225952\n"
     ]
    },
    {
     "name": "stderr",
     "output_type": "stream",
     "text": [
      " 65%|██████▌   | 326/500 [00:26<00:15, 11.52it/s]"
     ]
    },
    {
     "name": "stdout",
     "output_type": "stream",
     "text": [
      "Epoch 324/500 : trainloss = 0.006170344920828939 valloss = 0.006412998889572918\n",
      "Epoch 325/500 : trainloss = 0.006393585652112961 valloss = 0.006663813372142613\n",
      "Epoch 326/500 : trainloss = 0.00635525356978178 valloss = 0.007655106543097645\n"
     ]
    },
    {
     "name": "stderr",
     "output_type": "stream",
     "text": [
      " 66%|██████▌   | 328/500 [00:26<00:14, 11.99it/s]"
     ]
    },
    {
     "name": "stdout",
     "output_type": "stream",
     "text": [
      "Epoch 327/500 : trainloss = 0.0064470320846885445 valloss = 0.006938646663911641\n",
      "Epoch 328/500 : trainloss = 0.006386126093566417 valloss = 0.007147230440750718\n"
     ]
    },
    {
     "name": "stderr",
     "output_type": "stream",
     "text": [
      " 66%|██████▋   | 332/500 [00:26<00:15, 10.87it/s]"
     ]
    },
    {
     "name": "stdout",
     "output_type": "stream",
     "text": [
      "Epoch 329/500 : trainloss = 0.006170791238546371 valloss = 0.005789038841612637\n",
      "Epoch 330/500 : trainloss = 0.006209363304078579 valloss = 0.007898666197434068\n",
      "Epoch 331/500 : trainloss = 0.006617206297814846 valloss = 0.007710295147262514\n"
     ]
    },
    {
     "name": "stderr",
     "output_type": "stream",
     "text": [
      " 67%|██████▋   | 334/500 [00:26<00:15, 10.79it/s]"
     ]
    },
    {
     "name": "stdout",
     "output_type": "stream",
     "text": [
      "Epoch 332/500 : trainloss = 0.006247047754004598 valloss = 0.0062399450107477605\n",
      "Epoch 333/500 : trainloss = 0.0064243368059396745 valloss = 0.006276123342104256\n",
      "Epoch 334/500 : trainloss = 0.00625084126368165 valloss = 0.006816895504016429\n"
     ]
    },
    {
     "name": "stderr",
     "output_type": "stream",
     "text": [
      " 68%|██████▊   | 338/500 [00:27<00:14, 11.39it/s]"
     ]
    },
    {
     "name": "stdout",
     "output_type": "stream",
     "text": [
      "Epoch 335/500 : trainloss = 0.006397675247862935 valloss = 0.005902011471334845\n",
      "Epoch 336/500 : trainloss = 0.006364662265405059 valloss = 0.0071694282232783735\n",
      "Epoch 337/500 : trainloss = 0.006458212984725833 valloss = 0.006049365212675184\n"
     ]
    },
    {
     "name": "stderr",
     "output_type": "stream",
     "text": [
      " 68%|██████▊   | 340/500 [00:27<00:13, 11.52it/s]"
     ]
    },
    {
     "name": "stdout",
     "output_type": "stream",
     "text": [
      "Epoch 338/500 : trainloss = 0.00628296185284853 valloss = 0.005464641348225996\n",
      "Epoch 339/500 : trainloss = 0.006411614427343011 valloss = 0.006057176680769771\n",
      "Epoch 340/500 : trainloss = 0.006260752379894256 valloss = 0.006547279830556363\n"
     ]
    },
    {
     "name": "stderr",
     "output_type": "stream",
     "text": [
      " 69%|██████▉   | 344/500 [00:27<00:12, 12.29it/s]"
     ]
    },
    {
     "name": "stdout",
     "output_type": "stream",
     "text": [
      "Epoch 341/500 : trainloss = 0.0066614527720958 valloss = 0.0063781761564314365\n",
      "Epoch 342/500 : trainloss = 0.006237918846309185 valloss = 0.006039911764673889\n",
      "Epoch 343/500 : trainloss = 0.006136360373347998 valloss = 0.006372429663315415\n"
     ]
    },
    {
     "name": "stderr",
     "output_type": "stream",
     "text": [
      " 69%|██████▉   | 346/500 [00:27<00:12, 12.35it/s]"
     ]
    },
    {
     "name": "stdout",
     "output_type": "stream",
     "text": [
      "Epoch 344/500 : trainloss = 0.006329856328666211 valloss = 0.005611601925920695\n",
      "Epoch 345/500 : trainloss = 0.006289760209619999 valloss = 0.006499295006506145\n",
      "Epoch 346/500 : trainloss = 0.0059273903165012595 valloss = 0.005606865219306201\n"
     ]
    },
    {
     "name": "stderr",
     "output_type": "stream",
     "text": [
      " 70%|███████   | 350/500 [00:28<00:11, 12.84it/s]"
     ]
    },
    {
     "name": "stdout",
     "output_type": "stream",
     "text": [
      "Epoch 347/500 : trainloss = 0.006276244651526213 valloss = 0.005260522477328777\n",
      "Epoch 348/500 : trainloss = 0.0062288873270154 valloss = 0.005542611936107278\n",
      "Epoch 349/500 : trainloss = 0.006152134127914905 valloss = 0.006044437177479267\n"
     ]
    },
    {
     "name": "stderr",
     "output_type": "stream",
     "text": [
      " 70%|███████   | 352/500 [00:28<00:13, 11.20it/s]"
     ]
    },
    {
     "name": "stdout",
     "output_type": "stream",
     "text": [
      "Epoch 350/500 : trainloss = 0.006228122469037771 valloss = 0.005634170025587082\n",
      "Epoch 351/500 : trainloss = 0.006224782560020685 valloss = 0.006239084294065833\n"
     ]
    },
    {
     "name": "stderr",
     "output_type": "stream",
     "text": [
      " 71%|███████   | 354/500 [00:28<00:12, 11.49it/s]"
     ]
    },
    {
     "name": "stdout",
     "output_type": "stream",
     "text": [
      "Epoch 352/500 : trainloss = 0.005844606244936585 valloss = 0.007563119055703282\n",
      "Epoch 353/500 : trainloss = 0.005773311983793974 valloss = 0.0066927914740517735\n",
      "Epoch 354/500 : trainloss = 0.0058130625449121 valloss = 0.005219835584284738\n"
     ]
    },
    {
     "name": "stderr",
     "output_type": "stream",
     "text": [
      " 72%|███████▏  | 358/500 [00:28<00:11, 12.40it/s]"
     ]
    },
    {
     "name": "stdout",
     "output_type": "stream",
     "text": [
      "Epoch 355/500 : trainloss = 0.006156410509720445 valloss = 0.006018773186951876\n",
      "Epoch 356/500 : trainloss = 0.00618993828073144 valloss = 0.0053176186920609325\n",
      "Epoch 357/500 : trainloss = 0.006019382467493415 valloss = 0.005366834171582013\n"
     ]
    },
    {
     "name": "stderr",
     "output_type": "stream",
     "text": [
      " 72%|███████▏  | 360/500 [00:28<00:10, 12.77it/s]"
     ]
    },
    {
     "name": "stdout",
     "output_type": "stream",
     "text": [
      "Epoch 358/500 : trainloss = 0.005991246812045574 valloss = 0.006856646738015115\n",
      "Epoch 359/500 : trainloss = 0.006178593756631017 valloss = 0.006301820976659656\n",
      "Epoch 360/500 : trainloss = 0.005781087772920728 valloss = 0.0061831752536818385\n"
     ]
    },
    {
     "name": "stderr",
     "output_type": "stream",
     "text": [
      " 73%|███████▎  | 364/500 [00:29<00:10, 12.72it/s]"
     ]
    },
    {
     "name": "stdout",
     "output_type": "stream",
     "text": [
      "Epoch 361/500 : trainloss = 0.006257737567648291 valloss = 0.006649084331002086\n",
      "Epoch 362/500 : trainloss = 0.00570070375688374 valloss = 0.005258600634988397\n",
      "Epoch 363/500 : trainloss = 0.006126790978014469 valloss = 0.0058954908745363355\n"
     ]
    },
    {
     "name": "stderr",
     "output_type": "stream",
     "text": [
      " 73%|███████▎  | 366/500 [00:29<00:11, 12.00it/s]"
     ]
    },
    {
     "name": "stdout",
     "output_type": "stream",
     "text": [
      "Epoch 364/500 : trainloss = 0.006264806510880589 valloss = 0.007103972719050944\n",
      "Epoch 365/500 : trainloss = 0.005996084678918124 valloss = 0.00722195440903306\n"
     ]
    },
    {
     "name": "stderr",
     "output_type": "stream",
     "text": [
      " 74%|███████▎  | 368/500 [00:29<00:11, 11.18it/s]"
     ]
    },
    {
     "name": "stdout",
     "output_type": "stream",
     "text": [
      "Epoch 366/500 : trainloss = 0.006253767451271415 valloss = 0.006613228295464069\n",
      "Epoch 367/500 : trainloss = 0.00625831593759358 valloss = 0.006185031612403691\n",
      "Epoch 368/500 : trainloss = 0.006074752770364285 valloss = 0.0068456208682619035\n"
     ]
    },
    {
     "name": "stderr",
     "output_type": "stream",
     "text": [
      " 74%|███████▍  | 372/500 [00:29<00:10, 11.93it/s]"
     ]
    },
    {
     "name": "stdout",
     "output_type": "stream",
     "text": [
      "Epoch 369/500 : trainloss = 0.005757264513522387 valloss = 0.005651440238580108\n",
      "Epoch 370/500 : trainloss = 0.006208917172625661 valloss = 0.006415528245270252\n",
      "Epoch 371/500 : trainloss = 0.00601194110698998 valloss = 0.0068730939528904855\n",
      "Epoch 372/500 : trainloss = 0.005580620113760233 valloss = 0.00732772727496922\n"
     ]
    },
    {
     "name": "stderr",
     "output_type": "stream",
     "text": [
      " 75%|███████▌  | 376/500 [00:30<00:09, 13.36it/s]"
     ]
    },
    {
     "name": "stdout",
     "output_type": "stream",
     "text": [
      "Epoch 373/500 : trainloss = 0.006257078032940626 valloss = 0.005537107994314283\n",
      "Epoch 374/500 : trainloss = 0.006166984708979726 valloss = 0.005743682704633102\n",
      "Epoch 375/500 : trainloss = 0.006265746271237731 valloss = 0.005731238168664277\n"
     ]
    },
    {
     "name": "stderr",
     "output_type": "stream",
     "text": [
      " 76%|███████▌  | 378/500 [00:30<00:09, 12.91it/s]"
     ]
    },
    {
     "name": "stdout",
     "output_type": "stream",
     "text": [
      "Epoch 376/500 : trainloss = 0.0057264607399702076 valloss = 0.007078971131704748\n",
      "Epoch 377/500 : trainloss = 0.005874781161546707 valloss = 0.0068618630757555366\n",
      "Epoch 378/500 : trainloss = 0.00583645747974515 valloss = 0.005927762540522963\n"
     ]
    },
    {
     "name": "stderr",
     "output_type": "stream",
     "text": [
      " 76%|███████▋  | 382/500 [00:30<00:09, 12.65it/s]"
     ]
    },
    {
     "name": "stdout",
     "output_type": "stream",
     "text": [
      "Epoch 379/500 : trainloss = 0.0057085420191288 valloss = 0.007168833399191499\n",
      "Epoch 380/500 : trainloss = 0.005773273780941963 valloss = 0.005197983962716535\n",
      "Epoch 381/500 : trainloss = 0.005754929156973958 valloss = 0.005260915932012722\n"
     ]
    },
    {
     "name": "stderr",
     "output_type": "stream",
     "text": [
      " 77%|███████▋  | 384/500 [00:30<00:08, 12.98it/s]"
     ]
    },
    {
     "name": "stdout",
     "output_type": "stream",
     "text": [
      "Epoch 382/500 : trainloss = 0.00601717995479703 valloss = 0.005229124479228631\n",
      "Epoch 383/500 : trainloss = 0.006019207974895835 valloss = 0.008724311832338572\n",
      "Epoch 384/500 : trainloss = 0.005587095329537987 valloss = 0.0058214899036102\n"
     ]
    },
    {
     "name": "stderr",
     "output_type": "stream",
     "text": [
      " 78%|███████▊  | 388/500 [00:31<00:08, 12.74it/s]"
     ]
    },
    {
     "name": "stdout",
     "output_type": "stream",
     "text": [
      "Epoch 385/500 : trainloss = 0.005857497891411185 valloss = 0.005649035389069468\n",
      "Epoch 386/500 : trainloss = 0.005954132359474898 valloss = 0.005888323008548468\n",
      "Epoch 387/500 : trainloss = 0.005695386221632361 valloss = 0.00575493840733543\n"
     ]
    },
    {
     "name": "stderr",
     "output_type": "stream",
     "text": [
      " 78%|███████▊  | 390/500 [00:31<00:08, 13.12it/s]"
     ]
    },
    {
     "name": "stdout",
     "output_type": "stream",
     "text": [
      "Epoch 388/500 : trainloss = 0.006082387790083885 valloss = 0.006395719014108181\n",
      "Epoch 389/500 : trainloss = 0.005720469709485769 valloss = 0.006305012560915202\n",
      "Epoch 390/500 : trainloss = 0.005911641325801611 valloss = 0.006551946280524135\n"
     ]
    },
    {
     "name": "stderr",
     "output_type": "stream",
     "text": [
      " 79%|███████▉  | 394/500 [00:31<00:08, 12.42it/s]"
     ]
    },
    {
     "name": "stdout",
     "output_type": "stream",
     "text": [
      "Epoch 391/500 : trainloss = 0.005887729236856103 valloss = 0.006319816515315324\n",
      "Epoch 392/500 : trainloss = 0.005574849899858236 valloss = 0.0065734280506148934\n",
      "Epoch 393/500 : trainloss = 0.0056545291095972065 valloss = 0.007134333427529782\n"
     ]
    },
    {
     "name": "stderr",
     "output_type": "stream",
     "text": [
      " 79%|███████▉  | 396/500 [00:31<00:08, 12.20it/s]"
     ]
    },
    {
     "name": "stdout",
     "output_type": "stream",
     "text": [
      "Epoch 394/500 : trainloss = 0.005754763558506966 valloss = 0.006391661299858242\n",
      "Epoch 395/500 : trainloss = 0.005797230694442987 valloss = 0.005430552933830768\n",
      "Epoch 396/500 : trainloss = 0.005556454798206687 valloss = 0.006388504581991583\n"
     ]
    },
    {
     "name": "stderr",
     "output_type": "stream",
     "text": [
      " 80%|████████  | 400/500 [00:32<00:08, 12.29it/s]"
     ]
    },
    {
     "name": "stdout",
     "output_type": "stream",
     "text": [
      "Epoch 397/500 : trainloss = 0.00583569903858006 valloss = 0.005507871217560023\n",
      "Epoch 398/500 : trainloss = 0.005720676146447659 valloss = 0.007185035268776119\n",
      "Epoch 399/500 : trainloss = 0.0060844141431152824 valloss = 0.006203327211551368\n"
     ]
    },
    {
     "name": "stderr",
     "output_type": "stream",
     "text": [
      " 80%|████████  | 402/500 [00:32<00:08, 12.12it/s]"
     ]
    },
    {
     "name": "stdout",
     "output_type": "stream",
     "text": [
      "Epoch 400/500 : trainloss = 0.005863080807030201 valloss = 0.005961783812381327\n",
      "Epoch 401/500 : trainloss = 0.0057675172947347165 valloss = 0.005761006963439286\n",
      "Epoch 402/500 : trainloss = 0.005558320116251707 valloss = 0.006955245975404978\n"
     ]
    },
    {
     "name": "stderr",
     "output_type": "stream",
     "text": [
      " 81%|████████  | 406/500 [00:32<00:07, 12.72it/s]"
     ]
    },
    {
     "name": "stdout",
     "output_type": "stream",
     "text": [
      "Epoch 403/500 : trainloss = 0.005698431162163615 valloss = 0.004998862044885755\n",
      "Epoch 404/500 : trainloss = 0.0058052360825240614 valloss = 0.004606660979334265\n",
      "Epoch 405/500 : trainloss = 0.005880718426778913 valloss = 0.005576778494287282\n"
     ]
    },
    {
     "name": "stderr",
     "output_type": "stream",
     "text": [
      " 82%|████████▏ | 408/500 [00:32<00:07, 12.16it/s]"
     ]
    },
    {
     "name": "stdout",
     "output_type": "stream",
     "text": [
      "Epoch 406/500 : trainloss = 0.005720938798040151 valloss = 0.004809123056475073\n",
      "Epoch 407/500 : trainloss = 0.005450697373598814 valloss = 0.005289000342600048\n",
      "Epoch 408/500 : trainloss = 0.005841662036255002 valloss = 0.005304819147568196\n"
     ]
    },
    {
     "name": "stderr",
     "output_type": "stream",
     "text": [
      " 82%|████████▏ | 412/500 [00:33<00:06, 13.05it/s]"
     ]
    },
    {
     "name": "stdout",
     "output_type": "stream",
     "text": [
      "Epoch 409/500 : trainloss = 0.005556832225993276 valloss = 0.005630851403111592\n",
      "Epoch 410/500 : trainloss = 0.00606047423556447 valloss = 0.006372079602442682\n",
      "Epoch 411/500 : trainloss = 0.005638978229835629 valloss = 0.005811383074615151\n"
     ]
    },
    {
     "name": "stderr",
     "output_type": "stream",
     "text": [
      " 83%|████████▎ | 414/500 [00:33<00:06, 12.52it/s]"
     ]
    },
    {
     "name": "stdout",
     "output_type": "stream",
     "text": [
      "Epoch 412/500 : trainloss = 0.005801174100488424 valloss = 0.0057807553093880415\n",
      "Epoch 413/500 : trainloss = 0.005519744716584682 valloss = 0.005558337434194982\n"
     ]
    },
    {
     "name": "stderr",
     "output_type": "stream",
     "text": [
      " 83%|████████▎ | 416/500 [00:33<00:07, 11.63it/s]"
     ]
    },
    {
     "name": "stdout",
     "output_type": "stream",
     "text": [
      "Epoch 414/500 : trainloss = 0.005629466157406568 valloss = 0.006790312239900231\n",
      "Epoch 415/500 : trainloss = 0.005942300176247955 valloss = 0.005313143105013296\n",
      "Epoch 416/500 : trainloss = 0.005502851624041796 valloss = 0.006185975449625403\n"
     ]
    },
    {
     "name": "stderr",
     "output_type": "stream",
     "text": [
      " 84%|████████▍ | 420/500 [00:33<00:06, 11.65it/s]"
     ]
    },
    {
     "name": "stdout",
     "output_type": "stream",
     "text": [
      "Epoch 417/500 : trainloss = 0.005679430300369858 valloss = 0.005186457507079467\n",
      "Epoch 418/500 : trainloss = 0.005850632917135954 valloss = 0.005452007637359202\n",
      "Epoch 419/500 : trainloss = 0.0059643529728055 valloss = 0.004606911301380023\n"
     ]
    },
    {
     "name": "stderr",
     "output_type": "stream",
     "text": [
      " 85%|████████▍ | 424/500 [00:34<00:05, 13.41it/s]"
     ]
    },
    {
     "name": "stdout",
     "output_type": "stream",
     "text": [
      "Epoch 420/500 : trainloss = 0.005794717539101839 valloss = 0.005956218345090747\n",
      "Epoch 421/500 : trainloss = 0.005650813914835453 valloss = 0.006533017382025719\n",
      "Epoch 422/500 : trainloss = 0.005666799051687122 valloss = 0.006042098277248442\n",
      "Epoch 423/500 : trainloss = 0.005837222896516323 valloss = 0.005990826524794102\n"
     ]
    },
    {
     "name": "stderr",
     "output_type": "stream",
     "text": [
      " 85%|████████▌ | 426/500 [00:34<00:05, 13.38it/s]"
     ]
    },
    {
     "name": "stdout",
     "output_type": "stream",
     "text": [
      "Epoch 424/500 : trainloss = 0.005908174468204379 valloss = 0.006561549031175673\n",
      "Epoch 425/500 : trainloss = 0.005771059188991785 valloss = 0.0065516154281795025\n",
      "Epoch 426/500 : trainloss = 0.005701549602672457 valloss = 0.0071999249630607665\n"
     ]
    },
    {
     "name": "stderr",
     "output_type": "stream",
     "text": [
      " 86%|████████▌ | 430/500 [00:34<00:05, 12.60it/s]"
     ]
    },
    {
     "name": "stdout",
     "output_type": "stream",
     "text": [
      "Epoch 427/500 : trainloss = 0.005756525192409754 valloss = 0.005226703826338053\n",
      "Epoch 428/500 : trainloss = 0.00547805073671043 valloss = 0.0054404643306043\n",
      "Epoch 429/500 : trainloss = 0.005480312900617719 valloss = 0.0060413746105041355\n"
     ]
    },
    {
     "name": "stderr",
     "output_type": "stream",
     "text": [
      " 86%|████████▋ | 432/500 [00:34<00:05, 13.06it/s]"
     ]
    },
    {
     "name": "stdout",
     "output_type": "stream",
     "text": [
      "Epoch 430/500 : trainloss = 0.005804578606039286 valloss = 0.005341080017387867\n",
      "Epoch 431/500 : trainloss = 0.005747376419603825 valloss = 0.005304728518240154\n",
      "Epoch 432/500 : trainloss = 0.005721253864467144 valloss = 0.006411403475794941\n"
     ]
    },
    {
     "name": "stderr",
     "output_type": "stream",
     "text": [
      " 87%|████████▋ | 436/500 [00:35<00:04, 13.07it/s]"
     ]
    },
    {
     "name": "stdout",
     "output_type": "stream",
     "text": [
      "Epoch 433/500 : trainloss = 0.005645003579556942 valloss = 0.006088962370995432\n",
      "Epoch 434/500 : trainloss = 0.005847803978249431 valloss = 0.006889292853884399\n",
      "Epoch 435/500 : trainloss = 0.005301809273660183 valloss = 0.007976119057275355\n"
     ]
    },
    {
     "name": "stderr",
     "output_type": "stream",
     "text": [
      " 88%|████████▊ | 438/500 [00:35<00:04, 13.44it/s]"
     ]
    },
    {
     "name": "stdout",
     "output_type": "stream",
     "text": [
      "Epoch 436/500 : trainloss = 0.005950058298185468 valloss = 0.00604987534461543\n",
      "Epoch 437/500 : trainloss = 0.005835192371159792 valloss = 0.006072184361983091\n",
      "Epoch 438/500 : trainloss = 0.005658272970467806 valloss = 0.005049063882324845\n"
     ]
    },
    {
     "name": "stderr",
     "output_type": "stream",
     "text": [
      " 88%|████████▊ | 442/500 [00:35<00:04, 12.69it/s]"
     ]
    },
    {
     "name": "stdout",
     "output_type": "stream",
     "text": [
      "Epoch 439/500 : trainloss = 0.005318964356556535 valloss = 0.0050997252110391855\n",
      "Epoch 440/500 : trainloss = 0.005403691167011857 valloss = 0.006616974831558764\n",
      "Epoch 441/500 : trainloss = 0.005624059680849313 valloss = 0.005562306614592671\n"
     ]
    },
    {
     "name": "stderr",
     "output_type": "stream",
     "text": [
      " 89%|████████▉ | 444/500 [00:35<00:04, 12.32it/s]"
     ]
    },
    {
     "name": "stdout",
     "output_type": "stream",
     "text": [
      "Epoch 442/500 : trainloss = 0.005585816223174334 valloss = 0.006056048208847642\n",
      "Epoch 443/500 : trainloss = 0.005802061734721064 valloss = 0.007045891252346337\n",
      "Epoch 444/500 : trainloss = 0.005574304331094027 valloss = 0.005508810339961201\n"
     ]
    },
    {
     "name": "stderr",
     "output_type": "stream",
     "text": [
      " 90%|████████▉ | 448/500 [00:35<00:04, 12.63it/s]"
     ]
    },
    {
     "name": "stdout",
     "output_type": "stream",
     "text": [
      "Epoch 445/500 : trainloss = 0.005075105736032128 valloss = 0.005755573103670031\n",
      "Epoch 446/500 : trainloss = 0.00544111542403698 valloss = 0.005221984873060137\n",
      "Epoch 447/500 : trainloss = 0.005627744691446423 valloss = 0.005946686491370201\n"
     ]
    },
    {
     "name": "stderr",
     "output_type": "stream",
     "text": [
      " 90%|█████████ | 450/500 [00:36<00:04, 12.27it/s]"
     ]
    },
    {
     "name": "stdout",
     "output_type": "stream",
     "text": [
      "Epoch 448/500 : trainloss = 0.005911779124289751 valloss = 0.0049158034671563655\n",
      "Epoch 449/500 : trainloss = 0.005716542210429907 valloss = 0.0050839542236644775\n",
      "Epoch 450/500 : trainloss = 0.005563097195699811 valloss = 0.0056152670294977725\n"
     ]
    },
    {
     "name": "stderr",
     "output_type": "stream",
     "text": [
      " 91%|█████████ | 454/500 [00:36<00:03, 12.63it/s]"
     ]
    },
    {
     "name": "stdout",
     "output_type": "stream",
     "text": [
      "Epoch 451/500 : trainloss = 0.005682901982218027 valloss = 0.006376598728820682\n",
      "Epoch 452/500 : trainloss = 0.00545572436414659 valloss = 0.0050897213513962924\n",
      "Epoch 453/500 : trainloss = 0.005575946625322103 valloss = 0.005517122859600931\n"
     ]
    },
    {
     "name": "stderr",
     "output_type": "stream",
     "text": [
      " 91%|█████████ | 456/500 [00:36<00:03, 12.80it/s]"
     ]
    },
    {
     "name": "stdout",
     "output_type": "stream",
     "text": [
      "Epoch 454/500 : trainloss = 0.005699745919555426 valloss = 0.004829288925975561\n",
      "Epoch 455/500 : trainloss = 0.005602146154269576 valloss = 0.006150906556285918\n",
      "Epoch 456/500 : trainloss = 0.005764429317787289 valloss = 0.005800821672892198\n"
     ]
    },
    {
     "name": "stderr",
     "output_type": "stream",
     "text": [
      " 92%|█████████▏| 460/500 [00:36<00:03, 12.01it/s]"
     ]
    },
    {
     "name": "stdout",
     "output_type": "stream",
     "text": [
      "Epoch 457/500 : trainloss = 0.005534271169453859 valloss = 0.005769320239778608\n",
      "Epoch 458/500 : trainloss = 0.005411435449495912 valloss = 0.006177047092933208\n",
      "Epoch 459/500 : trainloss = 0.005317620076239109 valloss = 0.005931874213274568\n"
     ]
    },
    {
     "name": "stderr",
     "output_type": "stream",
     "text": [
      " 93%|█████████▎| 464/500 [00:37<00:02, 13.38it/s]"
     ]
    },
    {
     "name": "stdout",
     "output_type": "stream",
     "text": [
      "Epoch 460/500 : trainloss = 0.00569502517580986 valloss = 0.005957751534879208\n",
      "Epoch 461/500 : trainloss = 0.005590740339830518 valloss = 0.00553152768407017\n",
      "Epoch 462/500 : trainloss = 0.0056993249058723446 valloss = 0.004817956039914861\n",
      "Epoch 463/500 : trainloss = 0.00572247619740665 valloss = 0.0061400007689371705\n"
     ]
    },
    {
     "name": "stderr",
     "output_type": "stream",
     "text": [
      " 93%|█████████▎| 466/500 [00:37<00:02, 12.51it/s]"
     ]
    },
    {
     "name": "stdout",
     "output_type": "stream",
     "text": [
      "Epoch 464/500 : trainloss = 0.005679386127740145 valloss = 0.0044407700770534575\n",
      "Epoch 465/500 : trainloss = 0.005864760857075452 valloss = 0.00548197771422565\n",
      "Epoch 466/500 : trainloss = 0.005475950995460153 valloss = 0.005529627262149006\n"
     ]
    },
    {
     "name": "stderr",
     "output_type": "stream",
     "text": [
      " 94%|█████████▍| 470/500 [00:37<00:02, 12.30it/s]"
     ]
    },
    {
     "name": "stdout",
     "output_type": "stream",
     "text": [
      "Epoch 467/500 : trainloss = 0.005311578735709191 valloss = 0.005617504590190947\n",
      "Epoch 468/500 : trainloss = 0.005343898935243487 valloss = 0.006112721806857735\n",
      "Epoch 469/500 : trainloss = 0.005737220048904419 valloss = 0.005847230553627014\n"
     ]
    },
    {
     "name": "stderr",
     "output_type": "stream",
     "text": [
      " 94%|█████████▍| 472/500 [00:37<00:02, 12.34it/s]"
     ]
    },
    {
     "name": "stdout",
     "output_type": "stream",
     "text": [
      "Epoch 470/500 : trainloss = 0.005586351063102484 valloss = 0.005449579912237823\n",
      "Epoch 471/500 : trainloss = 0.005575245628133416 valloss = 0.005879008094780147\n",
      "Epoch 472/500 : trainloss = 0.005681571941822767 valloss = 0.005001848126994446\n"
     ]
    },
    {
     "name": "stderr",
     "output_type": "stream",
     "text": [
      " 95%|█████████▌| 476/500 [00:38<00:01, 12.99it/s]"
     ]
    },
    {
     "name": "stdout",
     "output_type": "stream",
     "text": [
      "Epoch 473/500 : trainloss = 0.005603510579094291 valloss = 0.004429547901963815\n",
      "Epoch 474/500 : trainloss = 0.005482033779844642 valloss = 0.005498728365637362\n",
      "Epoch 475/500 : trainloss = 0.004972002059221267 valloss = 0.005747166753280908\n"
     ]
    },
    {
     "name": "stderr",
     "output_type": "stream",
     "text": [
      " 96%|█████████▌| 478/500 [00:38<00:01, 12.95it/s]"
     ]
    },
    {
     "name": "stdout",
     "output_type": "stream",
     "text": [
      "Epoch 476/500 : trainloss = 0.005102134859189391 valloss = 0.00515998006449081\n",
      "Epoch 477/500 : trainloss = 0.005485051553696394 valloss = 0.00502192199928686\n",
      "Epoch 478/500 : trainloss = 0.00532536992803216 valloss = 0.0049505259084980935\n"
     ]
    },
    {
     "name": "stderr",
     "output_type": "stream",
     "text": [
      " 96%|█████████▋| 482/500 [00:38<00:01, 13.26it/s]"
     ]
    },
    {
     "name": "stdout",
     "output_type": "stream",
     "text": [
      "Epoch 479/500 : trainloss = 0.005501552456989884 valloss = 0.005036177550209686\n",
      "Epoch 480/500 : trainloss = 0.005667148660868406 valloss = 0.005362972733564675\n",
      "Epoch 481/500 : trainloss = 0.0053292169701308015 valloss = 0.006121544749476016\n"
     ]
    },
    {
     "name": "stderr",
     "output_type": "stream",
     "text": [
      " 97%|█████████▋| 484/500 [00:38<00:01, 13.28it/s]"
     ]
    },
    {
     "name": "stdout",
     "output_type": "stream",
     "text": [
      "Epoch 482/500 : trainloss = 0.005093692624941468 valloss = 0.005207309499382973\n",
      "Epoch 483/500 : trainloss = 0.005731250513345003 valloss = 0.004742726392578334\n",
      "Epoch 484/500 : trainloss = 0.005550243686884642 valloss = 0.0044357541628414765\n"
     ]
    },
    {
     "name": "stderr",
     "output_type": "stream",
     "text": [
      " 97%|█████████▋| 486/500 [00:38<00:01, 13.16it/s]"
     ]
    },
    {
     "name": "stdout",
     "output_type": "stream",
     "text": [
      "Epoch 485/500 : trainloss = 0.005417261738330126 valloss = 0.005723938869778067\n",
      "Epoch 486/500 : trainloss = 0.005272745471447706 valloss = 0.005375038308557123\n"
     ]
    },
    {
     "name": "stderr",
     "output_type": "stream",
     "text": [
      " 98%|█████████▊| 490/500 [00:39<00:00, 12.35it/s]"
     ]
    },
    {
     "name": "stdout",
     "output_type": "stream",
     "text": [
      "Epoch 487/500 : trainloss = 0.0052589051611721515 valloss = 0.005026768616517074\n",
      "Epoch 488/500 : trainloss = 0.005495919305831194 valloss = 0.005931861000135541\n",
      "Epoch 489/500 : trainloss = 0.00534925851970911 valloss = 0.007118735869880766\n"
     ]
    },
    {
     "name": "stderr",
     "output_type": "stream",
     "text": [
      " 98%|█████████▊| 492/500 [00:39<00:00, 12.27it/s]"
     ]
    },
    {
     "name": "stdout",
     "output_type": "stream",
     "text": [
      "Epoch 490/500 : trainloss = 0.005266336500644684 valloss = 0.004566336705465801\n",
      "Epoch 491/500 : trainloss = 0.005416463455185294 valloss = 0.005515888100489974\n",
      "Epoch 492/500 : trainloss = 0.005218507638201118 valloss = 0.005699017783626914\n"
     ]
    },
    {
     "name": "stderr",
     "output_type": "stream",
     "text": [
      " 99%|█████████▉| 496/500 [00:39<00:00, 12.54it/s]"
     ]
    },
    {
     "name": "stdout",
     "output_type": "stream",
     "text": [
      "Epoch 493/500 : trainloss = 0.005275872470811009 valloss = 0.005859183089341968\n",
      "Epoch 494/500 : trainloss = 0.005184132233262062 valloss = 0.005030009197071195\n",
      "Epoch 495/500 : trainloss = 0.005278394883498549 valloss = 0.004976410127710551\n"
     ]
    },
    {
     "name": "stderr",
     "output_type": "stream",
     "text": [
      "100%|█████████▉| 498/500 [00:39<00:00, 12.43it/s]"
     ]
    },
    {
     "name": "stdout",
     "output_type": "stream",
     "text": [
      "Epoch 496/500 : trainloss = 0.005282004987820983 valloss = 0.005048198188887909\n",
      "Epoch 497/500 : trainloss = 0.005336750289425254 valloss = 0.006039006286300719\n",
      "Epoch 498/500 : trainloss = 0.005602539218962192 valloss = 0.005584813887253404\n"
     ]
    },
    {
     "name": "stderr",
     "output_type": "stream",
     "text": [
      "100%|██████████| 500/500 [00:40<00:00, 12.49it/s]"
     ]
    },
    {
     "name": "stdout",
     "output_type": "stream",
     "text": [
      "Epoch 499/500 : trainloss = 0.005326241059228778 valloss = 0.00599820795468986\n"
     ]
    },
    {
     "name": "stderr",
     "output_type": "stream",
     "text": [
      "\n"
     ]
    }
   ],
   "source": [
    "trainer.train(trainloader=trainloader, valloader=valloader)"
   ]
  },
  {
   "cell_type": "code",
   "execution_count": 12,
   "metadata": {},
   "outputs": [
    {
     "data": {
      "image/png": "[encoded data removed]",
      "text/plain": [
       "<Figure size 800x600 with 1 Axes>"
      ]
     },
     "metadata": {},
     "output_type": "display_data"
    }
   ],
   "source": [
    "### Plot the model train and val loss performance ###\n",
    "plt.figure(figsize=(8, 6))\n",
    "### Plot the training loss ###\n",
    "plt.plot(range(500), trainer.history[\"train\"][\"loss\"], label=\"Training Loss\")\n",
    "### Plot the validation loss ###\n",
    "plt.plot(range(500), trainer.history[\"val\"][\"loss\"], label=\"Validation Loss\")\n",
    "plt.xlabel(\"Epochs\")\n",
    "plt.ylabel(\"Loss\")\n",
    "plt.title(\"Training and Validation Loss for VAE for latent dim = 16\")\n",
    "plt.legend()\n",
    "plt.show()"
   ]
  },
  {
   "cell_type": "code",
   "execution_count": null,
   "metadata": {},
   "outputs": [],
   "source": []
  }
 ],
 "metadata": {
  "kernelspec": {
   "display_name": "ml_task",
   "language": "python",
   "name": "python3"
  },
  "language_info": {
   "codemirror_mode": {
    "name": "ipython",
    "version": 3
   },
   "file_extension": ".py",
   "mimetype": "text/x-python",
   "name": "python",
   "nbconvert_exporter": "python",
   "pygments_lexer": "ipython3",
   "version": "3.13.2"
  }
 },
 "nbformat": 4,
 "nbformat_minor": 2
}
