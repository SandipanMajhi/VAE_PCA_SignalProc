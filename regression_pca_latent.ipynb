{
 "cells": [
  {
   "cell_type": "code",
   "execution_count": 1,
   "metadata": {},
   "outputs": [],
   "source": [
    "import torch\n",
    "import numpy as np\n",
    "import pandas as pd\n",
    "\n",
    "import matplotlib.pyplot as plt\n",
    "\n",
    "from Model.model import VAE, RegressionNN \n",
    "from utils.trainer import RegressionTrainer\n",
    "from utils.data import SignalData"
   ]
  },
  {
   "cell_type": "code",
   "execution_count": 2,
   "metadata": {},
   "outputs": [],
   "source": [
    "### Load data and project data using VAE ###\n",
    "device = \"cuda\" if torch.cuda.is_available() else \"cpu\"\n",
    "signal_data = SignalData(csv_file=\"Data/TASK-ML-INTERN.csv\", device = device)\n",
    "signal_data.x = signal_data.project_data(mode = \"PCA\", n_components = 32)\n",
    "signal_data.split_data()\n",
    "trainloader, valloader, testloader = signal_data.create_dataloader(batch_size=32)"
   ]
  },
  {
   "cell_type": "code",
   "execution_count": 3,
   "metadata": {},
   "outputs": [],
   "source": [
    "reg_model = RegressionNN(in_features=32, out_features=1)\n",
    "reg_model = reg_model.to(device)\n",
    "optimizer = torch.optim.Adam(reg_model.parameters(), lr=0.00005)\n",
    "epochs = 700\n",
    "\n",
    "loss_fn = torch.nn.BCELoss()"
   ]
  },
  {
   "cell_type": "code",
   "execution_count": null,
   "metadata": {},
   "outputs": [],
   "source": [
    "trainer = RegressionTrainer(model=reg_model, loss_fn=loss_fn, optimizer=optimizer, epochs = epochs, model_name = \"best_regressor_pca32d\", device = device)"
   ]
  },
  {
   "cell_type": "code",
   "execution_count": 5,
   "metadata": {},
   "outputs": [
    {
     "name": "stderr",
     "output_type": "stream",
     "text": [
      "  1%|          | 5/700 [00:00<00:42, 16.30it/s]"
     ]
    },
    {
     "name": "stdout",
     "output_type": "stream",
     "text": [
      "Epoch 0/700 : trainloss = 0.8622123232254615 valloss = 0.8622750341892242\n",
      "Epoch 1/700 : trainloss = 0.8595825066933265 valloss = 0.8594249784946442\n",
      "Epoch 2/700 : trainloss = 0.8569203019142151 valloss = 0.8564366102218628\n",
      "Epoch 3/700 : trainloss = 0.853958418736091 valloss = 0.8530292809009552\n",
      "Epoch 4/700 : trainloss = 0.850533861380357 valloss = 0.849115401506424\n",
      "Epoch 5/700 : trainloss = 0.8464805621367234 valloss = 0.8447484970092773\n",
      "Epoch 6/700 : trainloss = 0.8421748463924115 valloss = 0.8400319814682007\n"
     ]
    },
    {
     "name": "stderr",
     "output_type": "stream",
     "text": [
      "  2%|▏         | 11/700 [00:00<00:30, 22.93it/s]"
     ]
    },
    {
     "name": "stdout",
     "output_type": "stream",
     "text": [
      "Epoch 7/700 : trainloss = 0.8376002678504357 valloss = 0.8352138102054596\n",
      "Epoch 8/700 : trainloss = 0.8332308714206402 valloss = 0.8303377628326416\n",
      "Epoch 9/700 : trainloss = 0.8284618350175711 valloss = 0.8253538608551025\n",
      "Epoch 10/700 : trainloss = 0.8227435717215905 valloss = 0.8201904296875\n",
      "Epoch 11/700 : trainloss = 0.8189329413267282 valloss = 0.8148261308670044\n",
      "Epoch 12/700 : trainloss = 0.8136712129299457 valloss = 0.8092225193977356\n"
     ]
    },
    {
     "name": "stderr",
     "output_type": "stream",
     "text": [
      "  2%|▏         | 17/700 [00:00<00:26, 25.54it/s]"
     ]
    },
    {
     "name": "stdout",
     "output_type": "stream",
     "text": [
      "Epoch 13/700 : trainloss = 0.8080424666404724 valloss = 0.8034432530403137\n",
      "Epoch 14/700 : trainloss = 0.8029038860247686 valloss = 0.7973800897598267\n",
      "Epoch 15/700 : trainloss = 0.7971355319023132 valloss = 0.7909579277038574\n",
      "Epoch 16/700 : trainloss = 0.7907652304722712 valloss = 0.7842047214508057\n",
      "Epoch 17/700 : trainloss = 0.7845045786637527 valloss = 0.7770339548587799\n",
      "Epoch 18/700 : trainloss = 0.7778028249740601 valloss = 0.7694780230522156\n"
     ]
    },
    {
     "name": "stderr",
     "output_type": "stream",
     "text": [
      "  3%|▎         | 23/700 [00:00<00:25, 27.08it/s]"
     ]
    },
    {
     "name": "stdout",
     "output_type": "stream",
     "text": [
      "Epoch 19/700 : trainloss = 0.7706391352873582 valloss = 0.7615472078323364\n",
      "Epoch 20/700 : trainloss = 0.7630827105962313 valloss = 0.7533106505870819\n",
      "Epoch 21/700 : trainloss = 0.7558181927754328 valloss = 0.7444130182266235\n",
      "Epoch 22/700 : trainloss = 0.7473008724359366 valloss = 0.7349726557731628\n",
      "Epoch 23/700 : trainloss = 0.7378140733792231 valloss = 0.7251451909542084\n",
      "Epoch 24/700 : trainloss = 0.7289831638336182 valloss = 0.7147838771343231\n",
      "Epoch 25/700 : trainloss = 0.7195617419022781 valloss = 0.7042038440704346\n"
     ]
    },
    {
     "name": "stderr",
     "output_type": "stream",
     "text": [
      "  4%|▍         | 30/700 [00:01<00:23, 28.19it/s]"
     ]
    },
    {
     "name": "stdout",
     "output_type": "stream",
     "text": [
      "Epoch 26/700 : trainloss = 0.7097009053597083 valloss = 0.6931197047233582\n",
      "Epoch 27/700 : trainloss = 0.6996553540229797 valloss = 0.6818138062953949\n",
      "Epoch 28/700 : trainloss = 0.6883867245454055 valloss = 0.6701192259788513\n",
      "Epoch 29/700 : trainloss = 0.6783639651078445 valloss = 0.6580060422420502\n",
      "Epoch 30/700 : trainloss = 0.666110621048854 valloss = 0.6456281840801239\n",
      "Epoch 31/700 : trainloss = 0.653669875401717 valloss = 0.6329714059829712\n"
     ]
    },
    {
     "name": "stderr",
     "output_type": "stream",
     "text": [
      "  5%|▌         | 37/700 [00:01<00:22, 29.20it/s]"
     ]
    },
    {
     "name": "stdout",
     "output_type": "stream",
     "text": [
      "Epoch 32/700 : trainloss = 0.6417628572537348 valloss = 0.6198500990867615\n",
      "Epoch 33/700 : trainloss = 0.6310737820772024 valloss = 0.6064347624778748\n",
      "Epoch 34/700 : trainloss = 0.6188330054283142 valloss = 0.59288689494133\n",
      "Epoch 35/700 : trainloss = 0.6051913087184613 valloss = 0.5789942145347595\n",
      "Epoch 36/700 : trainloss = 0.5938979662381686 valloss = 0.5646661221981049\n",
      "Epoch 37/700 : trainloss = 0.5797276359338027 valloss = 0.5501365065574646\n"
     ]
    },
    {
     "name": "stderr",
     "output_type": "stream",
     "text": [
      "  6%|▋         | 45/700 [00:01<00:21, 30.38it/s]"
     ]
    },
    {
     "name": "stdout",
     "output_type": "stream",
     "text": [
      "Epoch 38/700 : trainloss = 0.5650703815313486 valloss = 0.5354821085929871\n",
      "Epoch 39/700 : trainloss = 0.5512506457475516 valloss = 0.5205639600753784\n",
      "Epoch 40/700 : trainloss = 0.5365154697344854 valloss = 0.5056593120098114\n",
      "Epoch 41/700 : trainloss = 0.5236568909425002 valloss = 0.4904157370328903\n",
      "Epoch 42/700 : trainloss = 0.5100567317925967 valloss = 0.47550323605537415\n",
      "Epoch 43/700 : trainloss = 0.4960269515330975 valloss = 0.46041183173656464\n",
      "Epoch 44/700 : trainloss = 0.4774829630668347 valloss = 0.44567935168743134\n"
     ]
    },
    {
     "name": "stderr",
     "output_type": "stream",
     "text": [
      "  7%|▋         | 49/700 [00:01<00:21, 30.22it/s]"
     ]
    },
    {
     "name": "stdout",
     "output_type": "stream",
     "text": [
      "Epoch 45/700 : trainloss = 0.46726377881490266 valloss = 0.43100857734680176\n",
      "Epoch 46/700 : trainloss = 0.45168262261610764 valloss = 0.4165310263633728\n",
      "Epoch 47/700 : trainloss = 0.43771283901654756 valloss = 0.40244530141353607\n",
      "Epoch 48/700 : trainloss = 0.42537576189407933 valloss = 0.3883431702852249\n",
      "Epoch 49/700 : trainloss = 0.4111546209225288 valloss = 0.37445735931396484\n",
      "Epoch 50/700 : trainloss = 0.397035172352424 valloss = 0.3611197918653488\n"
     ]
    },
    {
     "name": "stderr",
     "output_type": "stream",
     "text": [
      "  8%|▊         | 57/700 [00:02<00:21, 29.74it/s]"
     ]
    },
    {
     "name": "stdout",
     "output_type": "stream",
     "text": [
      "Epoch 51/700 : trainloss = 0.3899037792132451 valloss = 0.3479842394590378\n",
      "Epoch 52/700 : trainloss = 0.3741216086424314 valloss = 0.3355910927057266\n",
      "Epoch 53/700 : trainloss = 0.36191170949202317 valloss = 0.3232264816761017\n",
      "Epoch 54/700 : trainloss = 0.3511679997810951 valloss = 0.31146644055843353\n",
      "Epoch 55/700 : trainloss = 0.33856114974388707 valloss = 0.29997125267982483\n",
      "Epoch 56/700 : trainloss = 0.32755468441889835 valloss = 0.2888362556695938\n",
      "Epoch 57/700 : trainloss = 0.3169018076016353 valloss = 0.27823998034000397\n"
     ]
    },
    {
     "name": "stderr",
     "output_type": "stream",
     "text": [
      "  9%|▉         | 63/700 [00:02<00:21, 29.40it/s]"
     ]
    },
    {
     "name": "stdout",
     "output_type": "stream",
     "text": [
      "Epoch 58/700 : trainloss = 0.30777182716589707 valloss = 0.2680920660495758\n",
      "Epoch 59/700 : trainloss = 0.29870840448599595 valloss = 0.2582041472196579\n",
      "Epoch 60/700 : trainloss = 0.2857539470379169 valloss = 0.24928227812051773\n",
      "Epoch 61/700 : trainloss = 0.27817516372754025 valloss = 0.24039214849472046\n",
      "Epoch 62/700 : trainloss = 0.2689251613158446 valloss = 0.2316846400499344\n",
      "Epoch 63/700 : trainloss = 0.2606908403910123 valloss = 0.22347214072942734\n",
      "Epoch 64/700 : trainloss = 0.2543207911344675 valloss = 0.21574222296476364\n"
     ]
    },
    {
     "name": "stderr",
     "output_type": "stream",
     "text": [
      " 10%|█         | 70/700 [00:02<00:21, 29.56it/s]"
     ]
    },
    {
     "name": "stdout",
     "output_type": "stream",
     "text": [
      "Epoch 65/700 : trainloss = 0.24398166170487037 valloss = 0.20856545120477676\n",
      "Epoch 66/700 : trainloss = 0.2372949650654426 valloss = 0.20143049210309982\n",
      "Epoch 67/700 : trainloss = 0.2309440683860045 valloss = 0.19485031813383102\n",
      "Epoch 68/700 : trainloss = 0.2269143152695436 valloss = 0.1886100098490715\n",
      "Epoch 69/700 : trainloss = 0.21701633815581983 valloss = 0.1828244850039482\n",
      "Epoch 70/700 : trainloss = 0.21391885326458857 valloss = 0.17735187709331512\n"
     ]
    },
    {
     "name": "stderr",
     "output_type": "stream",
     "text": [
      " 11%|█         | 76/700 [00:02<00:21, 29.14it/s]"
     ]
    },
    {
     "name": "stdout",
     "output_type": "stream",
     "text": [
      "Epoch 71/700 : trainloss = 0.20665397666967833 valloss = 0.17203253507614136\n",
      "Epoch 72/700 : trainloss = 0.20124244346068457 valloss = 0.16709636896848679\n",
      "Epoch 73/700 : trainloss = 0.19652870068183312 valloss = 0.1624290570616722\n",
      "Epoch 74/700 : trainloss = 0.19164022344809312 valloss = 0.15795667469501495\n",
      "Epoch 75/700 : trainloss = 0.18906899598928598 valloss = 0.1538006067276001\n",
      "Epoch 76/700 : trainloss = 0.18327493048631227 valloss = 0.14977304637432098\n"
     ]
    },
    {
     "name": "stderr",
     "output_type": "stream",
     "text": [
      " 12%|█▏        | 82/700 [00:03<00:23, 26.67it/s]"
     ]
    },
    {
     "name": "stdout",
     "output_type": "stream",
     "text": [
      "Epoch 77/700 : trainloss = 0.17817220091819763 valloss = 0.1460498943924904\n",
      "Epoch 78/700 : trainloss = 0.17524483226812804 valloss = 0.14250578731298447\n",
      "Epoch 79/700 : trainloss = 0.17134193961436933 valloss = 0.1393052116036415\n",
      "Epoch 80/700 : trainloss = 0.16995917489895454 valloss = 0.13621795922517776\n",
      "Epoch 81/700 : trainloss = 0.1648318303319124 valloss = 0.13336917757987976\n"
     ]
    },
    {
     "name": "stderr",
     "output_type": "stream",
     "text": [
      " 13%|█▎        | 88/700 [00:03<00:22, 27.66it/s]"
     ]
    },
    {
     "name": "stdout",
     "output_type": "stream",
     "text": [
      "Epoch 82/700 : trainloss = 0.1622179884176988 valloss = 0.13067080080509186\n",
      "Epoch 83/700 : trainloss = 0.1607059188760244 valloss = 0.12797950208187103\n",
      "Epoch 84/700 : trainloss = 0.15706510211412722 valloss = 0.12565075606107712\n",
      "Epoch 85/700 : trainloss = 0.16058433113189843 valloss = 0.1233113743364811\n",
      "Epoch 86/700 : trainloss = 0.15174955702744997 valloss = 0.12126266211271286\n",
      "Epoch 87/700 : trainloss = 0.15174132986710623 valloss = 0.11928316950798035\n",
      "Epoch 88/700 : trainloss = 0.14713001824342287 valloss = 0.11747343465685844\n"
     ]
    },
    {
     "name": "stderr",
     "output_type": "stream",
     "text": [
      " 13%|█▎        | 94/700 [00:03<00:21, 27.99it/s]"
     ]
    },
    {
     "name": "stdout",
     "output_type": "stream",
     "text": [
      "Epoch 89/700 : trainloss = 0.14516493964653748 valloss = 0.11565177515149117\n",
      "Epoch 90/700 : trainloss = 0.14895833799472222 valloss = 0.11391981318593025\n",
      "Epoch 91/700 : trainloss = 0.1483923362997862 valloss = 0.11228771507740021\n",
      "Epoch 92/700 : trainloss = 0.13916814499176466 valloss = 0.11087506264448166\n",
      "Epoch 93/700 : trainloss = 0.13723033380049926 valloss = 0.10950090363621712\n",
      "Epoch 94/700 : trainloss = 0.13622076694781965 valloss = 0.10809001326560974\n"
     ]
    },
    {
     "name": "stderr",
     "output_type": "stream",
     "text": [
      " 14%|█▍        | 101/700 [00:03<00:21, 28.50it/s]"
     ]
    },
    {
     "name": "stdout",
     "output_type": "stream",
     "text": [
      "Epoch 95/700 : trainloss = 0.1339932640011494 valloss = 0.10673751682043076\n",
      "Epoch 96/700 : trainloss = 0.13236979223214662 valloss = 0.10544635355472565\n",
      "Epoch 97/700 : trainloss = 0.13221324177888724 valloss = 0.10434645786881447\n",
      "Epoch 98/700 : trainloss = 0.13044929676331007 valloss = 0.10329562798142433\n",
      "Epoch 99/700 : trainloss = 0.12969419073600036 valloss = 0.10220656543970108\n",
      "Epoch 100/700 : trainloss = 0.1272347941994667 valloss = 0.10117129236459732\n"
     ]
    },
    {
     "name": "stderr",
     "output_type": "stream",
     "text": [
      " 15%|█▌        | 108/700 [00:03<00:20, 29.49it/s]"
     ]
    },
    {
     "name": "stdout",
     "output_type": "stream",
     "text": [
      "Epoch 101/700 : trainloss = 0.12691521644592285 valloss = 0.10026026517152786\n",
      "Epoch 102/700 : trainloss = 0.12682429529153383 valloss = 0.09941822662949562\n",
      "Epoch 103/700 : trainloss = 0.12626089442234772 valloss = 0.09850946441292763\n",
      "Epoch 104/700 : trainloss = 0.1253523133122004 valloss = 0.09777132421731949\n",
      "Epoch 105/700 : trainloss = 0.12244117317291406 valloss = 0.0969974584877491\n",
      "Epoch 106/700 : trainloss = 0.1216747468480697 valloss = 0.09630021825432777\n",
      "Epoch 107/700 : trainloss = 0.1212982116983487 valloss = 0.09556160122156143\n"
     ]
    },
    {
     "name": "stderr",
     "output_type": "stream",
     "text": [
      " 16%|█▋        | 114/700 [00:04<00:20, 29.19it/s]"
     ]
    },
    {
     "name": "stdout",
     "output_type": "stream",
     "text": [
      "Epoch 108/700 : trainloss = 0.12021579306859237 valloss = 0.09493665769696236\n",
      "Epoch 109/700 : trainloss = 0.12109381476273903 valloss = 0.09431665763258934\n",
      "Epoch 110/700 : trainloss = 0.11828900816348883 valloss = 0.09382301941514015\n",
      "Epoch 111/700 : trainloss = 0.11744059335726958 valloss = 0.09324159845709801\n",
      "Epoch 112/700 : trainloss = 0.11652445449278905 valloss = 0.0927358940243721\n",
      "Epoch 113/700 : trainloss = 0.11722643071642289 valloss = 0.09217962622642517\n",
      "Epoch 114/700 : trainloss = 0.11512835896932162 valloss = 0.09174367412924767\n"
     ]
    },
    {
     "name": "stderr",
     "output_type": "stream",
     "text": [
      " 17%|█▋        | 121/700 [00:04<00:19, 29.06it/s]"
     ]
    },
    {
     "name": "stdout",
     "output_type": "stream",
     "text": [
      "Epoch 115/700 : trainloss = 0.11442001479176375 valloss = 0.09129303321242332\n",
      "Epoch 116/700 : trainloss = 0.1141891648563055 valloss = 0.09085721522569656\n",
      "Epoch 117/700 : trainloss = 0.11278478113504556 valloss = 0.09044936671853065\n",
      "Epoch 118/700 : trainloss = 0.11629093209138283 valloss = 0.09006374701857567\n",
      "Epoch 119/700 : trainloss = 0.11469224840402603 valloss = 0.08966707065701485\n",
      "Epoch 120/700 : trainloss = 0.11342316636672387 valloss = 0.08931325003504753\n"
     ]
    },
    {
     "name": "stderr",
     "output_type": "stream",
     "text": [
      " 18%|█▊        | 127/700 [00:04<00:19, 29.32it/s]"
     ]
    },
    {
     "name": "stdout",
     "output_type": "stream",
     "text": [
      "Epoch 121/700 : trainloss = 0.11125131983023423 valloss = 0.08896857872605324\n",
      "Epoch 122/700 : trainloss = 0.11137242042101346 valloss = 0.08866890892386436\n",
      "Epoch 123/700 : trainloss = 0.11043608733094655 valloss = 0.08831777423620224\n",
      "Epoch 124/700 : trainloss = 0.10949249107104081 valloss = 0.0880698412656784\n",
      "Epoch 125/700 : trainloss = 0.10973580124286506 valloss = 0.08778636157512665\n",
      "Epoch 126/700 : trainloss = 0.11000342781727131 valloss = 0.0875074528157711\n"
     ]
    },
    {
     "name": "stderr",
     "output_type": "stream",
     "text": [
      " 19%|█▉        | 134/700 [00:04<00:18, 29.88it/s]"
     ]
    },
    {
     "name": "stdout",
     "output_type": "stream",
     "text": [
      "Epoch 127/700 : trainloss = 0.10881417531233567 valloss = 0.08723011240363121\n",
      "Epoch 128/700 : trainloss = 0.10781357150811416 valloss = 0.08699775859713554\n",
      "Epoch 129/700 : trainloss = 0.10724864155054092 valloss = 0.08675650134682655\n",
      "Epoch 130/700 : trainloss = 0.10705131607560012 valloss = 0.08648710697889328\n",
      "Epoch 131/700 : trainloss = 0.1071723670913623 valloss = 0.08630414679646492\n",
      "Epoch 132/700 : trainloss = 0.10892115390071502 valloss = 0.08607107773423195\n",
      "Epoch 133/700 : trainloss = 0.10574865742371632 valloss = 0.08587166294455528\n"
     ]
    },
    {
     "name": "stderr",
     "output_type": "stream",
     "text": [
      " 20%|██        | 141/700 [00:05<00:18, 29.69it/s]"
     ]
    },
    {
     "name": "stdout",
     "output_type": "stream",
     "text": [
      "Epoch 134/700 : trainloss = 0.10465584466090569 valloss = 0.08573034778237343\n",
      "Epoch 135/700 : trainloss = 0.10744921805766913 valloss = 0.08556774258613586\n",
      "Epoch 136/700 : trainloss = 0.10535972106915253 valloss = 0.08539656177163124\n",
      "Epoch 137/700 : trainloss = 0.10337351004664715 valloss = 0.08520858734846115\n",
      "Epoch 138/700 : trainloss = 0.10500549467710349 valloss = 0.08506763726472855\n",
      "Epoch 139/700 : trainloss = 0.10338307515932964 valloss = 0.08492596819996834\n",
      "Epoch 140/700 : trainloss = 0.10377165331290318 valloss = 0.08472209423780441\n"
     ]
    },
    {
     "name": "stderr",
     "output_type": "stream",
     "text": [
      " 21%|██        | 145/700 [00:05<00:18, 30.13it/s]"
     ]
    },
    {
     "name": "stdout",
     "output_type": "stream",
     "text": [
      "Epoch 141/700 : trainloss = 0.10402493121532294 valloss = 0.08463883399963379\n",
      "Epoch 142/700 : trainloss = 0.1008145734667778 valloss = 0.0845004990696907\n",
      "Epoch 143/700 : trainloss = 0.10581097579919375 valloss = 0.08440940827131271\n",
      "Epoch 144/700 : trainloss = 0.10301648997343503 valloss = 0.08429527655243874\n",
      "Epoch 145/700 : trainloss = 0.10104717715428425 valloss = 0.08419495075941086\n",
      "Epoch 146/700 : trainloss = 0.10020127491309093 valloss = 0.08408272638916969\n"
     ]
    },
    {
     "name": "stderr",
     "output_type": "stream",
     "text": [
      " 22%|██▏       | 152/700 [00:05<00:20, 27.33it/s]"
     ]
    },
    {
     "name": "stdout",
     "output_type": "stream",
     "text": [
      "Epoch 147/700 : trainloss = 0.10139280357039891 valloss = 0.08398515731096268\n",
      "Epoch 148/700 : trainloss = 0.099359209720905 valloss = 0.0838758535683155\n",
      "Epoch 149/700 : trainloss = 0.09960774074380215 valloss = 0.08377239480614662\n",
      "Epoch 150/700 : trainloss = 0.09910889915548839 valloss = 0.08372726663947105\n",
      "Epoch 151/700 : trainloss = 0.09843962324353364 valloss = 0.08363055437803268\n",
      "Epoch 152/700 : trainloss = 0.09893755700725776 valloss = 0.08349398151040077\n"
     ]
    },
    {
     "name": "stderr",
     "output_type": "stream",
     "text": [
      " 23%|██▎       | 159/700 [00:05<00:19, 28.30it/s]"
     ]
    },
    {
     "name": "stdout",
     "output_type": "stream",
     "text": [
      "Epoch 153/700 : trainloss = 0.10185832129074977 valloss = 0.08342279866337776\n",
      "Epoch 154/700 : trainloss = 0.09840339938035378 valloss = 0.08335988968610764\n",
      "Epoch 155/700 : trainloss = 0.09728331004197781 valloss = 0.08330091461539268\n",
      "Epoch 156/700 : trainloss = 0.0972339126926202 valloss = 0.08324187621474266\n",
      "Epoch 157/700 : trainloss = 0.09791520295234826 valloss = 0.0831720344722271\n",
      "Epoch 158/700 : trainloss = 0.09804173358357869 valloss = 0.08310258761048317\n",
      "Epoch 159/700 : trainloss = 0.09790443571714255 valloss = 0.08301249518990517\n"
     ]
    },
    {
     "name": "stderr",
     "output_type": "stream",
     "text": [
      " 24%|██▎       | 165/700 [00:05<00:18, 28.34it/s]"
     ]
    },
    {
     "name": "stdout",
     "output_type": "stream",
     "text": [
      "Epoch 160/700 : trainloss = 0.09636083646462514 valloss = 0.0829826071858406\n",
      "Epoch 161/700 : trainloss = 0.09767135032094441 valloss = 0.0829448252916336\n",
      "Epoch 162/700 : trainloss = 0.09571354234447846 valloss = 0.08288154006004333\n",
      "Epoch 163/700 : trainloss = 0.09705519303679466 valloss = 0.08283517137169838\n",
      "Epoch 164/700 : trainloss = 0.09539404597419959 valloss = 0.08279991149902344\n",
      "Epoch 165/700 : trainloss = 0.0952295122238306 valloss = 0.08277391269803047\n"
     ]
    },
    {
     "name": "stderr",
     "output_type": "stream",
     "text": [
      " 25%|██▍       | 172/700 [00:06<00:17, 29.38it/s]"
     ]
    },
    {
     "name": "stdout",
     "output_type": "stream",
     "text": [
      "Epoch 166/700 : trainloss = 0.09526005215369739 valloss = 0.08270752802491188\n",
      "Epoch 167/700 : trainloss = 0.10021322736373314 valloss = 0.08261770009994507\n",
      "Epoch 168/700 : trainloss = 0.09724335429760125 valloss = 0.08262454345822334\n",
      "Epoch 169/700 : trainloss = 0.09448920505551192 valloss = 0.08266851305961609\n",
      "Epoch 170/700 : trainloss = 0.09415204622424565 valloss = 0.08267452195286751\n",
      "Epoch 171/700 : trainloss = 0.09361968848567742 valloss = 0.08265219628810883\n",
      "Epoch 172/700 : trainloss = 0.0926500427035185 valloss = 0.08262297883629799\n"
     ]
    },
    {
     "name": "stderr",
     "output_type": "stream",
     "text": [
      " 25%|██▌       | 178/700 [00:06<00:18, 28.86it/s]"
     ]
    },
    {
     "name": "stdout",
     "output_type": "stream",
     "text": [
      "Epoch 173/700 : trainloss = 0.09367308421776845 valloss = 0.08258531987667084\n",
      "Epoch 174/700 : trainloss = 0.09267898047199616 valloss = 0.08258267492055893\n",
      "Epoch 175/700 : trainloss = 0.09350232837291864 valloss = 0.08253555372357368\n",
      "Epoch 176/700 : trainloss = 0.09387136193422171 valloss = 0.08252227306365967\n",
      "Epoch 177/700 : trainloss = 0.09270568392597713 valloss = 0.08248588442802429\n",
      "Epoch 178/700 : trainloss = 0.09202447906136513 valloss = 0.08246778324246407\n"
     ]
    },
    {
     "name": "stderr",
     "output_type": "stream",
     "text": [
      " 26%|██▋       | 184/700 [00:06<00:18, 28.58it/s]"
     ]
    },
    {
     "name": "stdout",
     "output_type": "stream",
     "text": [
      "Epoch 179/700 : trainloss = 0.09477268847135398 valloss = 0.08237652480602264\n",
      "Epoch 180/700 : trainloss = 0.091478542639659 valloss = 0.08242075890302658\n",
      "Epoch 181/700 : trainloss = 0.09190093152798139 valloss = 0.08242017030715942\n",
      "Epoch 182/700 : trainloss = 0.09140493118992218 valloss = 0.08244048058986664\n",
      "Epoch 183/700 : trainloss = 0.09165071409482223 valloss = 0.08241456747055054\n",
      "Epoch 184/700 : trainloss = 0.08996039800919019 valloss = 0.08239248394966125\n"
     ]
    },
    {
     "name": "stderr",
     "output_type": "stream",
     "text": [
      " 27%|██▋       | 190/700 [00:06<00:18, 28.00it/s]"
     ]
    },
    {
     "name": "stdout",
     "output_type": "stream",
     "text": [
      "Epoch 185/700 : trainloss = 0.09766484166567142 valloss = 0.08233620971441269\n",
      "Epoch 186/700 : trainloss = 0.0914271164398927 valloss = 0.0824337750673294\n",
      "Epoch 187/700 : trainloss = 0.09033226680297118 valloss = 0.0824640691280365\n",
      "Epoch 188/700 : trainloss = 0.09278675971122888 valloss = 0.08247469365596771\n",
      "Epoch 189/700 : trainloss = 0.09041361109568523 valloss = 0.08245108276605606\n",
      "Epoch 190/700 : trainloss = 0.0905388117982791 valloss = 0.08246731013059616\n"
     ]
    },
    {
     "name": "stderr",
     "output_type": "stream",
     "text": [
      " 28%|██▊       | 196/700 [00:06<00:17, 28.24it/s]"
     ]
    },
    {
     "name": "stdout",
     "output_type": "stream",
     "text": [
      "Epoch 191/700 : trainloss = 0.08993396162986755 valloss = 0.08245152980089188\n",
      "Epoch 192/700 : trainloss = 0.08899657027079509 valloss = 0.08248620852828026\n",
      "Epoch 193/700 : trainloss = 0.08962754590006974 valloss = 0.08250169828534126\n",
      "Epoch 194/700 : trainloss = 0.08874074484293278 valloss = 0.08245275169610977\n",
      "Epoch 195/700 : trainloss = 0.0885179931154618 valloss = 0.08247615024447441\n",
      "Epoch 196/700 : trainloss = 0.08888505886380489 valloss = 0.0824851393699646\n",
      "Epoch 197/700 : trainloss = 0.09024042406907448 valloss = 0.08249988034367561\n"
     ]
    },
    {
     "name": "stderr",
     "output_type": "stream",
     "text": [
      " 29%|██▉       | 203/700 [00:07<00:17, 28.95it/s]"
     ]
    },
    {
     "name": "stdout",
     "output_type": "stream",
     "text": [
      "Epoch 198/700 : trainloss = 0.09036989252154644 valloss = 0.08250975981354713\n",
      "Epoch 199/700 : trainloss = 0.09185705219323818 valloss = 0.08246656507253647\n",
      "Epoch 200/700 : trainloss = 0.08763982699467586 valloss = 0.0826323889195919\n",
      "Epoch 201/700 : trainloss = 0.08742238609836651 valloss = 0.08262522518634796\n",
      "Epoch 202/700 : trainloss = 0.08624531643895003 valloss = 0.08267304673790932\n",
      "Epoch 203/700 : trainloss = 0.08617157116532326 valloss = 0.08266467601060867\n"
     ]
    },
    {
     "name": "stderr",
     "output_type": "stream",
     "text": [
      " 30%|███       | 210/700 [00:07<00:17, 28.01it/s]"
     ]
    },
    {
     "name": "stdout",
     "output_type": "stream",
     "text": [
      "Epoch 204/700 : trainloss = 0.08582624133962852 valloss = 0.08266940340399742\n",
      "Epoch 205/700 : trainloss = 0.09014950004907754 valloss = 0.08266834169626236\n",
      "Epoch 206/700 : trainloss = 0.0868805764386287 valloss = 0.08278708532452583\n",
      "Epoch 207/700 : trainloss = 0.08890459457269081 valloss = 0.08280379325151443\n",
      "Epoch 208/700 : trainloss = 0.08578131892360173 valloss = 0.08280676230788231\n",
      "Epoch 209/700 : trainloss = 0.08452705007333022 valloss = 0.08278646320104599\n"
     ]
    },
    {
     "name": "stderr",
     "output_type": "stream",
     "text": [
      " 31%|███       | 214/700 [00:07<00:16, 28.65it/s]"
     ]
    },
    {
     "name": "stdout",
     "output_type": "stream",
     "text": [
      "Epoch 210/700 : trainloss = 0.08488016059765449 valloss = 0.08277855440974236\n",
      "Epoch 211/700 : trainloss = 0.08616592362523079 valloss = 0.08283862471580505\n",
      "Epoch 212/700 : trainloss = 0.08937005096903214 valloss = 0.08286157250404358\n",
      "Epoch 213/700 : trainloss = 0.08623073880489056 valloss = 0.08292663469910622\n",
      "Epoch 214/700 : trainloss = 0.08520043068207227 valloss = 0.0829421654343605\n",
      "Epoch 215/700 : trainloss = 0.08595125721051143 valloss = 0.08297142386436462\n",
      "Epoch 216/700 : trainloss = 0.08584000313511261 valloss = 0.0830652080476284\n"
     ]
    },
    {
     "name": "stderr",
     "output_type": "stream",
     "text": [
      " 32%|███▏      | 222/700 [00:07<00:15, 30.59it/s]"
     ]
    },
    {
     "name": "stdout",
     "output_type": "stream",
     "text": [
      "Epoch 217/700 : trainloss = 0.08446067800888649 valloss = 0.08304097503423691\n",
      "Epoch 218/700 : trainloss = 0.08405660866544797 valloss = 0.08307943120598793\n",
      "Epoch 219/700 : trainloss = 0.08603894968445484 valloss = 0.08304938301444054\n",
      "Epoch 220/700 : trainloss = 0.08425937592983246 valloss = 0.08308933675289154\n",
      "Epoch 221/700 : trainloss = 0.0851374755685146 valloss = 0.08315518498420715\n",
      "Epoch 222/700 : trainloss = 0.08527354609507781 valloss = 0.08321793004870415\n",
      "Epoch 223/700 : trainloss = 0.08553264633967327 valloss = 0.08318079262971878\n"
     ]
    },
    {
     "name": "stderr",
     "output_type": "stream",
     "text": [
      " 33%|███▎      | 230/700 [00:08<00:14, 31.45it/s]"
     ]
    },
    {
     "name": "stdout",
     "output_type": "stream",
     "text": [
      "Epoch 224/700 : trainloss = 0.08381039993121074 valloss = 0.08322252705693245\n",
      "Epoch 225/700 : trainloss = 0.0853915332028499 valloss = 0.08324398845434189\n",
      "Epoch 226/700 : trainloss = 0.08336264382188137 valloss = 0.08333705365657806\n",
      "Epoch 227/700 : trainloss = 0.08309992689352769 valloss = 0.08332272991538048\n",
      "Epoch 228/700 : trainloss = 0.0822956427358664 valloss = 0.08338924869894981\n",
      "Epoch 229/700 : trainloss = 0.08226803002449182 valloss = 0.08340156450867653\n",
      "Epoch 230/700 : trainloss = 0.0825570162672263 valloss = 0.08349194750189781\n"
     ]
    },
    {
     "name": "stderr",
     "output_type": "stream",
     "text": [
      " 34%|███▍      | 238/700 [00:08<00:14, 31.08it/s]"
     ]
    },
    {
     "name": "stdout",
     "output_type": "stream",
     "text": [
      "Epoch 231/700 : trainloss = 0.08202228093376526 valloss = 0.08350217714905739\n",
      "Epoch 232/700 : trainloss = 0.08295569224999501 valloss = 0.08348315209150314\n",
      "Epoch 233/700 : trainloss = 0.08233826464185348 valloss = 0.08349866420030594\n",
      "Epoch 234/700 : trainloss = 0.08515059718718895 valloss = 0.08352189883589745\n",
      "Epoch 235/700 : trainloss = 0.08321633476477402 valloss = 0.08362473919987679\n",
      "Epoch 236/700 : trainloss = 0.08208833405604729 valloss = 0.08371926099061966\n",
      "Epoch 237/700 : trainloss = 0.08046319521963596 valloss = 0.08377871289849281\n"
     ]
    },
    {
     "name": "stderr",
     "output_type": "stream",
     "text": [
      " 35%|███▍      | 242/700 [00:08<00:14, 30.78it/s]"
     ]
    },
    {
     "name": "stdout",
     "output_type": "stream",
     "text": [
      "Epoch 238/700 : trainloss = 0.08210950287488791 valloss = 0.08381018415093422\n",
      "Epoch 239/700 : trainloss = 0.08346469872272931 valloss = 0.08382537215948105\n",
      "Epoch 240/700 : trainloss = 0.08239590491239841 valloss = 0.08391528204083443\n",
      "Epoch 241/700 : trainloss = 0.0818237539094228 valloss = 0.08394113183021545\n",
      "Epoch 242/700 : trainloss = 0.08463401920520343 valloss = 0.08396386355161667\n",
      "Epoch 243/700 : trainloss = 0.08326276735617565 valloss = 0.08397817239165306\n"
     ]
    },
    {
     "name": "stderr",
     "output_type": "stream",
     "text": [
      " 36%|███▌      | 250/700 [00:08<00:14, 30.92it/s]"
     ]
    },
    {
     "name": "stdout",
     "output_type": "stream",
     "text": [
      "Epoch 244/700 : trainloss = 0.08103273894924384 valloss = 0.0840955413877964\n",
      "Epoch 245/700 : trainloss = 0.08291680050583985 valloss = 0.08413713425397873\n",
      "Epoch 246/700 : trainloss = 0.08024343074514316 valloss = 0.08416632562875748\n",
      "Epoch 247/700 : trainloss = 0.08294959652882355 valloss = 0.08414379507303238\n",
      "Epoch 248/700 : trainloss = 0.08135795364013085 valloss = 0.08427955955266953\n",
      "Epoch 249/700 : trainloss = 0.07986472231837419 valloss = 0.08430957794189453\n",
      "Epoch 250/700 : trainloss = 0.08114126840463051 valloss = 0.08428645506501198\n"
     ]
    },
    {
     "name": "stderr",
     "output_type": "stream",
     "text": [
      " 36%|███▋      | 254/700 [00:08<00:14, 30.04it/s]"
     ]
    },
    {
     "name": "stdout",
     "output_type": "stream",
     "text": [
      "Epoch 251/700 : trainloss = 0.08093436406208919 valloss = 0.08434920385479927\n",
      "Epoch 252/700 : trainloss = 0.08060493090978035 valloss = 0.08440787717700005\n",
      "Epoch 253/700 : trainloss = 0.07914594073708241 valloss = 0.08441862091422081\n",
      "Epoch 254/700 : trainloss = 0.08051559042472106 valloss = 0.08440963923931122\n",
      "Epoch 255/700 : trainloss = 0.08050977897185546 valloss = 0.08441484719514847\n",
      "Epoch 256/700 : trainloss = 0.07894134435516137 valloss = 0.08446789160370827\n"
     ]
    },
    {
     "name": "stderr",
     "output_type": "stream",
     "text": [
      " 37%|███▋      | 261/700 [00:09<00:15, 28.03it/s]"
     ]
    },
    {
     "name": "stdout",
     "output_type": "stream",
     "text": [
      "Epoch 257/700 : trainloss = 0.07935386523604393 valloss = 0.08449071645736694\n",
      "Epoch 258/700 : trainloss = 0.0809321661408131 valloss = 0.08453493937849998\n",
      "Epoch 259/700 : trainloss = 0.08039868508393948 valloss = 0.08454445004463196\n",
      "Epoch 260/700 : trainloss = 0.08054569506874451 valloss = 0.08463316038250923\n",
      "Epoch 261/700 : trainloss = 0.07852577962554418 valloss = 0.0846482366323471\n",
      "Epoch 262/700 : trainloss = 0.08092944753857759 valloss = 0.084636639803648\n"
     ]
    },
    {
     "name": "stderr",
     "output_type": "stream",
     "text": [
      " 38%|███▊      | 267/700 [00:09<00:16, 26.51it/s]"
     ]
    },
    {
     "name": "stdout",
     "output_type": "stream",
     "text": [
      "Epoch 263/700 : trainloss = 0.07895836234092712 valloss = 0.08466486632823944\n",
      "Epoch 264/700 : trainloss = 0.07894171516482647 valloss = 0.08464612811803818\n",
      "Epoch 265/700 : trainloss = 0.0809089638865911 valloss = 0.08462264016270638\n",
      "Epoch 266/700 : trainloss = 0.07905187228551278 valloss = 0.08462123200297356\n",
      "Epoch 267/700 : trainloss = 0.07824308826373173 valloss = 0.08460434153676033\n",
      "Epoch 268/700 : trainloss = 0.07975745602295949 valloss = 0.08467363566160202\n"
     ]
    },
    {
     "name": "stderr",
     "output_type": "stream",
     "text": [
      " 39%|███▉      | 273/700 [00:09<00:16, 26.13it/s]"
     ]
    },
    {
     "name": "stdout",
     "output_type": "stream",
     "text": [
      "Epoch 269/700 : trainloss = 0.07802712716735326 valloss = 0.08460932597517967\n",
      "Epoch 270/700 : trainloss = 0.07894775701256898 valloss = 0.08460916951298714\n",
      "Epoch 271/700 : trainloss = 0.07879710684602077 valloss = 0.084600780159235\n",
      "Epoch 272/700 : trainloss = 0.08327253048236553 valloss = 0.0845952033996582\n",
      "Epoch 273/700 : trainloss = 0.07840968238619658 valloss = 0.08458975702524185\n",
      "Epoch 274/700 : trainloss = 0.0797198420533767 valloss = 0.08462490141391754\n"
     ]
    },
    {
     "name": "stderr",
     "output_type": "stream",
     "text": [
      " 40%|████      | 280/700 [00:09<00:15, 27.71it/s]"
     ]
    },
    {
     "name": "stdout",
     "output_type": "stream",
     "text": [
      "Epoch 275/700 : trainloss = 0.07917348209481972 valloss = 0.08459379523992538\n",
      "Epoch 276/700 : trainloss = 0.07944148521010692 valloss = 0.08464371412992477\n",
      "Epoch 277/700 : trainloss = 0.0774124852166726 valloss = 0.08468234911561012\n",
      "Epoch 278/700 : trainloss = 0.08004895855601017 valloss = 0.08464276418089867\n",
      "Epoch 279/700 : trainloss = 0.07795663378559627 valloss = 0.08464456722140312\n",
      "Epoch 280/700 : trainloss = 0.07788957827366315 valloss = 0.08465230092406273\n"
     ]
    },
    {
     "name": "stderr",
     "output_type": "stream",
     "text": [
      " 41%|████      | 287/700 [00:10<00:14, 28.83it/s]"
     ]
    },
    {
     "name": "stdout",
     "output_type": "stream",
     "text": [
      "Epoch 281/700 : trainloss = 0.07775990235117766 valloss = 0.08465256541967392\n",
      "Epoch 282/700 : trainloss = 0.08074751381690685 valloss = 0.08465084806084633\n",
      "Epoch 283/700 : trainloss = 0.08084381457704765 valloss = 0.08464787900447845\n",
      "Epoch 284/700 : trainloss = 0.07968722570400971 valloss = 0.0846342034637928\n",
      "Epoch 285/700 : trainloss = 0.07881843900451294 valloss = 0.08456828072667122\n",
      "Epoch 286/700 : trainloss = 0.07738778625543301 valloss = 0.08458678796887398\n",
      "Epoch 287/700 : trainloss = 0.07892439772303288 valloss = 0.08457069844007492\n"
     ]
    },
    {
     "name": "stderr",
     "output_type": "stream",
     "text": [
      " 42%|████▏     | 294/700 [00:10<00:13, 29.90it/s]"
     ]
    },
    {
     "name": "stdout",
     "output_type": "stream",
     "text": [
      "Epoch 288/700 : trainloss = 0.07800098336659946 valloss = 0.08453690633177757\n",
      "Epoch 289/700 : trainloss = 0.08119214670016216 valloss = 0.08460916951298714\n",
      "Epoch 290/700 : trainloss = 0.07748517967187442 valloss = 0.0847090631723404\n",
      "Epoch 291/700 : trainloss = 0.07863945256058986 valloss = 0.08466437831521034\n",
      "Epoch 292/700 : trainloss = 0.08001100472532786 valloss = 0.08461825922131538\n",
      "Epoch 293/700 : trainloss = 0.07629794942644927 valloss = 0.08460106700658798\n",
      "Epoch 294/700 : trainloss = 0.07914598544056599 valloss = 0.08458472415804863\n"
     ]
    },
    {
     "name": "stderr",
     "output_type": "stream",
     "text": [
      " 43%|████▎     | 301/700 [00:10<00:13, 29.34it/s]"
     ]
    },
    {
     "name": "stdout",
     "output_type": "stream",
     "text": [
      "Epoch 295/700 : trainloss = 0.0793627156661107 valloss = 0.08453138917684555\n",
      "Epoch 296/700 : trainloss = 0.07659979680409798 valloss = 0.08456741273403168\n",
      "Epoch 297/700 : trainloss = 0.07913970144895408 valloss = 0.0845378041267395\n",
      "Epoch 298/700 : trainloss = 0.07781136838289407 valloss = 0.08455970883369446\n",
      "Epoch 299/700 : trainloss = 0.07738451459086858 valloss = 0.08461460843682289\n",
      "Epoch 300/700 : trainloss = 0.07705676183104515 valloss = 0.08459729328751564\n"
     ]
    },
    {
     "name": "stderr",
     "output_type": "stream",
     "text": [
      " 44%|████▍     | 308/700 [00:10<00:12, 30.24it/s]"
     ]
    },
    {
     "name": "stdout",
     "output_type": "stream",
     "text": [
      "Epoch 301/700 : trainloss = 0.07818443700671196 valloss = 0.08454497158527374\n",
      "Epoch 302/700 : trainloss = 0.07953959818069752 valloss = 0.08451852947473526\n",
      "Epoch 303/700 : trainloss = 0.07642182306601451 valloss = 0.08445984497666359\n",
      "Epoch 304/700 : trainloss = 0.07956457510590553 valloss = 0.08443169295787811\n",
      "Epoch 305/700 : trainloss = 0.0766047970033609 valloss = 0.08443455025553703\n",
      "Epoch 306/700 : trainloss = 0.07606818412358944 valloss = 0.08438741788268089\n",
      "Epoch 307/700 : trainloss = 0.07662032630581123 valloss = 0.08435641601681709\n"
     ]
    },
    {
     "name": "stderr",
     "output_type": "stream",
     "text": [
      " 45%|████▍     | 312/700 [00:10<00:12, 30.30it/s]"
     ]
    },
    {
     "name": "stdout",
     "output_type": "stream",
     "text": [
      "Epoch 308/700 : trainloss = 0.0775169561115595 valloss = 0.0843558982014656\n",
      "Epoch 309/700 : trainloss = 0.075836049249539 valloss = 0.08428710326552391\n",
      "Epoch 310/700 : trainloss = 0.07736060195244275 valloss = 0.08430197462439537\n",
      "Epoch 311/700 : trainloss = 0.07722533580202323 valloss = 0.0842965804040432\n",
      "Epoch 312/700 : trainloss = 0.07643633651045653 valloss = 0.08427020534873009\n",
      "Epoch 313/700 : trainloss = 0.07799924193666531 valloss = 0.0842507854104042\n",
      "Epoch 314/700 : trainloss = 0.07713520813446778 valloss = 0.08423037827014923\n"
     ]
    },
    {
     "name": "stderr",
     "output_type": "stream",
     "text": [
      " 46%|████▌     | 320/700 [00:11<00:12, 30.14it/s]"
     ]
    },
    {
     "name": "stdout",
     "output_type": "stream",
     "text": [
      "Epoch 315/700 : trainloss = 0.07600818689052875 valloss = 0.08423532545566559\n",
      "Epoch 316/700 : trainloss = 0.07681243264904389 valloss = 0.08424441888928413\n",
      "Epoch 317/700 : trainloss = 0.07802454210244693 valloss = 0.08422955498099327\n",
      "Epoch 318/700 : trainloss = 0.07611410291149066 valloss = 0.08421987295150757\n",
      "Epoch 319/700 : trainloss = 0.07754488547260945 valloss = 0.08421254903078079\n",
      "Epoch 320/700 : trainloss = 0.07648922875523567 valloss = 0.08418722823262215\n"
     ]
    },
    {
     "name": "stderr",
     "output_type": "stream",
     "text": [
      " 47%|████▋     | 327/700 [00:11<00:12, 28.81it/s]"
     ]
    },
    {
     "name": "stdout",
     "output_type": "stream",
     "text": [
      "Epoch 321/700 : trainloss = 0.07483496932456127 valloss = 0.08417465910315514\n",
      "Epoch 322/700 : trainloss = 0.07570345757099298 valloss = 0.08416006714105606\n",
      "Epoch 323/700 : trainloss = 0.07795974870140736 valloss = 0.0841512531042099\n",
      "Epoch 324/700 : trainloss = 0.07767916270173512 valloss = 0.08409764617681503\n",
      "Epoch 325/700 : trainloss = 0.07551484239789155 valloss = 0.08411348611116409\n",
      "Epoch 326/700 : trainloss = 0.07640178931447175 valloss = 0.0840536430478096\n"
     ]
    },
    {
     "name": "stderr",
     "output_type": "stream",
     "text": [
      " 47%|████▋     | 331/700 [00:11<00:12, 29.36it/s]"
     ]
    },
    {
     "name": "stdout",
     "output_type": "stream",
     "text": [
      "Epoch 327/700 : trainloss = 0.07665122300386429 valloss = 0.08408592641353607\n",
      "Epoch 328/700 : trainloss = 0.07742903066369203 valloss = 0.08408072963356972\n",
      "Epoch 329/700 : trainloss = 0.07787906693724486 valloss = 0.08405792340636253\n",
      "Epoch 330/700 : trainloss = 0.07744190698632827 valloss = 0.0840851254761219\n",
      "Epoch 331/700 : trainloss = 0.0751528089436201 valloss = 0.08408216759562492\n",
      "Epoch 332/700 : trainloss = 0.07637772537194766 valloss = 0.08410266414284706\n",
      "Epoch 333/700 : trainloss = 0.07664647927651039 valloss = 0.08407538384199142\n"
     ]
    },
    {
     "name": "stderr",
     "output_type": "stream",
     "text": [
      " 48%|████▊     | 339/700 [00:11<00:11, 30.62it/s]"
     ]
    },
    {
     "name": "stdout",
     "output_type": "stream",
     "text": [
      "Epoch 334/700 : trainloss = 0.07759752840949939 valloss = 0.08401960134506226\n",
      "Epoch 335/700 : trainloss = 0.07674201033436336 valloss = 0.08404920622706413\n",
      "Epoch 336/700 : trainloss = 0.07891799366244903 valloss = 0.08406438678503036\n",
      "Epoch 337/700 : trainloss = 0.07879984493439014 valloss = 0.08401862159371376\n",
      "Epoch 338/700 : trainloss = 0.07832244468423036 valloss = 0.08402294293045998\n",
      "Epoch 339/700 : trainloss = 0.07457118123196639 valloss = 0.08405203744769096\n"
     ]
    },
    {
     "name": "stderr",
     "output_type": "stream",
     "text": [
      " 50%|████▉     | 347/700 [00:12<00:11, 30.26it/s]"
     ]
    },
    {
     "name": "stdout",
     "output_type": "stream",
     "text": [
      "Epoch 340/700 : trainloss = 0.07612150821548241 valloss = 0.08404417708516121\n",
      "Epoch 341/700 : trainloss = 0.07775283146363038 valloss = 0.08400381356477737\n",
      "Epoch 342/700 : trainloss = 0.07592743749801929 valloss = 0.08403323963284492\n",
      "Epoch 343/700 : trainloss = 0.07729462648813541 valloss = 0.08399733901023865\n",
      "Epoch 344/700 : trainloss = 0.07692769227119592 valloss = 0.08399323374032974\n",
      "Epoch 345/700 : trainloss = 0.07547841708247478 valloss = 0.08393131196498871\n",
      "Epoch 346/700 : trainloss = 0.07494769274042203 valloss = 0.08394897356629372\n"
     ]
    },
    {
     "name": "stderr",
     "output_type": "stream",
     "text": [
      " 51%|█████     | 355/700 [00:12<00:10, 32.15it/s]"
     ]
    },
    {
     "name": "stdout",
     "output_type": "stream",
     "text": [
      "Epoch 347/700 : trainloss = 0.076495277766998 valloss = 0.0839112214744091\n",
      "Epoch 348/700 : trainloss = 0.07624178809615281 valloss = 0.0839700698852539\n",
      "Epoch 349/700 : trainloss = 0.07876637148169371 valloss = 0.0839412733912468\n",
      "Epoch 350/700 : trainloss = 0.07557806573235072 valloss = 0.0839010700583458\n",
      "Epoch 351/700 : trainloss = 0.0772461575957445 valloss = 0.08389881253242493\n",
      "Epoch 352/700 : trainloss = 0.07727735718855491 valloss = 0.08389086276292801\n",
      "Epoch 353/700 : trainloss = 0.07758781915673843 valloss = 0.08392812684178352\n",
      "Epoch 354/700 : trainloss = 0.07693777032769643 valloss = 0.08387221395969391\n"
     ]
    },
    {
     "name": "stderr",
     "output_type": "stream",
     "text": [
      " 51%|█████▏    | 359/700 [00:12<00:10, 32.33it/s]"
     ]
    },
    {
     "name": "stdout",
     "output_type": "stream",
     "text": [
      "Epoch 355/700 : trainloss = 0.074383951866856 valloss = 0.08380306512117386\n",
      "Epoch 356/700 : trainloss = 0.07556380388828424 valloss = 0.08380183950066566\n",
      "Epoch 357/700 : trainloss = 0.07639356473317513 valloss = 0.08386560529470444\n",
      "Epoch 358/700 : trainloss = 0.0772561849309848 valloss = 0.08384872227907181\n",
      "Epoch 359/700 : trainloss = 0.07468657138255927 valloss = 0.08385221660137177\n",
      "Epoch 360/700 : trainloss = 0.07690504594491078 valloss = 0.08382446318864822\n",
      "Epoch 361/700 : trainloss = 0.07577923112190686 valloss = 0.08379237353801727\n"
     ]
    },
    {
     "name": "stderr",
     "output_type": "stream",
     "text": [
      " 52%|█████▏    | 367/700 [00:12<00:10, 31.96it/s]"
     ]
    },
    {
     "name": "stdout",
     "output_type": "stream",
     "text": [
      "Epoch 362/700 : trainloss = 0.07547363008444126 valloss = 0.08375696837902069\n",
      "Epoch 363/700 : trainloss = 0.07483083525529274 valloss = 0.08376019820570946\n",
      "Epoch 364/700 : trainloss = 0.07814047428277823 valloss = 0.08373458683490753\n",
      "Epoch 365/700 : trainloss = 0.07530878541561273 valloss = 0.08366866409778595\n",
      "Epoch 366/700 : trainloss = 0.0760882066992613 valloss = 0.08368529379367828\n",
      "Epoch 367/700 : trainloss = 0.07975608769517678 valloss = 0.0836968719959259\n",
      "Epoch 368/700 : trainloss = 0.07611496288042802 valloss = 0.08370491862297058\n"
     ]
    },
    {
     "name": "stderr",
     "output_type": "stream",
     "text": [
      " 54%|█████▎    | 375/700 [00:12<00:10, 31.79it/s]"
     ]
    },
    {
     "name": "stdout",
     "output_type": "stream",
     "text": [
      "Epoch 369/700 : trainloss = 0.07722027886372346 valloss = 0.08362564072012901\n",
      "Epoch 370/700 : trainloss = 0.07652358567485443 valloss = 0.08368236571550369\n",
      "Epoch 371/700 : trainloss = 0.07695859813919434 valloss = 0.08374102041125298\n",
      "Epoch 372/700 : trainloss = 0.07560575438233522 valloss = 0.08361830934882164\n",
      "Epoch 373/700 : trainloss = 0.07477129365389164 valloss = 0.08358504995703697\n",
      "Epoch 374/700 : trainloss = 0.076810161368205 valloss = 0.08355959504842758\n",
      "Epoch 375/700 : trainloss = 0.07561623562987034 valloss = 0.08353033661842346\n"
     ]
    },
    {
     "name": "stderr",
     "output_type": "stream",
     "text": [
      " 55%|█████▍    | 383/700 [00:13<00:10, 31.49it/s]"
     ]
    },
    {
     "name": "stdout",
     "output_type": "stream",
     "text": [
      "Epoch 376/700 : trainloss = 0.07676800311757968 valloss = 0.08358554542064667\n",
      "Epoch 377/700 : trainloss = 0.07705914401091062 valloss = 0.083632942289114\n",
      "Epoch 378/700 : trainloss = 0.0753647699379004 valloss = 0.08364207297563553\n",
      "Epoch 379/700 : trainloss = 0.07495937123894691 valloss = 0.08358267694711685\n",
      "Epoch 380/700 : trainloss = 0.07511378996647321 valloss = 0.08354788646101952\n",
      "Epoch 381/700 : trainloss = 0.07721186285981765 valloss = 0.0835704393684864\n",
      "Epoch 382/700 : trainloss = 0.0760109183879999 valloss = 0.08350993320345879\n"
     ]
    },
    {
     "name": "stderr",
     "output_type": "stream",
     "text": [
      " 55%|█████▌    | 387/700 [00:13<00:09, 31.38it/s]"
     ]
    },
    {
     "name": "stdout",
     "output_type": "stream",
     "text": [
      "Epoch 383/700 : trainloss = 0.0751844492669289 valloss = 0.08348137512803078\n",
      "Epoch 384/700 : trainloss = 0.07616325238576302 valloss = 0.0835270956158638\n",
      "Epoch 385/700 : trainloss = 0.07407735632016109 valloss = 0.08350540697574615\n",
      "Epoch 386/700 : trainloss = 0.07607966833389722 valloss = 0.0834973119199276\n",
      "Epoch 387/700 : trainloss = 0.07757721325525871 valloss = 0.08355884626507759\n",
      "Epoch 388/700 : trainloss = 0.07608403494724861 valloss = 0.08330134302377701\n",
      "Epoch 389/700 : trainloss = 0.0767343663252317 valloss = 0.08339604362845421\n"
     ]
    },
    {
     "name": "stderr",
     "output_type": "stream",
     "text": [
      " 56%|█████▋    | 395/700 [00:13<00:10, 30.21it/s]"
     ]
    },
    {
     "name": "stdout",
     "output_type": "stream",
     "text": [
      "Epoch 390/700 : trainloss = 0.07642034670481315 valloss = 0.08340759947896004\n",
      "Epoch 391/700 : trainloss = 0.07513869954989506 valloss = 0.08336345851421356\n",
      "Epoch 392/700 : trainloss = 0.07530326310258645 valloss = 0.08343999460339546\n",
      "Epoch 393/700 : trainloss = 0.07587947180637947 valloss = 0.08342709019780159\n",
      "Epoch 394/700 : trainloss = 0.0745692545404801 valloss = 0.08344429731369019\n",
      "Epoch 395/700 : trainloss = 0.07467547890085441 valloss = 0.08341312035918236\n"
     ]
    },
    {
     "name": "stderr",
     "output_type": "stream",
     "text": [
      " 57%|█████▋    | 399/700 [00:13<00:10, 28.62it/s]"
     ]
    },
    {
     "name": "stdout",
     "output_type": "stream",
     "text": [
      "Epoch 396/700 : trainloss = 0.07549063288248502 valloss = 0.08342679217457771\n",
      "Epoch 397/700 : trainloss = 0.07526305833688149 valloss = 0.08340121805667877\n",
      "Epoch 398/700 : trainloss = 0.0747271403670311 valloss = 0.08336999639868736\n",
      "Epoch 399/700 : trainloss = 0.07455504198486988 valloss = 0.08341944962739944\n",
      "Epoch 400/700 : trainloss = 0.07553522947889107 valloss = 0.08336370810866356\n",
      "Epoch 401/700 : trainloss = 0.07441812896957764 valloss = 0.08337337896227837\n"
     ]
    },
    {
     "name": "stderr",
     "output_type": "stream",
     "text": [
      " 58%|█████▊    | 406/700 [00:14<00:10, 28.89it/s]"
     ]
    },
    {
     "name": "stdout",
     "output_type": "stream",
     "text": [
      "Epoch 402/700 : trainloss = 0.07616815028282312 valloss = 0.08337727189064026\n",
      "Epoch 403/700 : trainloss = 0.07628873420449403 valloss = 0.08338360115885735\n",
      "Epoch 404/700 : trainloss = 0.07539699455866447 valloss = 0.08335529640316963\n",
      "Epoch 405/700 : trainloss = 0.0755827587384444 valloss = 0.08335855230689049\n",
      "Epoch 406/700 : trainloss = 0.07486737863375591 valloss = 0.08335823193192482\n",
      "Epoch 407/700 : trainloss = 0.07385525651849233 valloss = 0.08337585255503654\n"
     ]
    },
    {
     "name": "stderr",
     "output_type": "stream",
     "text": [
      " 59%|█████▉    | 413/700 [00:14<00:09, 30.35it/s]"
     ]
    },
    {
     "name": "stdout",
     "output_type": "stream",
     "text": [
      "Epoch 408/700 : trainloss = 0.074381573842122 valloss = 0.08331401646137238\n",
      "Epoch 409/700 : trainloss = 0.07615169825462195 valloss = 0.08334066346287727\n",
      "Epoch 410/700 : trainloss = 0.0783013217151165 valloss = 0.08336083963513374\n",
      "Epoch 411/700 : trainloss = 0.07538157787460548 valloss = 0.08329680934548378\n",
      "Epoch 412/700 : trainloss = 0.07427725253196862 valloss = 0.0832710936665535\n",
      "Epoch 413/700 : trainloss = 0.07518353857673131 valloss = 0.08328278735280037\n",
      "Epoch 414/700 : trainloss = 0.07496679946780205 valloss = 0.0832236148416996\n"
     ]
    },
    {
     "name": "stderr",
     "output_type": "stream",
     "text": [
      " 60%|██████    | 421/700 [00:14<00:09, 30.78it/s]"
     ]
    },
    {
     "name": "stdout",
     "output_type": "stream",
     "text": [
      "Epoch 415/700 : trainloss = 0.07352529681072785 valloss = 0.08326927572488785\n",
      "Epoch 416/700 : trainloss = 0.07600503214276753 valloss = 0.08337775990366936\n",
      "Epoch 417/700 : trainloss = 0.07409508325732671 valloss = 0.08334697782993317\n",
      "Epoch 418/700 : trainloss = 0.07656087296513411 valloss = 0.08327518031001091\n",
      "Epoch 419/700 : trainloss = 0.07380932225630833 valloss = 0.08328931406140327\n",
      "Epoch 420/700 : trainloss = 0.07510430193864383 valloss = 0.08331921324133873\n",
      "Epoch 421/700 : trainloss = 0.07575334465274444 valloss = 0.0832449458539486\n"
     ]
    },
    {
     "name": "stderr",
     "output_type": "stream",
     "text": [
      " 61%|██████▏   | 429/700 [00:14<00:08, 33.44it/s]"
     ]
    },
    {
     "name": "stdout",
     "output_type": "stream",
     "text": [
      "Epoch 422/700 : trainloss = 0.07501754107383582 valloss = 0.08322792500257492\n",
      "Epoch 423/700 : trainloss = 0.07548122996321091 valloss = 0.0832374207675457\n",
      "Epoch 424/700 : trainloss = 0.0766711444235765 valloss = 0.083225317299366\n",
      "Epoch 425/700 : trainloss = 0.07849998399615288 valloss = 0.08325352892279625\n",
      "Epoch 426/700 : trainloss = 0.07419015725071613 valloss = 0.08328824490308762\n",
      "Epoch 427/700 : trainloss = 0.0740806099313956 valloss = 0.08320822566747665\n",
      "Epoch 428/700 : trainloss = 0.07412689093213815 valloss = 0.08324010297656059\n",
      "Epoch 429/700 : trainloss = 0.07538270721068749 valloss = 0.08318094909191132\n"
     ]
    },
    {
     "name": "stderr",
     "output_type": "stream",
     "text": [
      " 62%|██████▏   | 437/700 [00:15<00:08, 32.05it/s]"
     ]
    },
    {
     "name": "stdout",
     "output_type": "stream",
     "text": [
      "Epoch 430/700 : trainloss = 0.0760025095481139 valloss = 0.08316292613744736\n",
      "Epoch 431/700 : trainloss = 0.0744210361288144 valloss = 0.08323290944099426\n",
      "Epoch 432/700 : trainloss = 0.07551904595815219 valloss = 0.08323466032743454\n",
      "Epoch 433/700 : trainloss = 0.07482484069008094 valloss = 0.08319796249270439\n",
      "Epoch 434/700 : trainloss = 0.07607047689648774 valloss = 0.08316072076559067\n",
      "Epoch 435/700 : trainloss = 0.07492321672347876 valloss = 0.08312640711665154\n",
      "Epoch 436/700 : trainloss = 0.07389932211775047 valloss = 0.08322667703032494\n"
     ]
    },
    {
     "name": "stderr",
     "output_type": "stream",
     "text": [
      " 63%|██████▎   | 441/700 [00:15<00:07, 33.38it/s]"
     ]
    },
    {
     "name": "stdout",
     "output_type": "stream",
     "text": [
      "Epoch 437/700 : trainloss = 0.07426225308042306 valloss = 0.08315224945545197\n",
      "Epoch 438/700 : trainloss = 0.07497829084212963 valloss = 0.08313970267772675\n",
      "Epoch 439/700 : trainloss = 0.07361059693189767 valloss = 0.08308423310518265\n",
      "Epoch 440/700 : trainloss = 0.07382588403729293 valloss = 0.08315595984458923\n",
      "Epoch 441/700 : trainloss = 0.0743382667692808 valloss = 0.08311138302087784\n",
      "Epoch 442/700 : trainloss = 0.07481743882481869 valloss = 0.08315872773528099\n",
      "Epoch 443/700 : trainloss = 0.07328901568857524 valloss = 0.08310600742697716\n"
     ]
    },
    {
     "name": "stderr",
     "output_type": "stream",
     "text": [
      " 64%|██████▍   | 449/700 [00:15<00:07, 32.12it/s]"
     ]
    },
    {
     "name": "stdout",
     "output_type": "stream",
     "text": [
      "Epoch 444/700 : trainloss = 0.07509952181806931 valloss = 0.08313930407166481\n",
      "Epoch 445/700 : trainloss = 0.07616478233383252 valloss = 0.0830426886677742\n",
      "Epoch 446/700 : trainloss = 0.07592964917421341 valloss = 0.08302988484501839\n",
      "Epoch 447/700 : trainloss = 0.07550047166072406 valloss = 0.08303800225257874\n",
      "Epoch 448/700 : trainloss = 0.07367507139077553 valloss = 0.08311227709054947\n",
      "Epoch 449/700 : trainloss = 0.07325928858839549 valloss = 0.08306419104337692\n",
      "Epoch 450/700 : trainloss = 0.07367696985602379 valloss = 0.08312305435538292\n"
     ]
    },
    {
     "name": "stderr",
     "output_type": "stream",
     "text": [
      " 65%|██████▌   | 457/700 [00:15<00:07, 31.03it/s]"
     ]
    },
    {
     "name": "stdout",
     "output_type": "stream",
     "text": [
      "Epoch 451/700 : trainloss = 0.07671614392445637 valloss = 0.08301998674869537\n",
      "Epoch 452/700 : trainloss = 0.07424095187049645 valloss = 0.0830642431974411\n",
      "Epoch 453/700 : trainloss = 0.07622191883050479 valloss = 0.08302745595574379\n",
      "Epoch 454/700 : trainloss = 0.07361245699799977 valloss = 0.08308945223689079\n",
      "Epoch 455/700 : trainloss = 0.07552938335216962 valloss = 0.08302466571331024\n",
      "Epoch 456/700 : trainloss = 0.07562044291542126 valloss = 0.08302509412169456\n",
      "Epoch 457/700 : trainloss = 0.07717969526465122 valloss = 0.08303828164935112\n"
     ]
    },
    {
     "name": "stderr",
     "output_type": "stream",
     "text": [
      " 66%|██████▋   | 465/700 [00:15<00:07, 31.67it/s]"
     ]
    },
    {
     "name": "stdout",
     "output_type": "stream",
     "text": [
      "Epoch 458/700 : trainloss = 0.07547429891733023 valloss = 0.08301014453172684\n",
      "Epoch 459/700 : trainloss = 0.07552538296351066 valloss = 0.082984309643507\n",
      "Epoch 460/700 : trainloss = 0.0752448966869941 valloss = 0.08304019272327423\n",
      "Epoch 461/700 : trainloss = 0.07484770709505448 valloss = 0.08300177752971649\n",
      "Epoch 462/700 : trainloss = 0.07654382173831646 valloss = 0.08297446742653847\n",
      "Epoch 463/700 : trainloss = 0.0753851759319122 valloss = 0.08295488730072975\n",
      "Epoch 464/700 : trainloss = 0.07609412876459268 valloss = 0.08286699280142784\n"
     ]
    },
    {
     "name": "stderr",
     "output_type": "stream",
     "text": [
      " 67%|██████▋   | 469/700 [00:16<00:07, 29.89it/s]"
     ]
    },
    {
     "name": "stdout",
     "output_type": "stream",
     "text": [
      "Epoch 465/700 : trainloss = 0.07536718134696667 valloss = 0.0828576497733593\n",
      "Epoch 466/700 : trainloss = 0.07543667262563339 valloss = 0.08296918123960495\n",
      "Epoch 467/700 : trainloss = 0.07439459143922879 valloss = 0.08291535824537277\n",
      "Epoch 468/700 : trainloss = 0.07487892330839084 valloss = 0.08289145678281784\n",
      "Epoch 469/700 : trainloss = 0.07808640140753526 valloss = 0.08277099207043648\n",
      "Epoch 470/700 : trainloss = 0.07372392026277688 valloss = 0.08297276496887207\n"
     ]
    },
    {
     "name": "stderr",
     "output_type": "stream",
     "text": [
      " 68%|██████▊   | 477/700 [00:16<00:07, 29.78it/s]"
     ]
    },
    {
     "name": "stdout",
     "output_type": "stream",
     "text": [
      "Epoch 471/700 : trainloss = 0.07434173530110946 valloss = 0.08298034220933914\n",
      "Epoch 472/700 : trainloss = 0.07320568194756141 valloss = 0.08281251415610313\n",
      "Epoch 473/700 : trainloss = 0.07519102583710964 valloss = 0.08284573256969452\n",
      "Epoch 474/700 : trainloss = 0.07316932512017396 valloss = 0.08292831853032112\n",
      "Epoch 475/700 : trainloss = 0.07287754490971565 valloss = 0.0829911008477211\n",
      "Epoch 476/700 : trainloss = 0.07533661562662858 valloss = 0.08293552696704865\n"
     ]
    },
    {
     "name": "stderr",
     "output_type": "stream",
     "text": [
      " 69%|██████▉   | 483/700 [00:16<00:07, 29.41it/s]"
     ]
    },
    {
     "name": "stdout",
     "output_type": "stream",
     "text": [
      "Epoch 477/700 : trainloss = 0.07381437489619622 valloss = 0.08282312750816345\n",
      "Epoch 478/700 : trainloss = 0.07522366482477921 valloss = 0.08277076855301857\n",
      "Epoch 479/700 : trainloss = 0.07367306603835179 valloss = 0.0829683281481266\n",
      "Epoch 480/700 : trainloss = 0.0746882870220221 valloss = 0.08294862881302834\n",
      "Epoch 481/700 : trainloss = 0.07632350663726147 valloss = 0.08283825218677521\n",
      "Epoch 482/700 : trainloss = 0.07401938937031306 valloss = 0.08282391354441643\n",
      "Epoch 483/700 : trainloss = 0.07394358859612392 valloss = 0.08277081325650215\n"
     ]
    },
    {
     "name": "stderr",
     "output_type": "stream",
     "text": [
      " 70%|███████   | 491/700 [00:16<00:06, 31.20it/s]"
     ]
    },
    {
     "name": "stdout",
     "output_type": "stream",
     "text": [
      "Epoch 484/700 : trainloss = 0.07467450344791779 valloss = 0.08284340798854828\n",
      "Epoch 485/700 : trainloss = 0.07304687282213798 valloss = 0.08272325620055199\n",
      "Epoch 486/700 : trainloss = 0.0765841778081197 valloss = 0.08275001123547554\n",
      "Epoch 487/700 : trainloss = 0.07581744085137661 valloss = 0.08280296623706818\n",
      "Epoch 488/700 : trainloss = 0.07376566672554383 valloss = 0.08278032764792442\n",
      "Epoch 489/700 : trainloss = 0.07561472889322501 valloss = 0.08274085447192192\n",
      "Epoch 490/700 : trainloss = 0.07414796891120765 valloss = 0.08279570937156677\n"
     ]
    },
    {
     "name": "stderr",
     "output_type": "stream",
     "text": [
      " 71%|███████   | 495/700 [00:16<00:06, 30.27it/s]"
     ]
    },
    {
     "name": "stdout",
     "output_type": "stream",
     "text": [
      "Epoch 491/700 : trainloss = 0.0740481738287669 valloss = 0.0827380083501339\n",
      "Epoch 492/700 : trainloss = 0.07288745762063907 valloss = 0.08272634446620941\n",
      "Epoch 493/700 : trainloss = 0.07364048522252303 valloss = 0.08271566778421402\n",
      "Epoch 494/700 : trainloss = 0.07326630416970986 valloss = 0.0827312022447586\n",
      "Epoch 495/700 : trainloss = 0.07340415796408287 valloss = 0.08272736147046089\n",
      "Epoch 496/700 : trainloss = 0.07639893746146789 valloss = 0.08274751529097557\n"
     ]
    },
    {
     "name": "stderr",
     "output_type": "stream",
     "text": [
      " 72%|███████▏  | 502/700 [00:17<00:06, 29.06it/s]"
     ]
    },
    {
     "name": "stdout",
     "output_type": "stream",
     "text": [
      "Epoch 497/700 : trainloss = 0.07444353831502107 valloss = 0.08264820650219917\n",
      "Epoch 498/700 : trainloss = 0.07500899181916164 valloss = 0.0827147513628006\n",
      "Epoch 499/700 : trainloss = 0.07402255901923546 valloss = 0.08271044492721558\n",
      "Epoch 500/700 : trainloss = 0.07498749345541 valloss = 0.08273345232009888\n",
      "Epoch 501/700 : trainloss = 0.07546797795937611 valloss = 0.08271218836307526\n",
      "Epoch 502/700 : trainloss = 0.07331297202752186 valloss = 0.08262541890144348\n"
     ]
    },
    {
     "name": "stderr",
     "output_type": "stream",
     "text": [
      " 73%|███████▎  | 508/700 [00:17<00:06, 28.73it/s]"
     ]
    },
    {
     "name": "stdout",
     "output_type": "stream",
     "text": [
      "Epoch 503/700 : trainloss = 0.07395696267485619 valloss = 0.08265071734786034\n",
      "Epoch 504/700 : trainloss = 0.07438417122914241 valloss = 0.08261910825967789\n",
      "Epoch 505/700 : trainloss = 0.07292122880999859 valloss = 0.08264090120792389\n",
      "Epoch 506/700 : trainloss = 0.07571684368527852 valloss = 0.08274558559060097\n",
      "Epoch 507/700 : trainloss = 0.07308026460500863 valloss = 0.08255988731980324\n",
      "Epoch 508/700 : trainloss = 0.07385278980319317 valloss = 0.08254741877317429\n"
     ]
    },
    {
     "name": "stderr",
     "output_type": "stream",
     "text": [
      " 73%|███████▎  | 514/700 [00:17<00:06, 27.64it/s]"
     ]
    },
    {
     "name": "stdout",
     "output_type": "stream",
     "text": [
      "Epoch 509/700 : trainloss = 0.07306968363431784 valloss = 0.08264866098761559\n",
      "Epoch 510/700 : trainloss = 0.07569405980981313 valloss = 0.08269530907273293\n",
      "Epoch 511/700 : trainloss = 0.07789969300994506 valloss = 0.0826980359852314\n",
      "Epoch 512/700 : trainloss = 0.0731648662342475 valloss = 0.08256808295845985\n",
      "Epoch 513/700 : trainloss = 0.07524533225939824 valloss = 0.08267662674188614\n",
      "Epoch 514/700 : trainloss = 0.07353837501544219 valloss = 0.0824686661362648\n"
     ]
    },
    {
     "name": "stderr",
     "output_type": "stream",
     "text": [
      " 74%|███████▍  | 520/700 [00:17<00:06, 27.32it/s]"
     ]
    },
    {
     "name": "stdout",
     "output_type": "stream",
     "text": [
      "Epoch 515/700 : trainloss = 0.07365647617440957 valloss = 0.08243357762694359\n",
      "Epoch 516/700 : trainloss = 0.0770062360052879 valloss = 0.08247542753815651\n",
      "Epoch 517/700 : trainloss = 0.07350751614341369 valloss = 0.08258755132555962\n",
      "Epoch 518/700 : trainloss = 0.07535749014753562 valloss = 0.08270657435059547\n",
      "Epoch 519/700 : trainloss = 0.07410203579526681 valloss = 0.08266900479793549\n",
      "Epoch 520/700 : trainloss = 0.07560075475619389 valloss = 0.08264490589499474\n"
     ]
    },
    {
     "name": "stderr",
     "output_type": "stream",
     "text": [
      " 75%|███████▌  | 527/700 [00:18<00:06, 28.81it/s]"
     ]
    },
    {
     "name": "stdout",
     "output_type": "stream",
     "text": [
      "Epoch 521/700 : trainloss = 0.07381469011306763 valloss = 0.08259941264986992\n",
      "Epoch 522/700 : trainloss = 0.0746749874490958 valloss = 0.08256366476416588\n",
      "Epoch 523/700 : trainloss = 0.0742513439976252 valloss = 0.08260145410895348\n",
      "Epoch 524/700 : trainloss = 0.07354043366817328 valloss = 0.08256665989756584\n",
      "Epoch 525/700 : trainloss = 0.07659517601132393 valloss = 0.08257785812020302\n",
      "Epoch 526/700 : trainloss = 0.07273605122016026 valloss = 0.08258648961782455\n"
     ]
    },
    {
     "name": "stderr",
     "output_type": "stream",
     "text": [
      " 76%|███████▋  | 534/700 [00:18<00:05, 29.46it/s]"
     ]
    },
    {
     "name": "stdout",
     "output_type": "stream",
     "text": [
      "Epoch 527/700 : trainloss = 0.07404365763068199 valloss = 0.08258907869458199\n",
      "Epoch 528/700 : trainloss = 0.07707151455374864 valloss = 0.08264601603150368\n",
      "Epoch 529/700 : trainloss = 0.07323160022497177 valloss = 0.0825275294482708\n",
      "Epoch 530/700 : trainloss = 0.07678923240074745 valloss = 0.08249318227171898\n",
      "Epoch 531/700 : trainloss = 0.07401873285953815 valloss = 0.08272575587034225\n",
      "Epoch 532/700 : trainloss = 0.07456169993831561 valloss = 0.08264197781682014\n",
      "Epoch 533/700 : trainloss = 0.07254026400355193 valloss = 0.08260097727179527\n"
     ]
    },
    {
     "name": "stderr",
     "output_type": "stream",
     "text": [
      " 77%|███████▋  | 541/700 [00:18<00:05, 30.01it/s]"
     ]
    },
    {
     "name": "stdout",
     "output_type": "stream",
     "text": [
      "Epoch 534/700 : trainloss = 0.07499466062738346 valloss = 0.08254054933786392\n",
      "Epoch 535/700 : trainloss = 0.07356601122480172 valloss = 0.0826486311852932\n",
      "Epoch 536/700 : trainloss = 0.07472178053397399 valloss = 0.0826273001730442\n",
      "Epoch 537/700 : trainloss = 0.07267491347514667 valloss = 0.0825754925608635\n",
      "Epoch 538/700 : trainloss = 0.0735978507078611 valloss = 0.08262525126338005\n",
      "Epoch 539/700 : trainloss = 0.07475786111675777 valloss = 0.08259141445159912\n",
      "Epoch 540/700 : trainloss = 0.07273463847545478 valloss = 0.08259093761444092\n"
     ]
    },
    {
     "name": "stderr",
     "output_type": "stream",
     "text": [
      " 78%|███████▊  | 547/700 [00:18<00:05, 29.37it/s]"
     ]
    },
    {
     "name": "stdout",
     "output_type": "stream",
     "text": [
      "Epoch 541/700 : trainloss = 0.07558130300962008 valloss = 0.08255315944552422\n",
      "Epoch 542/700 : trainloss = 0.07373285465515576 valloss = 0.08258814737200737\n",
      "Epoch 543/700 : trainloss = 0.07500807482462662 valloss = 0.08257144689559937\n",
      "Epoch 544/700 : trainloss = 0.07379144802689552 valloss = 0.08254843205213547\n",
      "Epoch 545/700 : trainloss = 0.07301298242348891 valloss = 0.08264744654297829\n",
      "Epoch 546/700 : trainloss = 0.0726906258899432 valloss = 0.08256851509213448\n"
     ]
    },
    {
     "name": "stderr",
     "output_type": "stream",
     "text": [
      " 79%|███████▉  | 554/700 [00:18<00:04, 30.83it/s]"
     ]
    },
    {
     "name": "stdout",
     "output_type": "stream",
     "text": [
      "Epoch 547/700 : trainloss = 0.07477209172569789 valloss = 0.08252779394388199\n",
      "Epoch 548/700 : trainloss = 0.07491421728180005 valloss = 0.08256997168064117\n",
      "Epoch 549/700 : trainloss = 0.07372129020782617 valloss = 0.08261368051171303\n",
      "Epoch 550/700 : trainloss = 0.07383726021418205 valloss = 0.08254790306091309\n",
      "Epoch 551/700 : trainloss = 0.07394120498345448 valloss = 0.082624152302742\n",
      "Epoch 552/700 : trainloss = 0.0760059800858681 valloss = 0.08262090757489204\n",
      "Epoch 553/700 : trainloss = 0.07282478276353616 valloss = 0.08258916437625885\n"
     ]
    },
    {
     "name": "stderr",
     "output_type": "stream",
     "text": [
      " 80%|███████▉  | 558/700 [00:19<00:04, 31.27it/s]"
     ]
    },
    {
     "name": "stdout",
     "output_type": "stream",
     "text": [
      "Epoch 554/700 : trainloss = 0.07568061036559251 valloss = 0.08255103975534439\n",
      "Epoch 555/700 : trainloss = 0.07391891026726136 valloss = 0.0825820192694664\n",
      "Epoch 556/700 : trainloss = 0.07500436758765808 valloss = 0.08247359469532967\n",
      "Epoch 557/700 : trainloss = 0.0741305910050869 valloss = 0.08251037821173668\n",
      "Epoch 558/700 : trainloss = 0.07230168380416356 valloss = 0.0826008953154087\n",
      "Epoch 559/700 : trainloss = 0.07345049713666622 valloss = 0.08254425600171089\n",
      "Epoch 560/700 : trainloss = 0.07352904488260929 valloss = 0.08258999511599541\n"
     ]
    },
    {
     "name": "stderr",
     "output_type": "stream",
     "text": [
      " 81%|████████  | 566/700 [00:19<00:04, 30.10it/s]"
     ]
    },
    {
     "name": "stdout",
     "output_type": "stream",
     "text": [
      "Epoch 561/700 : trainloss = 0.07690486369224694 valloss = 0.0826023630797863\n",
      "Epoch 562/700 : trainloss = 0.0748467780649662 valloss = 0.0825236327946186\n",
      "Epoch 563/700 : trainloss = 0.07286602516586964 valloss = 0.08249054476618767\n",
      "Epoch 564/700 : trainloss = 0.07464337492218384 valloss = 0.0825161300599575\n",
      "Epoch 565/700 : trainloss = 0.0735390458542567 valloss = 0.08252359181642532\n",
      "Epoch 566/700 : trainloss = 0.07305316741649921 valloss = 0.08263086155056953\n"
     ]
    },
    {
     "name": "stderr",
     "output_type": "stream",
     "text": [
      " 82%|████████▏ | 574/700 [00:19<00:04, 30.09it/s]"
     ]
    },
    {
     "name": "stdout",
     "output_type": "stream",
     "text": [
      "Epoch 567/700 : trainloss = 0.07473192192040957 valloss = 0.08251722529530525\n",
      "Epoch 568/700 : trainloss = 0.07517112132448417 valloss = 0.08257392421364784\n",
      "Epoch 569/700 : trainloss = 0.07285411483966388 valloss = 0.08252991363406181\n",
      "Epoch 570/700 : trainloss = 0.07369585277942511 valloss = 0.08255864307284355\n",
      "Epoch 571/700 : trainloss = 0.07291266551384559 valloss = 0.08247590810060501\n",
      "Epoch 572/700 : trainloss = 0.07266250969125675 valloss = 0.08258144930005074\n",
      "Epoch 573/700 : trainloss = 0.0741492764881024 valloss = 0.08253322541713715\n"
     ]
    },
    {
     "name": "stderr",
     "output_type": "stream",
     "text": [
      " 83%|████████▎ | 578/700 [00:19<00:04, 30.21it/s]"
     ]
    },
    {
     "name": "stdout",
     "output_type": "stream",
     "text": [
      "Epoch 574/700 : trainloss = 0.07424190869698158 valloss = 0.08248347789049149\n",
      "Epoch 575/700 : trainloss = 0.07333535013290551 valloss = 0.08258536458015442\n",
      "Epoch 576/700 : trainloss = 0.07455995163092247 valloss = 0.0825681984424591\n",
      "Epoch 577/700 : trainloss = 0.07554363688597313 valloss = 0.08253192901611328\n",
      "Epoch 578/700 : trainloss = 0.07375675439834595 valloss = 0.08252514153718948\n",
      "Epoch 579/700 : trainloss = 0.07343820195931655 valloss = 0.08257593214511871\n"
     ]
    },
    {
     "name": "stderr",
     "output_type": "stream",
     "text": [
      " 84%|████████▎ | 585/700 [00:19<00:04, 28.00it/s]"
     ]
    },
    {
     "name": "stdout",
     "output_type": "stream",
     "text": [
      "Epoch 580/700 : trainloss = 0.07272703229234768 valloss = 0.08254975825548172\n",
      "Epoch 581/700 : trainloss = 0.07274014531419827 valloss = 0.08250072598457336\n",
      "Epoch 582/700 : trainloss = 0.07452600993789159 valloss = 0.08252799138426781\n",
      "Epoch 583/700 : trainloss = 0.0738856580394965 valloss = 0.0825985036790371\n",
      "Epoch 584/700 : trainloss = 0.0715430909051345 valloss = 0.08256543427705765\n",
      "Epoch 585/700 : trainloss = 0.07298204532036415 valloss = 0.08249407634139061\n"
     ]
    },
    {
     "name": "stderr",
     "output_type": "stream",
     "text": [
      " 84%|████████▍ | 591/700 [00:20<00:03, 27.47it/s]"
     ]
    },
    {
     "name": "stdout",
     "output_type": "stream",
     "text": [
      "Epoch 586/700 : trainloss = 0.07415862868611629 valloss = 0.08261243253946304\n",
      "Epoch 587/700 : trainloss = 0.07624693214893341 valloss = 0.08255217224359512\n",
      "Epoch 588/700 : trainloss = 0.07219944464472625 valloss = 0.08261065557599068\n",
      "Epoch 589/700 : trainloss = 0.07534003200439307 valloss = 0.08254167065024376\n",
      "Epoch 590/700 : trainloss = 0.07387864360442528 valloss = 0.0826205164194107\n",
      "Epoch 591/700 : trainloss = 0.07281389717872326 valloss = 0.08254832029342651\n",
      "Epoch 592/700 : trainloss = 0.07513851156601539 valloss = 0.08256161212921143\n"
     ]
    },
    {
     "name": "stderr",
     "output_type": "stream",
     "text": [
      " 85%|████████▌ | 598/700 [00:20<00:03, 27.99it/s]"
     ]
    },
    {
     "name": "stdout",
     "output_type": "stream",
     "text": [
      "Epoch 593/700 : trainloss = 0.0733388584966843 valloss = 0.08247240632772446\n",
      "Epoch 594/700 : trainloss = 0.07319430491098991 valloss = 0.08255038410425186\n",
      "Epoch 595/700 : trainloss = 0.07271258647625263 valloss = 0.08260253444314003\n",
      "Epoch 596/700 : trainloss = 0.07299279106351045 valloss = 0.08257538080215454\n",
      "Epoch 597/700 : trainloss = 0.07203716756059574 valloss = 0.08253392577171326\n",
      "Epoch 598/700 : trainloss = 0.0727678402685202 valloss = 0.0825788713991642\n"
     ]
    },
    {
     "name": "stderr",
     "output_type": "stream",
     "text": [
      " 86%|████████▋ | 605/700 [00:20<00:03, 27.59it/s]"
     ]
    },
    {
     "name": "stdout",
     "output_type": "stream",
     "text": [
      "Epoch 599/700 : trainloss = 0.07207685365126683 valloss = 0.08255244046449661\n",
      "Epoch 600/700 : trainloss = 0.07224196940660477 valloss = 0.08249574527144432\n",
      "Epoch 601/700 : trainloss = 0.07418595311733392 valloss = 0.0825752280652523\n",
      "Epoch 602/700 : trainloss = 0.07479646773292468 valloss = 0.08269164338707924\n",
      "Epoch 603/700 : trainloss = 0.07741511297913697 valloss = 0.08273644372820854\n",
      "Epoch 604/700 : trainloss = 0.0717849015043332 valloss = 0.08260037004947662\n",
      "Epoch 605/700 : trainloss = 0.07186871738387988 valloss = 0.0825064554810524\n"
     ]
    },
    {
     "name": "stderr",
     "output_type": "stream",
     "text": [
      " 87%|████████▋ | 612/700 [00:20<00:02, 29.52it/s]"
     ]
    },
    {
     "name": "stdout",
     "output_type": "stream",
     "text": [
      "Epoch 606/700 : trainloss = 0.07180587718119988 valloss = 0.08259432762861252\n",
      "Epoch 607/700 : trainloss = 0.07479128040946446 valloss = 0.0825793482363224\n",
      "Epoch 608/700 : trainloss = 0.07293362714923345 valloss = 0.08261314034461975\n",
      "Epoch 609/700 : trainloss = 0.07431031792209698 valloss = 0.08257587999105453\n",
      "Epoch 610/700 : trainloss = 0.07394894355764756 valloss = 0.08255743235349655\n",
      "Epoch 611/700 : trainloss = 0.07248651121671383 valloss = 0.08259943500161171\n",
      "Epoch 612/700 : trainloss = 0.07327249159033482 valloss = 0.08256904035806656\n"
     ]
    },
    {
     "name": "stderr",
     "output_type": "stream",
     "text": [
      " 88%|████████▊ | 616/700 [00:21<00:02, 29.41it/s]"
     ]
    },
    {
     "name": "stdout",
     "output_type": "stream",
     "text": [
      "Epoch 613/700 : trainloss = 0.07478660402389672 valloss = 0.08247195929288864\n",
      "Epoch 614/700 : trainloss = 0.07459357696083876 valloss = 0.08259664475917816\n",
      "Epoch 615/700 : trainloss = 0.07523718418983313 valloss = 0.08253426104784012\n",
      "Epoch 616/700 : trainloss = 0.07208255793039615 valloss = 0.08261062577366829\n",
      "Epoch 617/700 : trainloss = 0.07259006654986969 valloss = 0.08268258348107338\n",
      "Epoch 618/700 : trainloss = 0.07231564375643547 valloss = 0.08242752775549889\n"
     ]
    },
    {
     "name": "stderr",
     "output_type": "stream",
     "text": [
      " 89%|████████▉ | 624/700 [00:21<00:02, 30.00it/s]"
     ]
    },
    {
     "name": "stdout",
     "output_type": "stream",
     "text": [
      "Epoch 619/700 : trainloss = 0.07358965908105557 valloss = 0.08248913660645485\n",
      "Epoch 620/700 : trainloss = 0.07240324811293529 valloss = 0.08260411396622658\n",
      "Epoch 621/700 : trainloss = 0.07307722390844272 valloss = 0.0825677402317524\n",
      "Epoch 622/700 : trainloss = 0.07200641586230351 valloss = 0.0825810506939888\n",
      "Epoch 623/700 : trainloss = 0.07282059238507198 valloss = 0.08254370465874672\n",
      "Epoch 624/700 : trainloss = 0.07253968085233982 valloss = 0.08252376317977905\n",
      "Epoch 625/700 : trainloss = 0.07238725658792716 valloss = 0.0825779028236866\n"
     ]
    },
    {
     "name": "stderr",
     "output_type": "stream",
     "text": [
      " 90%|█████████ | 632/700 [00:21<00:02, 31.02it/s]"
     ]
    },
    {
     "name": "stdout",
     "output_type": "stream",
     "text": [
      "Epoch 626/700 : trainloss = 0.07344605401158333 valloss = 0.08247440680861473\n",
      "Epoch 627/700 : trainloss = 0.07194050000264095 valloss = 0.08256286010146141\n",
      "Epoch 628/700 : trainloss = 0.07595784245775296 valloss = 0.08255130052566528\n",
      "Epoch 629/700 : trainloss = 0.0717911459505558 valloss = 0.08248947560787201\n",
      "Epoch 630/700 : trainloss = 0.0728421824482771 valloss = 0.08250005543231964\n",
      "Epoch 631/700 : trainloss = 0.0743129921074097 valloss = 0.08253854140639305\n",
      "Epoch 632/700 : trainloss = 0.07245683440795311 valloss = 0.08264388516545296\n"
     ]
    },
    {
     "name": "stderr",
     "output_type": "stream",
     "text": [
      " 91%|█████████▏| 640/700 [00:21<00:01, 31.25it/s]"
     ]
    },
    {
     "name": "stdout",
     "output_type": "stream",
     "text": [
      "Epoch 633/700 : trainloss = 0.0716981220130737 valloss = 0.08249611407518387\n",
      "Epoch 634/700 : trainloss = 0.07233255155957662 valloss = 0.08248554542660713\n",
      "Epoch 635/700 : trainloss = 0.0725491728920203 valloss = 0.08253366500139236\n",
      "Epoch 636/700 : trainloss = 0.07480462898428623 valloss = 0.08254622668027878\n",
      "Epoch 637/700 : trainloss = 0.07305399958903973 valloss = 0.08258271217346191\n",
      "Epoch 638/700 : trainloss = 0.07550592978413288 valloss = 0.08258652314543724\n",
      "Epoch 639/700 : trainloss = 0.0722618240576524 valloss = 0.08252814412117004\n"
     ]
    },
    {
     "name": "stderr",
     "output_type": "stream",
     "text": [
      " 92%|█████████▏| 644/700 [00:21<00:01, 30.44it/s]"
     ]
    },
    {
     "name": "stdout",
     "output_type": "stream",
     "text": [
      "Epoch 640/700 : trainloss = 0.07308233557985379 valloss = 0.08251902088522911\n",
      "Epoch 641/700 : trainloss = 0.07423391622992662 valloss = 0.0825948491692543\n",
      "Epoch 642/700 : trainloss = 0.07182821832024135 valloss = 0.08248171955347061\n",
      "Epoch 643/700 : trainloss = 0.07274958749230091 valloss = 0.08253929018974304\n",
      "Epoch 644/700 : trainloss = 0.07284274525367297 valloss = 0.08256809040904045\n",
      "Epoch 645/700 : trainloss = 0.07334694380943592 valloss = 0.08254854008555412\n"
     ]
    },
    {
     "name": "stderr",
     "output_type": "stream",
     "text": [
      " 93%|█████████▎| 652/700 [00:22<00:01, 30.15it/s]"
     ]
    },
    {
     "name": "stdout",
     "output_type": "stream",
     "text": [
      "Epoch 646/700 : trainloss = 0.0733550964639737 valloss = 0.0825469009578228\n",
      "Epoch 647/700 : trainloss = 0.07257125268761928 valloss = 0.08251756057143211\n",
      "Epoch 648/700 : trainloss = 0.07206386413711768 valloss = 0.08251719921827316\n",
      "Epoch 649/700 : trainloss = 0.07287755522590417 valloss = 0.08244645223021507\n",
      "Epoch 650/700 : trainloss = 0.07447356186234035 valloss = 0.08250682428479195\n",
      "Epoch 651/700 : trainloss = 0.0759917231133351 valloss = 0.08263649418950081\n",
      "Epoch 652/700 : trainloss = 0.07139827282382892 valloss = 0.0826636329293251\n"
     ]
    },
    {
     "name": "stderr",
     "output_type": "stream",
     "text": [
      " 94%|█████████▍| 660/700 [00:22<00:01, 31.06it/s]"
     ]
    },
    {
     "name": "stdout",
     "output_type": "stream",
     "text": [
      "Epoch 653/700 : trainloss = 0.07242296492824188 valloss = 0.08248669281601906\n",
      "Epoch 654/700 : trainloss = 0.07419358766995944 valloss = 0.08250830322504044\n",
      "Epoch 655/700 : trainloss = 0.07138942153407977 valloss = 0.08263064175844193\n",
      "Epoch 656/700 : trainloss = 0.07300926286440629 valloss = 0.08260548859834671\n",
      "Epoch 657/700 : trainloss = 0.07550719437690881 valloss = 0.08258025348186493\n",
      "Epoch 658/700 : trainloss = 0.0731433297579105 valloss = 0.08237462863326073\n",
      "Epoch 659/700 : trainloss = 0.07119447823900443 valloss = 0.08246409893035889\n"
     ]
    },
    {
     "name": "stderr",
     "output_type": "stream",
     "text": [
      " 95%|█████████▍| 664/700 [00:22<00:01, 30.71it/s]"
     ]
    },
    {
     "name": "stdout",
     "output_type": "stream",
     "text": [
      "Epoch 660/700 : trainloss = 0.07303452405792016 valloss = 0.08256515488028526\n",
      "Epoch 661/700 : trainloss = 0.07341722456308511 valloss = 0.0824616588652134\n",
      "Epoch 662/700 : trainloss = 0.0742082607287627 valloss = 0.08254394680261612\n",
      "Epoch 663/700 : trainloss = 0.07419244171335147 valloss = 0.08252910897135735\n",
      "Epoch 664/700 : trainloss = 0.07140945070064984 valloss = 0.08259950205683708\n",
      "Epoch 665/700 : trainloss = 0.07163946674420284 valloss = 0.08259918913245201\n",
      "Epoch 666/700 : trainloss = 0.07185649642577538 valloss = 0.08249275758862495\n"
     ]
    },
    {
     "name": "stderr",
     "output_type": "stream",
     "text": [
      " 96%|█████████▌| 672/700 [00:22<00:00, 29.59it/s]"
     ]
    },
    {
     "name": "stdout",
     "output_type": "stream",
     "text": [
      "Epoch 667/700 : trainloss = 0.07347323229679695 valloss = 0.08250506594777107\n",
      "Epoch 668/700 : trainloss = 0.0712544617171471 valloss = 0.08250770345330238\n",
      "Epoch 669/700 : trainloss = 0.07177259486455184 valloss = 0.08247076347470284\n",
      "Epoch 670/700 : trainloss = 0.07224994897842407 valloss = 0.08257824555039406\n",
      "Epoch 671/700 : trainloss = 0.0731359041081025 valloss = 0.08247698470950127\n",
      "Epoch 672/700 : trainloss = 0.0756426344697292 valloss = 0.08251909911632538\n"
     ]
    },
    {
     "name": "stderr",
     "output_type": "stream",
     "text": [
      " 97%|█████████▋| 678/700 [00:23<00:00, 27.94it/s]"
     ]
    },
    {
     "name": "stdout",
     "output_type": "stream",
     "text": [
      "Epoch 673/700 : trainloss = 0.07200390444352077 valloss = 0.08254990354180336\n",
      "Epoch 674/700 : trainloss = 0.07218783463423069 valloss = 0.08247124031186104\n",
      "Epoch 675/700 : trainloss = 0.07229531842928666 valloss = 0.08249684050679207\n",
      "Epoch 676/700 : trainloss = 0.07136891724971625 valloss = 0.08252920210361481\n",
      "Epoch 677/700 : trainloss = 0.07350741498745404 valloss = 0.08250415325164795\n",
      "Epoch 678/700 : trainloss = 0.07196529467518513 valloss = 0.082487802952528\n"
     ]
    },
    {
     "name": "stderr",
     "output_type": "stream",
     "text": [
      " 98%|█████████▊| 684/700 [00:23<00:00, 27.96it/s]"
     ]
    },
    {
     "name": "stdout",
     "output_type": "stream",
     "text": [
      "Epoch 679/700 : trainloss = 0.07404120925527352 valloss = 0.08254443109035492\n",
      "Epoch 680/700 : trainloss = 0.07163133099675179 valloss = 0.08248673751950264\n",
      "Epoch 681/700 : trainloss = 0.07403554050968243 valloss = 0.08254890888929367\n",
      "Epoch 682/700 : trainloss = 0.0729348725424363 valloss = 0.0825682170689106\n",
      "Epoch 683/700 : trainloss = 0.07287414457935554 valloss = 0.08252888917922974\n",
      "Epoch 684/700 : trainloss = 0.07406764420179221 valloss = 0.0825384333729744\n"
     ]
    },
    {
     "name": "stderr",
     "output_type": "stream",
     "text": [
      " 99%|█████████▊| 690/700 [00:23<00:00, 26.60it/s]"
     ]
    },
    {
     "name": "stdout",
     "output_type": "stream",
     "text": [
      "Epoch 685/700 : trainloss = 0.07362246914551808 valloss = 0.08245779946446419\n",
      "Epoch 686/700 : trainloss = 0.07107046762338051 valloss = 0.08251893892884254\n",
      "Epoch 687/700 : trainloss = 0.07393547090200278 valloss = 0.08250731229782104\n",
      "Epoch 688/700 : trainloss = 0.07267630587403591 valloss = 0.0825980193912983\n",
      "Epoch 689/700 : trainloss = 0.07329170893018062 valloss = 0.08248073235154152\n"
     ]
    },
    {
     "name": "stderr",
     "output_type": "stream",
     "text": [
      " 99%|█████████▉| 696/700 [00:23<00:00, 26.12it/s]"
     ]
    },
    {
     "name": "stdout",
     "output_type": "stream",
     "text": [
      "Epoch 690/700 : trainloss = 0.07163160982040259 valloss = 0.08244021236896515\n",
      "Epoch 691/700 : trainloss = 0.07297224150254177 valloss = 0.08242136612534523\n",
      "Epoch 692/700 : trainloss = 0.07302948431326793 valloss = 0.08264315500855446\n",
      "Epoch 693/700 : trainloss = 0.07227248985033768 valloss = 0.08271878212690353\n",
      "Epoch 694/700 : trainloss = 0.07200650240366276 valloss = 0.08248801156878471\n",
      "Epoch 695/700 : trainloss = 0.07099931400555831 valloss = 0.08243846148252487\n"
     ]
    },
    {
     "name": "stderr",
     "output_type": "stream",
     "text": [
      "100%|██████████| 700/700 [00:23<00:00, 29.18it/s]"
     ]
    },
    {
     "name": "stdout",
     "output_type": "stream",
     "text": [
      "Epoch 696/700 : trainloss = 0.07524571080620472 valloss = 0.0825151801109314\n",
      "Epoch 697/700 : trainloss = 0.07757378885379204 valloss = 0.08253633603453636\n",
      "Epoch 698/700 : trainloss = 0.07289023783344489 valloss = 0.08247752487659454\n",
      "Epoch 699/700 : trainloss = 0.07127860704293618 valloss = 0.08251190558075905\n"
     ]
    },
    {
     "name": "stderr",
     "output_type": "stream",
     "text": [
      "\n"
     ]
    }
   ],
   "source": [
    "trainer.train(trainloader=trainloader, valloader=valloader)"
   ]
  },
  {
   "cell_type": "code",
   "execution_count": 6,
   "metadata": {},
   "outputs": [
    {
     "data": {
      "image/png": "[encoded data removed]",
      "text/plain": [
       "<Figure size 800x600 with 1 Axes>"
      ]
     },
     "metadata": {},
     "output_type": "display_data"
    }
   ],
   "source": [
    "plt.figure(figsize=(8, 6))\n",
    "### Plot the training loss ###\n",
    "plt.plot(range(700), trainer.history[\"train\"][\"loss\"], label=\"Training Loss\")\n",
    "### Plot the validation loss ###\n",
    "plt.plot(range(700), trainer.history[\"val\"][\"loss\"], label=\"Validation Loss\")\n",
    "plt.xlabel(\"Epochs\")\n",
    "plt.ylabel(\"Loss\")\n",
    "plt.title(\"Training and Validation Loss for regression with for PCA latent dim = 32\")\n",
    "plt.legend()\n",
    "plt.show()"
   ]
  },
  {
   "cell_type": "code",
   "execution_count": 7,
   "metadata": {},
   "outputs": [],
   "source": [
    "### Load best Regression VAE model ###\n",
    "best_reg = RegressionNN(in_features=32, out_features=1)\n",
    "best_reg = best_reg.to(device)\n",
    "best_reg.load_state_dict(torch.load(\"Checkpoints/best_regressor_pca32d.pt\", weights_only=True))\n",
    "best_reg.eval()\n",
    "\n",
    "_, testloss = trainer.predict(model=best_reg, testloader=testloader)"
   ]
  },
  {
   "cell_type": "code",
   "execution_count": 8,
   "metadata": {},
   "outputs": [
    {
     "name": "stdout",
     "output_type": "stream",
     "text": [
      "Test Set Loss = 0.18186313658952713\n"
     ]
    }
   ],
   "source": [
    "print(f\"Test Set Loss = {testloss}\")"
   ]
  },
  {
   "cell_type": "code",
   "execution_count": null,
   "metadata": {},
   "outputs": [],
   "source": []
  }
 ],
 "metadata": {
  "kernelspec": {
   "display_name": "ml_task",
   "language": "python",
   "name": "python3"
  },
  "language_info": {
   "codemirror_mode": {
    "name": "ipython",
    "version": 3
   },
   "file_extension": ".py",
   "mimetype": "text/x-python",
   "name": "python",
   "nbconvert_exporter": "python",
   "pygments_lexer": "ipython3",
   "version": "3.13.2"
  }
 },
 "nbformat": 4,
 "nbformat_minor": 2
}
